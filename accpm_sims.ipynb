{
 "cells": [
  {
   "cell_type": "code",
   "execution_count": 1,
   "metadata": {},
   "outputs": [],
   "source": [
    "from generate_intervals import generate_uniform_intervals, generate_gaussian_intervals\n",
    "from cutting_plane import solve_problem as cutting_plane_solve_problem\n",
    "from generate_intervals import *\n",
    "from accpm import solve_problem as accpm_solve_problem"
   ]
  },
  {
   "cell_type": "code",
   "execution_count": 2,
   "metadata": {},
   "outputs": [],
   "source": [
    "I = generate_uniform_intervals(200)\n",
    "I.sort(key=lambda x: x[0], reverse=True)\n",
    "k = 20"
   ]
  },
  {
   "cell_type": "code",
   "execution_count": null,
   "metadata": {},
   "outputs": [
    {
     "name": "stdout",
     "output_type": "stream",
     "text": [
      "Pruned 93 intervals. Solving with n=107, k=20.\n",
      "Setting initial lower bound to 0.\n",
      "Using symmetry breaking. Number of decision vars: 37.\n",
      "Added initial monotonicity constraints: 33 from 4 chains.\n",
      "Iteration 0: Added 21 constraints, total cuts: 21, active cuts: 21, v_UB= 20.0000, v_LB=0.0000.\n",
      "Iteration 10: Added 0 constraints, total cuts: 31, active cuts: 21, v_UB= 20.0000, v_LB=2.0220.\n",
      "Iteration 20: Added 0 constraints, total cuts: 41, active cuts: 21, v_UB= 16.1879, v_LB=3.2434.\n",
      "Iteration 30: Added 0 constraints, total cuts: 51, active cuts: 21, v_UB= 13.1060, v_LB=4.0604.\n",
      "Iteration 40: Added 0 constraints, total cuts: 61, active cuts: 21, v_UB= 11.3512, v_LB=4.6501.\n",
      "Iteration 50: Added 0 constraints, total cuts: 71, active cuts: 21, v_UB= 10.2920, v_LB=5.0979.\n",
      "Iteration 60: Added 0 constraints, total cuts: 81, active cuts: 22, v_UB= 9.3827, v_LB=5.4171.\n",
      "Iteration 70: Added 0 constraints, total cuts: 91, active cuts: 23, v_UB= 8.7426, v_LB=5.6521.\n",
      "Iteration 80: Added 0 constraints, total cuts: 101, active cuts: 24, v_UB= 8.2068, v_LB=5.8411.\n",
      "Iteration 90: Added 0 constraints, total cuts: 111, active cuts: 24, v_UB= 7.9288, v_LB=6.0003.\n",
      "Iteration 100: Added 0 constraints, total cuts: 121, active cuts: 24, v_UB= 7.7178, v_LB=6.1306.\n",
      "Iteration 110: Added 0 constraints, total cuts: 131, active cuts: 25, v_UB= 7.5271, v_LB=6.2273.\n",
      "Iteration 120: Added 0 constraints, total cuts: 141, active cuts: 26, v_UB= 7.3454, v_LB=6.3029.\n",
      "Iteration 130: Added 0 constraints, total cuts: 151, active cuts: 28, v_UB= 7.2089, v_LB=6.3583.\n",
      "Iteration 140: Added 0 constraints, total cuts: 161, active cuts: 29, v_UB= 7.0841, v_LB=6.4080.\n",
      "Iteration 150: Added 0 constraints, total cuts: 171, active cuts: 31, v_UB= 6.9877, v_LB=6.4423.\n",
      "Iteration 160: Added 0 constraints, total cuts: 181, active cuts: 31, v_UB= 6.9312, v_LB=6.4776.\n",
      "Iteration 170: Added 0 constraints, total cuts: 191, active cuts: 32, v_UB= 6.8529, v_LB=6.5019.\n",
      "Iteration 180: Added 0 constraints, total cuts: 201, active cuts: 33, v_UB= 6.8082, v_LB=6.5217.\n",
      "Iteration 190: Added 0 constraints, total cuts: 211, active cuts: 33, v_UB= 6.7722, v_LB=6.5398.\n",
      "Iteration 200: Added 0 constraints, total cuts: 221, active cuts: 33, v_UB= 6.7417, v_LB=6.5544.\n",
      "Iteration 210: Added 0 constraints, total cuts: 231, active cuts: 34, v_UB= 6.7149, v_LB=6.5649.\n",
      "Iteration 220: Added 0 constraints, total cuts: 241, active cuts: 34, v_UB= 6.6947, v_LB=6.5744.\n",
      "Iteration 230: Added 0 constraints, total cuts: 251, active cuts: 35, v_UB= 6.6771, v_LB=6.5812.\n",
      "Iteration 240: Added 0 constraints, total cuts: 261, active cuts: 35, v_UB= 6.6667, v_LB=6.5873.\n",
      "Iteration 250: Added 0 constraints, total cuts: 271, active cuts: 35, v_UB= 6.6564, v_LB=6.5923.\n",
      "Iteration 260: Added 0 constraints, total cuts: 281, active cuts: 35, v_UB= 6.6460, v_LB=6.5963.\n",
      "Iteration 270: Added 0 constraints, total cuts: 291, active cuts: 35, v_UB= 6.6396, v_LB=6.5995.\n",
      "Iteration 280: Added 0 constraints, total cuts: 301, active cuts: 35, v_UB= 6.6353, v_LB=6.6022.\n",
      "Iteration 290: Added 0 constraints, total cuts: 311, active cuts: 35, v_UB= 6.6325, v_LB=6.6043.\n",
      "Iteration 300: Added 0 constraints, total cuts: 321, active cuts: 35, v_UB= 6.6280, v_LB=6.6060.\n",
      "Iteration 310: Added 0 constraints, total cuts: 331, active cuts: 35, v_UB= 6.6201, v_LB=6.6074.\n",
      "Iteration 320: Added 0 constraints, total cuts: 341, active cuts: 35, v_UB= 6.6151, v_LB=6.6085.\n",
      "Iteration 330: Added 0 constraints, total cuts: 351, active cuts: 35, v_UB= 6.6121, v_LB=6.6094.\n",
      "Iteration 334: Added 0 constraints, total cuts: 355, active cuts: 35, v_UB= 6.5911, v_LB=6.6097.\n"
     ]
    }
   ],
   "source": [
    "p,v,info = accpm_solve_problem(I, k, verbose=True,\n",
    "                                use_symmetry=True, add_monotonicity_constraints=True,\n",
    "                                print_iter=10, max_cuts_per_iter=None, drop_cut_limit=None,\n",
    "                                upper_bound_method='slack_vars', solve_LP_iter=None)"
   ]
  },
  {
   "cell_type": "code",
   "execution_count": 6,
   "metadata": {},
   "outputs": [
    {
     "name": "stdout",
     "output_type": "stream",
     "text": [
      "v 6.609705671979134\n"
     ]
    }
   ],
   "source": [
    "print(\"v\", v)"
   ]
  },
  {
   "cell_type": "code",
   "execution_count": 7,
   "metadata": {},
   "outputs": [
    {
     "name": "stdout",
     "output_type": "stream",
     "text": [
      "Pruned 93 intervals. Solving with n=107, k=20.\n",
      "Setting initial lower bound to 0.\n",
      "Using symmetry breaking. Number of decision vars: 37.\n",
      "Added initial monotonicity constraints: 33 from 4 chains.\n",
      "Iteration 0: Added 21 constraints, total cuts: 21, active cuts: 21, v_UB= 20.0000, v_LB=0.0000.\n",
      "Iteration 10: Added 0 constraints, total cuts: 31, active cuts: 21, v_UB= 7.1492, v_LB=2.0220.\n",
      "Iteration 20: Added 0 constraints, total cuts: 41, active cuts: 21, v_UB= 7.1492, v_LB=3.2434.\n",
      "Iteration 30: Added 0 constraints, total cuts: 51, active cuts: 21, v_UB= 7.1492, v_LB=4.0604.\n",
      "Iteration 40: Added 0 constraints, total cuts: 61, active cuts: 21, v_UB= 7.1492, v_LB=4.6501.\n",
      "Iteration 50: Added 0 constraints, total cuts: 71, active cuts: 21, v_UB= 7.1492, v_LB=5.0979.\n",
      "Iteration 60: Added 0 constraints, total cuts: 81, active cuts: 22, v_UB= 7.1146, v_LB=5.4171.\n",
      "Iteration 70: Added 0 constraints, total cuts: 91, active cuts: 23, v_UB= 6.9916, v_LB=5.6521.\n",
      "Iteration 80: Added 0 constraints, total cuts: 101, active cuts: 24, v_UB= 6.8297, v_LB=5.8411.\n",
      "Iteration 90: Added 0 constraints, total cuts: 111, active cuts: 24, v_UB= 6.8297, v_LB=6.0003.\n",
      "Iteration 100: Added 0 constraints, total cuts: 121, active cuts: 24, v_UB= 6.8297, v_LB=6.1306.\n",
      "Iteration 110: Added 0 constraints, total cuts: 131, active cuts: 25, v_UB= 6.7523, v_LB=6.2273.\n",
      "Iteration 120: Added 0 constraints, total cuts: 141, active cuts: 26, v_UB= 6.7192, v_LB=6.3029.\n",
      "Iteration 130: Added 0 constraints, total cuts: 151, active cuts: 28, v_UB= 6.7108, v_LB=6.3583.\n",
      "Iteration 140: Added 0 constraints, total cuts: 161, active cuts: 29, v_UB= 6.6714, v_LB=6.4080.\n",
      "Iteration 150: Added 0 constraints, total cuts: 171, active cuts: 31, v_UB= 6.6574, v_LB=6.4423.\n",
      "Iteration 160: Added 0 constraints, total cuts: 181, active cuts: 31, v_UB= 6.6574, v_LB=6.4776.\n",
      "Iteration 170: Added 0 constraints, total cuts: 191, active cuts: 32, v_UB= 6.6200, v_LB=6.5019.\n",
      "Iteration 180: Added 0 constraints, total cuts: 201, active cuts: 33, v_UB= 6.6200, v_LB=6.5217.\n",
      "Iteration 190: Added 0 constraints, total cuts: 211, active cuts: 33, v_UB= 6.6200, v_LB=6.5398.\n",
      "Iteration 200: Added 0 constraints, total cuts: 221, active cuts: 33, v_UB= 6.6200, v_LB=6.5544.\n",
      "Iteration 210: Added 0 constraints, total cuts: 231, active cuts: 34, v_UB= 6.6165, v_LB=6.5649.\n",
      "Iteration 220: Added 0 constraints, total cuts: 241, active cuts: 34, v_UB= 6.6165, v_LB=6.5744.\n",
      "Iteration 230: Added 0 constraints, total cuts: 251, active cuts: 35, v_UB= 6.6131, v_LB=6.6131.\n"
     ]
    }
   ],
   "source": [
    "p,v,info = accpm_solve_problem(I, k, verbose=True,\n",
    "                                use_symmetry=True, add_monotonicity_constraints=True,\n",
    "                                print_iter=10, max_cuts_per_iter=None,\n",
    "                                upper_bound_method='slack_vars', solve_LP_iter=10)"
   ]
  },
  {
   "cell_type": "code",
   "execution_count": 8,
   "metadata": {},
   "outputs": [
    {
     "name": "stdout",
     "output_type": "stream",
     "text": [
      "v 6.613130226012088\n"
     ]
    }
   ],
   "source": [
    "print(\"v\", v)"
   ]
  },
  {
   "cell_type": "code",
   "execution_count": 9,
   "metadata": {},
   "outputs": [
    {
     "name": "stdout",
     "output_type": "stream",
     "text": [
      "Pruned 93 intervals. Solving with n=107, k=20.\n",
      "Using symmetry breaking. Number of decision vars: 37.\n",
      "Added initial monotonicity constraints: 33 from 4 chains.\n",
      "Iteration 0: Added 20 constraints, total cuts: 20, v_UB= 19.0233.\n",
      "Iteration 6: Added 0 constraints, total cuts: 53, v_UB= 6.6131.\n"
     ]
    }
   ],
   "source": [
    "p,v,info = cutting_plane_solve_problem(I, k, verbose=True, use_symmetry=True, add_monotonicity_constraints=True, \n",
    "                                       max_cuts_per_iter=None)"
   ]
  },
  {
   "cell_type": "code",
   "execution_count": 10,
   "metadata": {},
   "outputs": [
    {
     "name": "stdout",
     "output_type": "stream",
     "text": [
      "v 6.613130226012086\n"
     ]
    }
   ],
   "source": [
    "print(\"v\", v)"
   ]
  }
 ],
 "metadata": {
  "kernelspec": {
   "display_name": "analysis",
   "language": "python",
   "name": "python3"
  },
  "language_info": {
   "codemirror_mode": {
    "name": "ipython",
    "version": 3
   },
   "file_extension": ".py",
   "mimetype": "text/x-python",
   "name": "python",
   "nbconvert_exporter": "python",
   "pygments_lexer": "ipython3",
   "version": "3.11.4"
  }
 },
 "nbformat": 4,
 "nbformat_minor": 2
}
