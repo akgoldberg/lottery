{
 "cells": [
  {
   "cell_type": "code",
   "execution_count": 1,
   "metadata": {},
   "outputs": [],
   "source": [
    "from generate_intervals import generate_uniform_intervals, generate_gaussian_intervals\n",
    "from cutting_plane import solve_problem as cutting_plane_solve_problem\n",
    "from generate_intervals import *\n",
    "from accpm import solve_problem as accpm_solve_problem"
   ]
  },
  {
   "cell_type": "code",
   "execution_count": null,
   "metadata": {},
   "outputs": [],
   "source": [
    "I = generate_uniform_intervals(20)\n",
    "I.sort(key=lambda x: x[0], reverse=True)\n",
    "k = 5"
   ]
  },
  {
   "cell_type": "code",
   "execution_count": 3,
   "metadata": {},
   "outputs": [
    {
     "name": "stdout",
     "output_type": "stream",
     "text": [
      "Pruned 2 intervals. Solving with n=18, k=5.\n",
      "Using symmetry breaking. Number of decision vars: 6.\n",
      "Added initial monotonicity constraints: 4 from 2 chains.\n",
      "Iteration 0: Added 1 constraints, total cuts: 1, v_UB= 1.9231, v_LB=0.0000.\n",
      "Iteration 10: Added 0 constraints, total cuts: 11, v_UB= 1.3889, v_LB=1.3057.\n",
      "Iteration 20: Added 0 constraints, total cuts: 21, v_UB= 1.3889, v_LB=1.3840.\n",
      "Iteration 30: Added 0 constraints, total cuts: 31, v_UB= 1.3889, v_LB=1.3886.\n",
      "Iteration 40: Added 0 constraints, total cuts: 41, v_UB= 1.3889, v_LB=1.3889.\n",
      "Iteration 42: Added 0 constraints, total cuts: 43, v_UB= 1.3889, v_LB=1.3889.\n"
     ]
    }
   ],
   "source": [
    "p,v,info = accpm_solve_problem(I, k, verbose=True,\n",
    "                                use_symmetry=True, add_monotonicity_constraints=True,\n",
    "                                print_iter=10, max_cuts_per_iter=1,\n",
    "                                upper_bound_method='solve_LP')"
   ]
  },
  {
   "cell_type": "code",
   "execution_count": 4,
   "metadata": {},
   "outputs": [
    {
     "name": "stdout",
     "output_type": "stream",
     "text": [
      "Pruned 2 intervals. Solving with n=18, k=5.\n",
      "Using symmetry breaking. Number of decision vars: 6.\n",
      "Added initial monotonicity constraints: 4 from 2 chains.\n",
      "Iteration 0: Added 1 constraints, total cuts: 1, v_UB= 47.5007, v_LB=0.0000.\n",
      "Iteration 10: Added 0 constraints, total cuts: 11, v_UB= 1.8229, v_LB=1.3057.\n",
      "Iteration 20: Added 0 constraints, total cuts: 21, v_UB= 1.4158, v_LB=1.3840.\n",
      "Iteration 30: Added 0 constraints, total cuts: 31, v_UB= 1.3901, v_LB=1.3886.\n",
      "Iteration 39: Added 0 constraints, total cuts: 40, v_UB= 1.3817, v_LB=1.3889.\n"
     ]
    }
   ],
   "source": [
    "p,v,info = accpm_solve_problem(I, k, verbose=True,\n",
    "                                use_symmetry=True, add_monotonicity_constraints=True,\n",
    "                                print_iter=10, max_cuts_per_iter=1,\n",
    "                                  upper_bound_method='slack_vars')"
   ]
  },
  {
   "cell_type": "code",
   "execution_count": 5,
   "metadata": {},
   "outputs": [
    {
     "name": "stdout",
     "output_type": "stream",
     "text": [
      "v 1.388868335276443\n"
     ]
    }
   ],
   "source": [
    "print(\"v\", v)"
   ]
  },
  {
   "cell_type": "code",
   "execution_count": 6,
   "metadata": {},
   "outputs": [
    {
     "data": {
      "text/plain": [
       "4.999975341470434"
      ]
     },
     "execution_count": 6,
     "metadata": {},
     "output_type": "execute_result"
    }
   ],
   "source": [
    "sum(p)"
   ]
  },
  {
   "cell_type": "code",
   "execution_count": 7,
   "metadata": {},
   "outputs": [
    {
     "name": "stdout",
     "output_type": "stream",
     "text": [
      "Pruned 2 intervals. Solving with n=18, k=5.\n",
      "Using symmetry breaking. Number of decision vars: 6.\n",
      "Added initial monotonicity constraints: 4 from 2 chains.\n",
      "Iteration 0: Added 1 constraints, total cuts: 1, v_UB= 4.0000.\n",
      "Iteration 3: Added 0 constraints, total cuts: 3, v_UB= 1.3889.\n"
     ]
    }
   ],
   "source": [
    "p,v,info = cutting_plane_solve_problem(I, k, verbose=True, use_symmetry=True, add_monotonicity_constraints=True, \n",
    "                                       max_cuts_per_iter=1)"
   ]
  },
  {
   "cell_type": "code",
   "execution_count": 8,
   "metadata": {},
   "outputs": [
    {
     "name": "stdout",
     "output_type": "stream",
     "text": [
      "v 1.3888888888888888\n"
     ]
    }
   ],
   "source": [
    "print(\"v\", v)"
   ]
  },
  {
   "cell_type": "code",
   "execution_count": null,
   "metadata": {},
   "outputs": [],
   "source": []
  },
  {
   "cell_type": "code",
   "execution_count": null,
   "metadata": {},
   "outputs": [],
   "source": []
  }
 ],
 "metadata": {
  "kernelspec": {
   "display_name": "analysis",
   "language": "python",
   "name": "python3"
  },
  "language_info": {
   "codemirror_mode": {
    "name": "ipython",
    "version": 3
   },
   "file_extension": ".py",
   "mimetype": "text/x-python",
   "name": "python",
   "nbconvert_exporter": "python",
   "pygments_lexer": "ipython3",
   "version": "3.11.4"
  }
 },
 "nbformat": 4,
 "nbformat_minor": 2
}
