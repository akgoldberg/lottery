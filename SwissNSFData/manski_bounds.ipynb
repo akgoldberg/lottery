{
 "cells": [
  {
   "cell_type": "code",
   "execution_count": 1,
   "metadata": {},
   "outputs": [],
   "source": [
    "import pandas as pd\n",
    "import numpy as np"
   ]
  },
  {
   "cell_type": "code",
   "execution_count": 2,
   "metadata": {},
   "outputs": [],
   "source": [
    "df = pd.read_csv('mint_sections.csv')\n",
    "# make matrix of assessor x proposals with grade in each cell\n",
    "# concat assessor and section \n",
    "score_matrices = []\n",
    "for section in df['section'].unique():\n",
    "    # get all the proposals for this section\n",
    "    section_df = df[df['section'] == section]\n",
    "    # get all the assessors for this section\n",
    "    assessors = section_df['assessor'].unique()\n",
    "    # create a matrix of assessors x proposals\n",
    "    matrix = pd.DataFrame(index=assessors, columns=section_df['proposal'].unique())\n",
    "    # fill the matrix with the grades\n",
    "    for index, row in section_df.iterrows():\n",
    "        matrix.at[row['assessor'], row['proposal']] = row['num_grade']\n",
    "    score_matrices.append(matrix.T)"
   ]
  },
  {
   "cell_type": "code",
   "execution_count": 78,
   "metadata": {},
   "outputs": [
    {
     "data": {
      "text/plain": [
       "353"
      ]
     },
     "execution_count": 78,
     "metadata": {},
     "output_type": "execute_result"
    }
   ],
   "source": [
    "df.proposal.nunique()  # number of proposals()"
   ]
  },
  {
   "cell_type": "code",
   "execution_count": 85,
   "metadata": {},
   "outputs": [
    {
     "data": {
      "text/html": [
       "<div>\n",
       "<style scoped>\n",
       "    .dataframe tbody tr th:only-of-type {\n",
       "        vertical-align: middle;\n",
       "    }\n",
       "\n",
       "    .dataframe tbody tr th {\n",
       "        vertical-align: top;\n",
       "    }\n",
       "\n",
       "    .dataframe thead th {\n",
       "        text-align: right;\n",
       "    }\n",
       "</style>\n",
       "<table border=\"1\" class=\"dataframe\">\n",
       "  <thead>\n",
       "    <tr style=\"text-align: right;\">\n",
       "      <th></th>\n",
       "      <th>proposal</th>\n",
       "      <th>Fund</th>\n",
       "      <th>assessor</th>\n",
       "      <th>grade</th>\n",
       "      <th>num_grade</th>\n",
       "      <th>section</th>\n",
       "    </tr>\n",
       "  </thead>\n",
       "  <tbody>\n",
       "    <tr>\n",
       "      <th>0</th>\n",
       "      <td>proposal1_1</td>\n",
       "      <td>1</td>\n",
       "      <td>voter1</td>\n",
       "      <td>A</td>\n",
       "      <td>6</td>\n",
       "      <td>one</td>\n",
       "    </tr>\n",
       "    <tr>\n",
       "      <th>1</th>\n",
       "      <td>proposal1_1</td>\n",
       "      <td>1</td>\n",
       "      <td>voter3</td>\n",
       "      <td>A</td>\n",
       "      <td>6</td>\n",
       "      <td>one</td>\n",
       "    </tr>\n",
       "    <tr>\n",
       "      <th>2</th>\n",
       "      <td>proposal1_1</td>\n",
       "      <td>1</td>\n",
       "      <td>voter4</td>\n",
       "      <td>A</td>\n",
       "      <td>6</td>\n",
       "      <td>one</td>\n",
       "    </tr>\n",
       "    <tr>\n",
       "      <th>3</th>\n",
       "      <td>proposal1_1</td>\n",
       "      <td>1</td>\n",
       "      <td>voter5</td>\n",
       "      <td>A</td>\n",
       "      <td>6</td>\n",
       "      <td>one</td>\n",
       "    </tr>\n",
       "    <tr>\n",
       "      <th>4</th>\n",
       "      <td>proposal1_1</td>\n",
       "      <td>1</td>\n",
       "      <td>voter6</td>\n",
       "      <td>A</td>\n",
       "      <td>6</td>\n",
       "      <td>one</td>\n",
       "    </tr>\n",
       "  </tbody>\n",
       "</table>\n",
       "</div>"
      ],
      "text/plain": [
       "      proposal  Fund assessor grade  num_grade section\n",
       "0  proposal1_1     1   voter1     A          6     one\n",
       "1  proposal1_1     1   voter3     A          6     one\n",
       "2  proposal1_1     1   voter4     A          6     one\n",
       "3  proposal1_1     1   voter5     A          6     one\n",
       "4  proposal1_1     1   voter6     A          6     one"
      ]
     },
     "execution_count": 85,
     "metadata": {},
     "output_type": "execute_result"
    }
   ],
   "source": [
    "df.head()"
   ]
  },
  {
   "cell_type": "code",
   "execution_count": 3,
   "metadata": {},
   "outputs": [
    {
     "data": {
      "text/plain": [
       "0.10670443814919736"
      ]
     },
     "execution_count": 3,
     "metadata": {},
     "output_type": "execute_result"
    }
   ],
   "source": [
    "# get % of NA that is nan\n",
    "num_nans = [matrix.isna().sum().sum() for matrix in score_matrices]\n",
    "num_total = [matrix.size for matrix in score_matrices ]\n",
    "sum(num_nans) / sum(num_total)"
   ]
  },
  {
   "cell_type": "code",
   "execution_count": 4,
   "metadata": {},
   "outputs": [],
   "source": [
    "min_score = df.num_grade.min()\n",
    "max_score = df.num_grade.max()"
   ]
  },
  {
   "cell_type": "code",
   "execution_count": 44,
   "metadata": {},
   "outputs": [],
   "source": [
    "def manski_median_bounds(scores, min_score, max_score):\n",
    "    scores = np.asarray(scores, dtype=float)\n",
    "    m, n = scores.shape\n",
    "    bounds = np.empty((m, 2), dtype=float)\n",
    "\n",
    "    for i, row in enumerate(scores):\n",
    "        isnan = np.isnan(row)\n",
    "        observed = row[~isnan]\n",
    "        num_missing = isnan.sum()\n",
    "\n",
    "        if num_missing == 0:\n",
    "            bounds[i] = np.median(observed), np.median(observed)\n",
    "        else:\n",
    "            low_row = np.where(isnan, min_score, row)\n",
    "            high_row = np.where(isnan, max_score, row)\n",
    "            lower = np.median(low_row)\n",
    "            upper = np.median(high_row)\n",
    "            bounds[i] = lower, upper\n",
    "\n",
    "            # Logging for debugging\n",
    "            # print(f\"Row {i}: {num_missing} missing values\")\n",
    "            # print(f\"  Observed: {observed}\")\n",
    "            # print(f\"  Low imput: {low_row} → median = {lower}\")\n",
    "            # print(f\"  High imput: {high_row} → median = {upper}\")\n",
    "            # print(f\"  Width: {upper - lower}\")\n",
    "\n",
    "    return bounds\n"
   ]
  },
  {
   "cell_type": "code",
   "execution_count": 72,
   "metadata": {},
   "outputs": [],
   "source": [
    "bounds = [manski_median_bounds(matrix.values, min_score, max_score) for matrix in score_matrices]"
   ]
  },
  {
   "cell_type": "code",
   "execution_count": 73,
   "metadata": {},
   "outputs": [],
   "source": [
    "df_out = pd.DataFrame()\n",
    "# make a dataframe of the bounds\n",
    "for i, matrix in enumerate(score_matrices):\n",
    "    bounds_df = pd.DataFrame(index=matrix.index, columns=['lower', 'upper'])\n",
    "    bounds_df.loc[matrix.index, 'lower'] = bounds[i][:, 0]\n",
    "    bounds_df.loc[matrix.index, 'upper'] = bounds[i][:, 1]\n",
    "    df_out = pd.concat([df_out, bounds_df], axis=0)"
   ]
  },
  {
   "cell_type": "code",
   "execution_count": 78,
   "metadata": {},
   "outputs": [],
   "source": [
    "df_med = df.groupby(['proposal']).num_grade.median()\n",
    "# add the median to the dataframe\n",
    "df_out['median'] = df_med"
   ]
  },
  {
   "cell_type": "markdown",
   "metadata": {},
   "source": [
    "### Sparsify Data"
   ]
  },
  {
   "cell_type": "code",
   "execution_count": 20,
   "metadata": {},
   "outputs": [],
   "source": [
    "matrix_sparse = score_matrices[0].copy()\n",
    "num_to_nan = int((1-0.1) * matrix_sparse.size)\n",
    "nan_indices = np.random.choice(matrix_sparse.size, num_to_nan, replace=False)\n",
    "matrix_sparse.values.ravel()[nan_indices] = np.nan"
   ]
  },
  {
   "cell_type": "code",
   "execution_count": 17,
   "metadata": {},
   "outputs": [
    {
     "data": {
      "text/html": [
       "<div>\n",
       "<style scoped>\n",
       "    .dataframe tbody tr th:only-of-type {\n",
       "        vertical-align: middle;\n",
       "    }\n",
       "\n",
       "    .dataframe tbody tr th {\n",
       "        vertical-align: top;\n",
       "    }\n",
       "\n",
       "    .dataframe thead th {\n",
       "        text-align: right;\n",
       "    }\n",
       "</style>\n",
       "<table border=\"1\" class=\"dataframe\">\n",
       "  <thead>\n",
       "    <tr style=\"text-align: right;\">\n",
       "      <th></th>\n",
       "      <th>voter1</th>\n",
       "      <th>voter3</th>\n",
       "      <th>voter4</th>\n",
       "      <th>voter5</th>\n",
       "      <th>voter6</th>\n",
       "      <th>voter7</th>\n",
       "      <th>voter8</th>\n",
       "      <th>voter9</th>\n",
       "      <th>voter2</th>\n",
       "    </tr>\n",
       "  </thead>\n",
       "  <tbody>\n",
       "    <tr>\n",
       "      <th>proposal1_1</th>\n",
       "      <td>6</td>\n",
       "      <td>6</td>\n",
       "      <td>6</td>\n",
       "      <td>6</td>\n",
       "      <td>6</td>\n",
       "      <td>6</td>\n",
       "      <td>6</td>\n",
       "      <td>6</td>\n",
       "      <td>NaN</td>\n",
       "    </tr>\n",
       "    <tr>\n",
       "      <th>proposal2_1</th>\n",
       "      <td>6</td>\n",
       "      <td>5</td>\n",
       "      <td>6</td>\n",
       "      <td>6</td>\n",
       "      <td>NaN</td>\n",
       "      <td>6</td>\n",
       "      <td>NaN</td>\n",
       "      <td>6</td>\n",
       "      <td>6</td>\n",
       "    </tr>\n",
       "    <tr>\n",
       "      <th>proposal3_1</th>\n",
       "      <td>6</td>\n",
       "      <td>NaN</td>\n",
       "      <td>6</td>\n",
       "      <td>6</td>\n",
       "      <td>6</td>\n",
       "      <td>5</td>\n",
       "      <td>5</td>\n",
       "      <td>6</td>\n",
       "      <td>5</td>\n",
       "    </tr>\n",
       "    <tr>\n",
       "      <th>proposal4_1</th>\n",
       "      <td>5</td>\n",
       "      <td>6</td>\n",
       "      <td>5</td>\n",
       "      <td>6</td>\n",
       "      <td>6</td>\n",
       "      <td>6</td>\n",
       "      <td>6</td>\n",
       "      <td>5</td>\n",
       "      <td>NaN</td>\n",
       "    </tr>\n",
       "    <tr>\n",
       "      <th>proposal5_1</th>\n",
       "      <td>6</td>\n",
       "      <td>6</td>\n",
       "      <td>6</td>\n",
       "      <td>6</td>\n",
       "      <td>5</td>\n",
       "      <td>4</td>\n",
       "      <td>6</td>\n",
       "      <td>NaN</td>\n",
       "      <td>NaN</td>\n",
       "    </tr>\n",
       "    <tr>\n",
       "      <th>...</th>\n",
       "      <td>...</td>\n",
       "      <td>...</td>\n",
       "      <td>...</td>\n",
       "      <td>...</td>\n",
       "      <td>...</td>\n",
       "      <td>...</td>\n",
       "      <td>...</td>\n",
       "      <td>...</td>\n",
       "      <td>...</td>\n",
       "    </tr>\n",
       "    <tr>\n",
       "      <th>proposal83_1</th>\n",
       "      <td>NaN</td>\n",
       "      <td>2</td>\n",
       "      <td>2</td>\n",
       "      <td>2</td>\n",
       "      <td>2</td>\n",
       "      <td>3</td>\n",
       "      <td>2</td>\n",
       "      <td>2</td>\n",
       "      <td>2</td>\n",
       "    </tr>\n",
       "    <tr>\n",
       "      <th>proposal84_1</th>\n",
       "      <td>NaN</td>\n",
       "      <td>2</td>\n",
       "      <td>2</td>\n",
       "      <td>2</td>\n",
       "      <td>2</td>\n",
       "      <td>2</td>\n",
       "      <td>2</td>\n",
       "      <td>2</td>\n",
       "      <td>NaN</td>\n",
       "    </tr>\n",
       "    <tr>\n",
       "      <th>proposal85_1</th>\n",
       "      <td>NaN</td>\n",
       "      <td>2</td>\n",
       "      <td>2</td>\n",
       "      <td>2</td>\n",
       "      <td>2</td>\n",
       "      <td>2</td>\n",
       "      <td>2</td>\n",
       "      <td>2</td>\n",
       "      <td>NaN</td>\n",
       "    </tr>\n",
       "    <tr>\n",
       "      <th>proposal86_1</th>\n",
       "      <td>2</td>\n",
       "      <td>2</td>\n",
       "      <td>1</td>\n",
       "      <td>1</td>\n",
       "      <td>2</td>\n",
       "      <td>2</td>\n",
       "      <td>2</td>\n",
       "      <td>2</td>\n",
       "      <td>3</td>\n",
       "    </tr>\n",
       "    <tr>\n",
       "      <th>proposal87_1</th>\n",
       "      <td>1</td>\n",
       "      <td>2</td>\n",
       "      <td>2</td>\n",
       "      <td>1</td>\n",
       "      <td>2</td>\n",
       "      <td>3</td>\n",
       "      <td>1</td>\n",
       "      <td>2</td>\n",
       "      <td>NaN</td>\n",
       "    </tr>\n",
       "  </tbody>\n",
       "</table>\n",
       "<p>87 rows × 9 columns</p>\n",
       "</div>"
      ],
      "text/plain": [
       "             voter1 voter3 voter4 voter5 voter6 voter7 voter8 voter9 voter2\n",
       "proposal1_1       6      6      6      6      6      6      6      6    NaN\n",
       "proposal2_1       6      5      6      6    NaN      6    NaN      6      6\n",
       "proposal3_1       6    NaN      6      6      6      5      5      6      5\n",
       "proposal4_1       5      6      5      6      6      6      6      5    NaN\n",
       "proposal5_1       6      6      6      6      5      4      6    NaN    NaN\n",
       "...             ...    ...    ...    ...    ...    ...    ...    ...    ...\n",
       "proposal83_1    NaN      2      2      2      2      3      2      2      2\n",
       "proposal84_1    NaN      2      2      2      2      2      2      2    NaN\n",
       "proposal85_1    NaN      2      2      2      2      2      2      2    NaN\n",
       "proposal86_1      2      2      1      1      2      2      2      2      3\n",
       "proposal87_1      1      2      2      1      2      3      1      2    NaN\n",
       "\n",
       "[87 rows x 9 columns]"
      ]
     },
     "execution_count": 17,
     "metadata": {},
     "output_type": "execute_result"
    }
   ],
   "source": [
    "matrix_sparse"
   ]
  },
  {
   "cell_type": "code",
   "execution_count": 76,
   "metadata": {},
   "outputs": [],
   "source": [
    "def sparsify_matrix(matrix, density):\n",
    "    \"\"\"\n",
    "    Randomly sets entries of a matrix to NaN to achieve a desired density.\n",
    "    \"\"\"\n",
    "    is_df = isinstance(matrix, pd.DataFrame)\n",
    "    mat = matrix.to_numpy().astype(float) if is_df else matrix.astype(float)\n",
    "    \n",
    "    total = mat.size\n",
    "    num_keep = int(density * total)\n",
    "\n",
    "    flat_indices = np.arange(total)\n",
    "    np.random.shuffle(flat_indices)\n",
    "\n",
    "    mask = np.full(total, False)\n",
    "    mask[flat_indices[:num_keep]] = True\n",
    "\n",
    "    mat_flat = mat.ravel()\n",
    "    mat_flat[~mask] = np.nan\n",
    "\n",
    "    sparse = mat_flat.reshape(mat.shape)\n",
    "    return pd.DataFrame(sparse, index=matrix.index, columns=matrix.columns) if is_df else sparse\n",
    "\n",
    "df_out_sparse = pd.DataFrame()\n",
    "for density in [0.6, 0.65, 0.7, 0.75, 0.8, 0.85]:\n",
    "    for iter in range(10):\n",
    "        for i, matrix in enumerate(score_matrices):\n",
    "            matrix_sparse = sparsify_matrix(matrix, density)\n",
    "            bounds = manski_median_bounds(matrix_sparse.values, min_score, max_score)\n",
    "\n",
    "            bounds_df = pd.DataFrame(index=matrix_sparse.index, columns=['lower', 'upper'])\n",
    "            bounds_df['lower'] = bounds[:, 0]\n",
    "            bounds_df['upper'] = bounds[:, 1]\n",
    "            # get median of each row\n",
    "            bounds_df['x'] = matrix_sparse.median(axis=1)\n",
    "            bounds_df['density'] = density\n",
    "            bounds_df['iter'] = iter\n",
    "            df_out_sparse = pd.concat([df_out_sparse, bounds_df], axis=0)\n",
    "        df_out_sparse['x'].fillna((max_score - min_score) / 2., inplace=True)"
   ]
  },
  {
   "cell_type": "code",
   "execution_count": 75,
   "metadata": {},
   "outputs": [],
   "source": [
    "df_out_sparse.to_csv('manski_bounds_sparse.csv', index=True)"
   ]
  },
  {
   "cell_type": "markdown",
   "metadata": {},
   "source": [
    "## Plot Data"
   ]
  },
  {
   "cell_type": "code",
   "execution_count": 89,
   "metadata": {},
   "outputs": [
    {
     "data": {
      "image/png": "[encoded data removed]",
      "text/plain": [
       "<Figure size 1500x600 with 1 Axes>"
      ]
     },
     "metadata": {},
     "output_type": "display_data"
    }
   ],
   "source": [
    "import matplotlib.pyplot as plt\n",
    "\n",
    "# Sort the dataframe by the median\n",
    "df_out_sorted = df_out.sort_values(by='median', ascending=False)\n",
    "\n",
    "# Plot the bounds and median\n",
    "plt.figure(figsize=(15, 6))\n",
    "plt.errorbar(df_out_sorted.index, df_out_sorted['median'], \n",
    "             yerr=[df_out_sorted['median'] - df_out_sorted['lower'].astype(float), \n",
    "                   df_out_sorted['upper'].astype(float) - df_out_sorted['median']], \n",
    "             fmt='o')\n",
    "plt.ylabel('Scores')\n",
    "# hide x tick labels\n",
    "plt.xticks([], [])\n",
    "plt.show()"
   ]
  },
  {
   "cell_type": "code",
   "execution_count": null,
   "metadata": {},
   "outputs": [],
   "source": [
    "df_out.to_csv('manski_intervals.csv')"
   ]
  },
  {
   "cell_type": "code",
   "execution_count": null,
   "metadata": {},
   "outputs": [],
   "source": []
  }
 ],
 "metadata": {
  "kernelspec": {
   "display_name": "analysis",
   "language": "python",
   "name": "python3"
  },
  "language_info": {
   "codemirror_mode": {
    "name": "ipython",
    "version": 3
   },
   "file_extension": ".py",
   "mimetype": "text/x-python",
   "name": "python",
   "nbconvert_exporter": "python",
   "pygments_lexer": "ipython3",
   "version": "3.11.4"
  }
 },
 "nbformat": 4,
 "nbformat_minor": 2
}
