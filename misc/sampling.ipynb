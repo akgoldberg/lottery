{
 "cells": [
  {
   "cell_type": "code",
   "execution_count": 3,
   "metadata": {},
   "outputs": [],
   "source": [
    "import numpy as np"
   ]
  },
  {
   "cell_type": "code",
   "execution_count": 61,
   "metadata": {},
   "outputs": [],
   "source": [
    "# Sample exaclty k items from a population with marginal probabilities given by p (p sum to k).\n",
    "# Returns a list of indices of selected items\n",
    "# Source: https://projecteuclid.org/journals/annals-of-mathematical-statistics/volume-20/issue-3/On-the-Theory-of-Systematic-Sampling-II/10.1214/aoms/1177729988.full\n",
    "def systematic_sampling(k, p):\n",
    "    n = len(p)\n",
    "    assert np.isclose(sum(p), k), \"Marginal probabilities must sum to k\"\n",
    "\n",
    "    # Randomly permute order of items\n",
    "    perm = np.random.permutation(n)\n",
    "    p = [p[i] for i in perm]\n",
    "\n",
    "    # Compute cumulative probabilities with S[0] = 0\n",
    "    S = np.cumsum(p)\n",
    "    S = np.insert(S, 0, 0)  # Now length n+1\n",
    "    \n",
    "    # Generate sorted sampling points \n",
    "    u = np.random.uniform(0, 1)\n",
    "    sampling_points = [u + m for m in range(k)]\n",
    "    \n",
    "    # Select items with each point in [S[j], S[j+1])\n",
    "    selected = []\n",
    "    j = 0  # Pointer to current interval\n",
    "    for point in sampling_points:\n",
    "        # Advance pointer until we find S[j] > point\n",
    "        while j < len(S) and S[j] <= point:\n",
    "            j += 1\n",
    "        selected.append(perm[j-1])  # Items are 1-indexed, so we subtract 1\n",
    "    \n",
    "    return selected\n",
    "\n",
    "def verify_sampling(n, k, p, num_trials=10_000):\n",
    "    counts = np.zeros(n)\n",
    "    \n",
    "    for _ in range(num_trials):\n",
    "        sample = systematic_sampling(k, p)\n",
    "        for item in sample:\n",
    "            counts[item] += 1\n",
    "            \n",
    "    empirical_p = counts / num_trials  # Correct normalization\n",
    "    return empirical_p"
   ]
  },
  {
   "cell_type": "code",
   "execution_count": 69,
   "metadata": {},
   "outputs": [],
   "source": [
    "# Example usage with verification\n",
    "n = 5000\n",
    "k = 10\n",
    "p = np.random.dirichlet(np.ones(n))\n",
    "p = p / sum(p) * k  # Normalize to sum to k\n",
    "\n",
    "sampled_p = verify_sampling(n, k, p)"
   ]
  },
  {
   "cell_type": "code",
   "execution_count": 70,
   "metadata": {},
   "outputs": [
    {
     "data": {
      "text/plain": [
       "0.0026080047915283695"
      ]
     },
     "execution_count": 70,
     "metadata": {},
     "output_type": "execute_result"
    }
   ],
   "source": [
    "np.max(sampled_p - p)"
   ]
  },
  {
   "cell_type": "code",
   "execution_count": 71,
   "metadata": {},
   "outputs": [
    {
     "data": {
      "text/plain": [
       "-0.0025086028903444886"
      ]
     },
     "execution_count": 71,
     "metadata": {},
     "output_type": "execute_result"
    }
   ],
   "source": [
    "np.min(sampled_p - p)"
   ]
  },
  {
   "cell_type": "code",
   "execution_count": null,
   "metadata": {},
   "outputs": [],
   "source": []
  }
 ],
 "metadata": {
  "kernelspec": {
   "display_name": "analysis",
   "language": "python",
   "name": "python3"
  },
  "language_info": {
   "codemirror_mode": {
    "name": "ipython",
    "version": 3
   },
   "file_extension": ".py",
   "mimetype": "text/x-python",
   "name": "python",
   "nbconvert_exporter": "python",
   "pygments_lexer": "ipython3",
   "version": "3.11.4"
  }
 },
 "nbformat": 4,
 "nbformat_minor": 2
}
