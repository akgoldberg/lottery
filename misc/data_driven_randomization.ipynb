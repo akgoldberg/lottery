{
 "cells": [
  {
   "cell_type": "code",
   "execution_count": 1,
   "metadata": {},
   "outputs": [],
   "source": [
    "from stackelberg_model import *\n",
    "import matplotlib.pyplot as plt\n",
    "from itertools import permutations"
   ]
  },
  {
   "cell_type": "markdown",
   "metadata": {},
   "source": [
    "### Solve Monotonic"
   ]
  },
  {
   "cell_type": "code",
   "execution_count": 2,
   "metadata": {},
   "outputs": [
    {
     "name": "stdout",
     "output_type": "stream",
     "text": [
      "p_star: [1.  0.8 0.8 0.8 0.8 0.8 0.  0.  0.  0.  0.  0.  0.  0.  0. ]\n",
      "v_star: 4.2\n"
     ]
    }
   ],
   "source": [
    "# Constraints\n",
    "n = 15\n",
    "k = 5\n",
    "constraints = [(0,k-1)] + (k-1)*[(0,k)] + [(1,k+1)] + (n-k-1)*[(k+1,n-1)]\n",
    "\n",
    "p_star, v_star, tight_constraints = solve_monotonic_01(n, k, constraints, verbose=False, lex_order_p=-1)\n",
    "print(\"p_star:\", np.round(p_star, 3))\n",
    "print(\"v_star:\", np.round(v_star, 3))"
   ]
  },
  {
   "cell_type": "code",
   "execution_count": 14,
   "metadata": {},
   "outputs": [
    {
     "name": "stdout",
     "output_type": "stream",
     "text": [
      "p_star: [1.    0.444 0.444 0.444 0.444 0.444 0.444 0.444 0.444 0.444 0.    0.\n",
      " 0.    0.    0.   ]\n",
      "v_star: 2.778\n"
     ]
    }
   ],
   "source": [
    "# Constraints\n",
    "n = 15\n",
    "k = 5\n",
    "constraints = [(0,k-1), (0, k+2), (0, k+3), (0, k+4), (1, k+4), (1, k+5), (6, k+6), (7, k+7), (8, k+8), (9, k+9), (10, k+10), (11, k+11), (12, k+12), (13, k+13), (14, k+14)]\n",
    "\n",
    "p_star, v_star, tight_constraints = solve_monotonic_01(n, k, constraints, verbose=False, lex_order_p=-1)\n",
    "print(\"p_star:\", np.round(p_star, 3))\n",
    "print(\"v_star:\", np.round(v_star, 3))"
   ]
  },
  {
   "cell_type": "code",
   "execution_count": null,
   "metadata": {},
   "outputs": [
    {
     "name": "stdout",
     "output_type": "stream",
     "text": [
      "p_star: [1.  0.8 0.4 0.4 0.4 0.  0.  0.  0.  0. ]\n",
      "v_star: 1.8\n"
     ]
    }
   ],
   "source": [
    "# Constraints\n",
    "n = 10\n",
    "k = 3\n",
    "constraints = [(0,k-1), (0, k+1), (0, k+3)]\n",
    "\n",
    "p_star, v_star, tight_constraints = solve_monotonic_01(n, k, constraints, verbose=False, lex_order_p=1)\n",
    "print(\"p_star:\", np.round(p_star, 3))\n",
    "print(\"v_star:\", np.round(v_star, 3))"
   ]
  },
  {
   "cell_type": "code",
   "execution_count": 3,
   "metadata": {},
   "outputs": [
    {
     "name": "stdout",
     "output_type": "stream",
     "text": [
      "p_star: [0.8 0.4 0.4 0.4 0.  0.  0.  0.  0.  0. ]\n",
      "v_star: 0.8\n"
     ]
    }
   ],
   "source": [
    "# Constraints\n",
    "n = 10\n",
    "k = 2\n",
    "constraints = [(0, k+1), (0, k+3)]\n",
    "\n",
    "p_star, v_star, tight_constraints = solve_monotonic_01(n, k, constraints, verbose=False, lex_order_p=1)\n",
    "print(\"p_star:\", np.round(p_star, 3))\n",
    "print(\"v_star:\", np.round(v_star, 3))"
   ]
  },
  {
   "cell_type": "code",
   "execution_count": 4,
   "metadata": {},
   "outputs": [
    {
     "name": "stdout",
     "output_type": "stream",
     "text": [
      "p_star: [0.8 0.4 0.4 0.4 0.  0.  0.  0.  0.  0. ]\n",
      "v_star: 0.8\n"
     ]
    }
   ],
   "source": [
    "# Constraints\n",
    "n = 10\n",
    "k = 2\n",
    "constraints = [(0, k+1), (0, k+3)]\n",
    "\n",
    "p_star, v_star, tight_constraints = solve_monotonic_01(n, k, constraints, verbose=False, lex_order_p=-1)\n",
    "print(\"p_star:\", np.round(p_star, 3))\n",
    "print(\"v_star:\", np.round(v_star, 3))"
   ]
  },
  {
   "cell_type": "markdown",
   "metadata": {},
   "source": [
    "### Solve Non-Monotonic"
   ]
  },
  {
   "cell_type": "code",
   "execution_count": 17,
   "metadata": {},
   "outputs": [],
   "source": [
    "def generate_instance(n):\n",
    "    # generate n random intervals\n",
    "    intervals = []\n",
    "    for _ in range(n):\n",
    "        a = np.round(10*np.random.rand(), 2)\n",
    "        b = np.round(10*np.random.rand(), 2)\n",
    "        if a > b:\n",
    "            a, b = b, a\n",
    "        intervals.append((a,b))\n",
    "    return intervals\n",
    "\n",
    "def get_constraints(intervals):\n",
    "    n = len(intervals)\n",
    "    # tuples where LCB_i > UCB_j => i < j\n",
    "    constraints = [(i,j) for i in range(n) for j in range(n) if intervals[i][0] > intervals[j][1]]\n",
    "    return constraints\n",
    "\n",
    "def prune_instance(intervals, k):\n",
    "    n = len(intervals)\n",
    "    constraints = get_constraints(intervals)\n",
    "    A = [0]*len(intervals)\n",
    "    B = [0]*len(intervals)\n",
    "    for c in constraints:\n",
    "        A[c[0]] += 1 # num intevals that i is strictly above \n",
    "        B[c[1]] += 1 # num intevals that i is strictly below\n",
    "    # if A[i] >= n-k, then i must be in the top k\n",
    "    top = [i for i in range(n) if A[i] >= n-k]\n",
    "    # if B[i] >= k, then i is never in the top k\n",
    "    bottom = [i for i in range(n) if B[i] >= k]\n",
    "    # remove top and bottom from intervals'\n",
    "    top_intervals = [intervals[i] for i in top]\n",
    "    bottom_intervals = [intervals[i] for i in bottom]\n",
    "    intervals = [intervals[i] for i in range(n) if i not in top+bottom]\n",
    "    k = k - len(top)\n",
    "    return intervals, k, top_intervals, bottom_intervals\n",
    "\n",
    "def sort_instance(intervals, k=None, by='A'):\n",
    "    n = len(intervals)\n",
    "    constraints = get_constraints(intervals)\n",
    "    A = [0]*len(intervals)\n",
    "    B = [0]*len(intervals)\n",
    "    for c in constraints:\n",
    "        A[c[0]] += 1 # num intevals that i is strictly above \n",
    "        B[c[1]] += 1 # num intevals that i is strictly below\n",
    "    if by == 'A':\n",
    "        # sort 1 to n by decreasing A breaking ties with increasing B\n",
    "        sorted_indices = sorted(range(n), key=lambda i: (-A[i], B[i]))\n",
    "        order = sorted_indices\n",
    "    elif by == 'B':\n",
    "        # sort 1 to n by decreasing B breaking ties with increasing A\n",
    "        sorted_indices = sorted(range(n), key=lambda i: (B[i], -A[i]))\n",
    "        order = sorted_indices\n",
    "    elif by == 'A+B':\n",
    "        # sort 1 to n by decreasing A breaking ties with increasing B\n",
    "        sorted_indices = sorted(range(n), key=lambda i: (-A[i], B[i]))\n",
    "        top = sorted_indices[:k]\n",
    "        bottom = sorted_indices[k:]\n",
    "        # sort bottom_k by increasing B breaking ties with decreasing A\n",
    "        bottom = sorted(bottom, key=lambda i: (B[i], -A[i]))\n",
    "        order = top + bottom\n",
    "    return [intervals[i] for i in order]\n",
    "\n",
    "\n",
    "def solve_instance(intervals, k, lex_order_p=0, force_monotone=False, order_by='A'):\n",
    "    intervals_pruned, k_pruned, top, bottom = prune_instance(intervals, k)\n",
    "    # (1) prune all intervals that are always in the top k or never in the top k\n",
    "    if k_pruned == 0:\n",
    "        return k, [1]*k + [0]*(n-k), None\n",
    "    n_pruned = len(intervals_pruned)\n",
    "    # (2) solve the pruned instance\n",
    "    # generate all permutations of 0 to (n-1) such that LCB_i > UCB_j => i < j\n",
    "    intervals_pruned = sort_instance(intervals_pruned, k=k_pruned, by=order_by)\n",
    "    constraints = get_constraints(intervals_pruned) # get all constraints on sigma\n",
    "    perms = list(permutations(range(n_pruned)))\n",
    "    perms = [p for p in perms if all((p[i] < p[j]) for i,j in constraints)]\n",
    "    thetas = [1]*k_pruned + [0]*(n_pruned-k_pruned)    # theta is top-k \n",
    "    # solve optimization problem\n",
    "    v_star, p_star, _ = get_optimal_strategy(thetas, k_pruned, perms, verbose=False, monotone_p=force_monotone,\n",
    "                                              lex_order_p=lex_order_p, return_tight_constraints=False)\n",
    "    # (3) add top and bottom intervals to the solution\n",
    "    v_star += len(top)\n",
    "    p_star = len(top)*[1] + list(p_star) + len(bottom)*[0]\n",
    "    sorted_intervals = top + intervals_pruned + bottom\n",
    "    return v_star, p_star, sorted_intervals\n",
    "\n",
    "def plot_intervals(intervals):\n",
    "    n = len(intervals)\n",
    "    _, ax = plt.subplots()\n",
    "    for i, (a,b) in enumerate(intervals):\n",
    "        ax.plot([i,i], [a,b], 'k-')\n",
    "    # smart x ticks so that not too crowded\n",
    "    if n > 10:\n",
    "        step = max(1, n // 10)\n",
    "        # round step to closest multiple of 5\n",
    "        step = 5 * max(round(step/5), 1)\n",
    "        ax.set_xticks(range(0, n, step))\n",
    "        ax.set_xticklabels([f'{i}' for i in range(0, n, step)])\n",
    "    else:\n",
    "        ax.set_xticks(range(n))\n",
    "        ax.set_xticklabels([f'{i}' for i in range(n)])\n",
    "\n",
    "    ax.set_xlabel('Interval')\n",
    "    ax.set_ylabel('Value')\n",
    "\n",
    "    plt.vlines(k+0.5, 0, 10, linestyles='dashed', colors='red', alpha=0.5)\n",
    "\n",
    "    plt.show()"
   ]
  },
  {
   "cell_type": "code",
   "execution_count": null,
   "metadata": {},
   "outputs": [],
   "source": [
    "n = 12\n",
    "iters = 1000\n",
    "for k in range(4,6):\n",
    "    for _ in range(iters):\n",
    "        intervals = generate_instance(n)\n",
    "        v_star, p_star, _ = solve_instance(intervals, k, lex_order_p=1, order_by='A', force_monotone=False)\n",
    "        p_check = np.round(p_star, 3)\n",
    "        if all(p_check[i] >= p_check[i+1] for i in range(n-1)):\n",
    "            continue\n",
    "        v_star1, p_star1, _ = solve_instance(intervals, k, lex_order_p=0, order_by='B', force_monotone=True)\n",
    "        if np.isclose(v_star, v_star1):\n",
    "            continue\n",
    "        v_star2, p_star2, _ = solve_instance(intervals, k, lex_order_p=0, order_by='A', force_monotone=True)\n",
    "        if np.isclose(v_star, v_star2):\n",
    "            continue\n",
    "        \n",
    "        # monotonic not optimal\n",
    "        print(\"k:\", k)\n",
    "        intervals = sort_instance(intervals, k)\n",
    "        print(\"intervals:\", intervals)\n",
    "        print(\"constraints:\", get_constraints(intervals))\n",
    "        print(\"p_star:\", np.round(p_star, 3))\n",
    "        break\n",
    "    print('DONE with k:', k)"
   ]
  },
  {
   "cell_type": "code",
   "execution_count": 21,
   "metadata": {},
   "outputs": [
    {
     "data": {
      "image/png": "[encoded data removed]",
      "text/plain": [
       "<Figure size 640x480 with 1 Axes>"
      ]
     },
     "metadata": {},
     "output_type": "display_data"
    },
    {
     "name": "stdout",
     "output_type": "stream",
     "text": [
      "p_star: [1.    0.455 0.182 0.455 0.455 0.455 0.455 0.182 0.182 0.182]\n",
      "v_star: 1.818\n",
      "constraints: [(0, 5), (0, 6), (0, 7), (0, 8), (0, 9), (5, 8), (5, 9), (8, 9)]\n"
     ]
    }
   ],
   "source": [
    "intervals = [(7.61, 8.08), (5.74, 6.12), (4.4, 4.63), (3.25, 7.91), (0.61, 9.53), (2.31, 8.56), (3.35, 8.9), (0.56, 6.56), (3.25, 7.42), (0.22, 3.87)]\n",
    "k = 4\n",
    "\n",
    "intervals, k, _, _ = prune_instance(intervals, k)\n",
    "intervals = sort_instance(intervals, by='B', k=k)\n",
    "constraints = get_constraints(intervals)\n",
    "plot_intervals(intervals)\n",
    "\n",
    "v_star, p_star, _ = solve_instance(intervals, k, lex_order_p=-1)\n",
    "print(\"p_star:\", np.round(p_star, 3))\n",
    "print(\"v_star:\", np.round(v_star, 3))\n",
    "\n",
    "print(\"constraints:\", get_constraints(intervals))\n"
   ]
  },
  {
   "cell_type": "code",
   "execution_count": 23,
   "metadata": {},
   "outputs": [
    {
     "data": {
      "image/png": "[encoded data removed]",
      "text/plain": [
       "<Figure size 640x480 with 1 Axes>"
      ]
     },
     "metadata": {},
     "output_type": "display_data"
    },
    {
     "name": "stdout",
     "output_type": "stream",
     "text": [
      "intervals: [(6.92, 8.18), (3.03, 7.4), (2.22, 8.02), (1.81, 8.17), (5.85, 6.06), (0.2, 6.77), (0.27, 6.24), (0.51, 4.18), (1.05, 4.77)]\n",
      "constraints: [(0, 4), (0, 5), (0, 6), (0, 7), (0, 8), (4, 7), (4, 8)]\n",
      "p_star: [1.    0.52  0.434 0.379 0.333 0.207 0.126 0.    0.   ]\n",
      "v_star: 1.3333333333282031\n"
     ]
    }
   ],
   "source": [
    "intervals = [(6.92, 8.18), (5.85, 6.06), (3.03, 7.4), (2.22, 8.02), (1.81, 8.17), (0.2, 6.77), (0.27, 6.24), (0.51, 4.18), (1.05, 4.77), (0.09, 1.98)]\n",
    "k = 3\n",
    "intervals, k, _, _ = prune_instance(intervals, k)\n",
    "intervals = sort_instance(intervals, k, by='B')\n",
    "\n",
    "plot_intervals(intervals)\n",
    "print(\"intervals:\", intervals)\n",
    "print(\"constraints:\", get_constraints(intervals))\n",
    "v_star, p_star, _ = solve_instance(intervals, k, lex_order_p=0, force_monotone=True, order_by='B')\n",
    "print(\"p_star:\", np.round(p_star, 3))\n",
    "print(\"v_star:\", v_star)"
   ]
  },
  {
   "cell_type": "code",
   "execution_count": 111,
   "metadata": {},
   "outputs": [
    {
     "data": {
      "image/png": "[encoded data removed]",
      "text/plain": [
       "<Figure size 640x480 with 1 Axes>"
      ]
     },
     "metadata": {},
     "output_type": "display_data"
    },
    {
     "name": "stdout",
     "output_type": "stream",
     "text": [
      "[(1, 6), (1, 7), (1, 8), (2, 8), (6, 7), (6, 8)]\n"
     ]
    }
   ],
   "source": [
    "intervals = [(5.86, 8.77),\n",
    "  (4.79, 6.04),\n",
    "  (4.01, 8.09),\n",
    "  (1.54, 6.05),\n",
    "  (2.52, 8.95),\n",
    "  (5.38, 5.49),\n",
    "  (4.7, 5.0),\n",
    "  (0.39, 4.72)]\n",
    "intervals = sort_instance(intervals, k)\n",
    "plot_intervals(intervals)\n",
    "print([(i+1, j+1) for i,j in get_constraints(intervals)])"
   ]
  },
  {
   "cell_type": "code",
   "execution_count": 112,
   "metadata": {},
   "outputs": [
    {
     "data": {
      "text/plain": [
       "(array(2.28571429),\n",
       " [0.8597649581861538,\n",
       "  0.5714285714663618,\n",
       "  0.5714285714098927,\n",
       "  0.5714285714098927,\n",
       "  0.5714285714098927,\n",
       "  0.8545207560757458,\n",
       "  4.270556163275274e-11,\n",
       "  0.0],\n",
       " [(5.86, 8.77),\n",
       "  (4.79, 6.04),\n",
       "  (4.01, 8.09),\n",
       "  (1.54, 6.05),\n",
       "  (2.52, 8.95),\n",
       "  (5.38, 5.49),\n",
       "  (4.7, 5.0),\n",
       "  (0.39, 4.72)])"
      ]
     },
     "execution_count": 112,
     "metadata": {},
     "output_type": "execute_result"
    }
   ],
   "source": [
    "solve_instance(intervals, k, lex_order_p=0)"
   ]
  },
  {
   "cell_type": "code",
   "execution_count": null,
   "metadata": {},
   "outputs": [
    {
     "data": {
      "image/png": "[encoded data removed]",
      "text/plain": [
       "<Figure size 640x480 with 1 Axes>"
      ]
     },
     "metadata": {},
     "output_type": "display_data"
    }
   ],
   "source": [
    "intervals = [(1.23, 6.25), (5.89, 8.09), (1.15, 9.68), (2.41, 5.36), (7.34, 7.37), (7.48, 7.73), (7.02, 9.59), (0.96, 1.4), (3.68, 7.99), (2.72, 7.18)]\n",
    "\n",
    "plot_intervals(sort_instance(intervals, 4))"
   ]
  },
  {
   "cell_type": "code",
   "execution_count": null,
   "metadata": {},
   "outputs": [
    {
     "data": {
      "text/plain": [
       "([(8.2, 8.5),\n",
       "  (5.63, 5.95),\n",
       "  (5.32, 5.47),\n",
       "  (4.58, 8.56),\n",
       "  (0.87, 8.8),\n",
       "  (2.3, 9.4),\n",
       "  (2.76, 8.09),\n",
       "  (2.42, 6.06)],\n",
       " 3,\n",
       " [],\n",
       " [(0.03, 4.84), (1.13, 3.49)])"
      ]
     },
     "execution_count": 79,
     "metadata": {},
     "output_type": "execute_result"
    }
   ],
   "source": [
    "solve_instance(intervals, 4, lex_order_p=0)"
   ]
  },
  {
   "cell_type": "code",
   "execution_count": 82,
   "metadata": {},
   "outputs": [
    {
     "data": {
      "text/plain": [
       "[(0, 1), (0, 5), (0, 6), (0, 7), (1, 7)]"
      ]
     },
     "execution_count": 82,
     "metadata": {},
     "output_type": "execute_result"
    }
   ],
   "source": [
    "intervals = [(8.2, 8.5),\n",
    "  (5.63, 5.95),\n",
    "  (5.32, 5.47),\n",
    "  (4.58, 8.56),\n",
    "  (0.87, 8.8),\n",
    "  (2.3, 9.4),\n",
    "  (2.76, 8.09),\n",
    "  (2.42, 6.06)]\n",
    "k = 3\n",
    "instance = sort_instance(intervals, k)\n",
    "get_constraints(instance)"
   ]
  },
  {
   "cell_type": "code",
   "execution_count": null,
   "metadata": {},
   "outputs": [
    {
     "name": "stdout",
     "output_type": "stream",
     "text": [
      "DONE with k: 2\n",
      "k: 3\n",
      "intervals: [(8.2, 8.5), (5.63, 5.95), (5.32, 5.47), (4.58, 8.56), (0.87, 8.8), (2.3, 9.4), (2.76, 8.09), (2.42, 6.06), (0.03, 4.84), (1.13, 3.49)]\n",
      "constraints: [(0, 1), (0, 2), (0, 6), (0, 7), (0, 8), (0, 9), (1, 2), (1, 8), (1, 9), (2, 8), (2, 9), (3, 9)]\n",
      "p_star 1: [1.    0.217 0.444 0.444 0.444 0.167 0.167 0.116 0.    0.   ]\n",
      "DONE with k: 3\n",
      "k: 4\n",
      "intervals: [(5.53, 8.74), (6.35, 8.87), (2.69, 5.47), (0.22, 7.72), (0.93, 8.49), (1.08, 7.96), (1.75, 7.81), (1.44, 4.84), (1.93, 2.74), (1.3, 2.22)]\n",
      "constraints: [(0, 2), (0, 7), (0, 8), (0, 9), (1, 2), (1, 7), (1, 8), (1, 9), (2, 9)]\n",
      "p_star 1: [1.  1.  0.  0.5 0.5 0.5 0.5 0.  0.  0. ]\n",
      "DONE with k: 4\n"
     ]
    }
   ],
   "source": [
    "n = 10\n",
    "iters = 1000\n",
    "for k in range(2,5):\n",
    "    for _ in range(iters):\n",
    "        intervals = generate_instance(n)\n",
    "        intervals = sort_instance(intervals, k)\n",
    "        v_star, p_star, _ = solve_instance(intervals, k, lex_order_p=0)\n",
    "        p_check = np.round(p_star, 3) # check up to 3 decimal places\n",
    "        check = all(p_check[i] >= p_check[i+1] for i in range(n-1))\n",
    "        if (not check):\n",
    "            # check if exists optimal monotonic p_star\n",
    "            v_star_mono, p_star_mono, _ = solve_instance(intervals, k, lex_order_p=0, force_monotone=True)\n",
    "            if not np.isclose(v_star, v_star_mono):\n",
    "                print(\"k:\", k)\n",
    "                print(\"intervals:\", intervals)\n",
    "                print(\"constraints:\", get_constraints(intervals))\n",
    "                print(\"p_star 1:\", np.round(p_star, 3))\n",
    "                break\n",
    "    print('DONE with k:', k)"
   ]
  },
  {
   "cell_type": "code",
   "execution_count": null,
   "metadata": {},
   "outputs": [],
   "source": [
    "n = 10\n",
    "k = 2\n",
    "\n",
    "intervals = generate_instance(n)\n",
    "intervals = sort_instance(intervals, k)\n",
    "\n",
    "v_star, p_star, tight_constraints = solve_instance(intervals, k, lex_order_p=1)"
   ]
  },
  {
   "cell_type": "code",
   "execution_count": 41,
   "metadata": {},
   "outputs": [
    {
     "data": {
      "text/plain": [
       "array([0.5 , 0.25, 0.25, 0.25, 0.25, 0.25, 0.25, 0.  , 0.  , 0.  ])"
      ]
     },
     "execution_count": 41,
     "metadata": {},
     "output_type": "execute_result"
    }
   ],
   "source": [
    "np.round(p_star, 3)"
   ]
  },
  {
   "cell_type": "code",
   "execution_count": null,
   "metadata": {},
   "outputs": [
    {
     "data": {
      "text/plain": [
       "(array(2.66666667),\n",
       " array([6.66666667e-01, 6.66666667e-01, 6.66666667e-01, 6.66666667e-01,\n",
       "        6.66666667e-01, 6.66666667e-01, 1.78484220e-10, 1.77144763e-10,\n",
       "        1.76478549e-10, 1.76146310e-10]),\n",
       " None)"
      ]
     },
     "execution_count": 69,
     "metadata": {},
     "output_type": "execute_result"
    }
   ],
   "source": [
    "# generate all perms of 7 elements within constraints\n",
    "n = 10\n",
    "perms = list(itertools.permutations(range(n)))\n",
    "k = 4\n",
    "# generate conditions: perm[i] <= k+1 for i < k and perm[i] >= k for i > k+1\n",
    "perms = [perm for perm in perms if all([perm[i] <= k+1 for i in range(k-1)]) and all([perm[i] >= k for i in range(k+2, n)]) \n",
    "         and perm[k-1] <= k+3 and perm[k+2] >= k-1 and perm[k+3] >= k-1]\n",
    "thetas = [1]*k + [0]*(n-k)\n",
    "\n",
    "get_optimal_strategy(thetas, k, perms, return_tight_constraints=False)"
   ]
  },
  {
   "cell_type": "code",
   "execution_count": 27,
   "metadata": {},
   "outputs": [],
   "source": [
    "def generate_minimal_permutations(n, k, D):\n",
    "    # Assume k=1 for now\n",
    "    if k != 1:\n",
    "        raise ValueError(\"k must be 1\")\n",
    "    if n < 3*D:\n",
    "        raise ValueError(\"n must be at least 3D\")\n",
    "    \n",
    "    permutations = []\n",
    "    # D+1 to 2D can be any vector of +D's and -D's \n",
    "    for v1 in itertools.product([-D, D], repeat=D):\n",
    "        v1 = np.array(v1)\n",
    "        v0 = np.zeros(D)\n",
    "        I = np.where(v1 == -D)[0]\n",
    "        if len(I) > 0:\n",
    "            v0[I] = I + D\n",
    "        J = np.where(v1 == D)[0]\n",
    "        if len(J) > 0:\n",
    "            v0[J] = J[::-1]\n",
    "        v = np.concatenate((v0, np.arange(D,2*D) + v1))\n",
    "        permutations.append(v.astype(int))\n",
    "    return permutations\n",
    "\n",
    "def get_optimal_strategy_pruned(thetas, n, k, D):\n",
    "    if k != 1:\n",
    "        raise ValueError(\"k must be 1\")\n",
    "    if n < 3*D:\n",
    "        raise ValueError(\"n must be at least 3D\")\n",
    "    \n",
    "    permutations = generate_minimal_permutations(n, k, D)\n",
    "    theta_perms = [thetas[p] for p in permutations]\n",
    "    theta_perms = list(set(map(tuple, theta_perms))) # dedupe \n",
    "\n",
    "    supp = 2*D + k - 1\n",
    "\n",
    "    # Decision variables\n",
    "    v = cp.Variable()\n",
    "    p = cp.Variable(supp, nonneg=True)\n",
    "\n",
    "    # Constraints: adversary's worst-case selection\n",
    "    constraints = [v - cp.matmul(theta_p, p) <= 0 for theta_p in theta_perms]\n",
    "    # Constraints: p sums to k\n",
    "    constraints.append(cp.sum(p) == k)\n",
    "    # Constraints: all p_i are in [0, 1]\n",
    "    constraints += [p[i] <= 1 for i in range(supp)]\n",
    "    # Constraints: p is monotone\n",
    "    constraints += [p[i] >= p[i+1] for i in range(supp-1)]\n",
    "\n",
    "    # Objective: maximize v\n",
    "    objective = cp.Maximize(v)\n",
    "\n",
    "    # Solve the problem\n",
    "    prob = cp.Problem(objective, constraints)\n",
    "    prob.solve()\n",
    "\n",
    "    v_opt = v.value\n",
    "    p_opt = p.value\n",
    "\n",
    "    if v_opt is None:\n",
    "        return None, None, None\n",
    "    tight_constraints = [theta_p for theta_p in theta_perms if np.isclose(v_opt - np.dot(theta_p, p_opt), 0)]\n",
    "\n",
    "    return v_opt, p_opt, tight_constraints"
   ]
  },
  {
   "cell_type": "code",
   "execution_count": 28,
   "metadata": {},
   "outputs": [
    {
     "name": "stdout",
     "output_type": "stream",
     "text": [
      "Optimal value: 6.2\n",
      "Optimal strategy: [0.4  0.16 0.16 0.16 0.08 0.04]\n",
      "Tight constraints: [(7, 8, 9, 3, 2, 1), (6, 8, 4, 9, 2, 7), (6, 5, 4, 9, 8, 7), (8, 9, 4, 3, 2, 7), (7, 5, 9, 3, 8, 1)]\n"
     ]
    }
   ],
   "source": [
    "n=10\n",
    "k=1\n",
    "D=3\n",
    "\n",
    "thetas = n - np.arange(1,n+1)  # Borda count\n",
    "v_opt, p_opt, tight_constraints = get_optimal_strategy_pruned(thetas, n, k, D)\n",
    "print(\"Optimal value:\", np.round(v_opt, 3))\n",
    "print(\"Optimal strategy:\", np.round(p_opt, 3))\n",
    "print(\"Tight constraints:\", tight_constraints)"
   ]
  },
  {
   "cell_type": "code",
   "execution_count": 32,
   "metadata": {},
   "outputs": [],
   "source": [
    "D_dict = get_all_linf_distances(10)"
   ]
  },
  {
   "cell_type": "code",
   "execution_count": 34,
   "metadata": {},
   "outputs": [
    {
     "name": "stdout",
     "output_type": "stream",
     "text": [
      "Optimal value: 6.138\n",
      "Optimal strategy: [0.377 0.189 0.151 0.126 0.094 0.063 0.    0.    0.    0.   ]\n"
     ]
    }
   ],
   "source": [
    "n=10\n",
    "k=1\n",
    "D=3\n",
    "\n",
    "thetas = n - np.arange(1,n+1)  # Borda count\n",
    "v_opt, p_opt, tight_constraints = get_optimal_strategy(thetas, k, generate_linf_permutations(n,D, D_dict),\n",
    "                                                        return_tight_constraints=True, lex_order_p=0)\n",
    "print(\"Optimal value:\", np.round(v_opt, 3))\n",
    "print(\"Optimal strategy:\", np.round(p_opt, 3))\n",
    "# print(\"Tight constraints:\", tight_constraints)"
   ]
  },
  {
   "cell_type": "code",
   "execution_count": 8,
   "metadata": {},
   "outputs": [],
   "source": [
    "I = generate_instance(5000)\n",
    "I, k, _, _ = prune_instance(I, 1000)"
   ]
  },
  {
   "cell_type": "code",
   "execution_count": 25,
   "metadata": {},
   "outputs": [],
   "source": [
    "def order_instance(intervals):\n",
    "    n = len(intervals)\n",
    "    constraints = get_constraints(intervals)\n",
    "    A = [0]*len(intervals)\n",
    "    B = [0]*len(intervals)\n",
    "    for c in constraints:\n",
    "        A[c[1]] += 1 # num intevals that are strictly above i\n",
    "        B[c[0]] += 1 # num intevals that are strictly below i\n",
    "    # get all intervals with B[i] > 0\n",
    "    top = [i for i in range(n) if B[i] > 0]\n",
    "    # sort top by decreasing B (LCB) breaking ties with increasing A\n",
    "    sorted_top = sorted(top, key=lambda i: (-B[i], A[i]))\n",
    "    m_0 = len(top)\n",
    "    # sort bottom by increasing A (UCB) \n",
    "    bottom = [i for i in range(n) if B[i] == 0]\n",
    "    sorted_bottom = sorted(bottom, key=lambda i: A[i])  \n",
    "    order = sorted_top + sorted_bottom\n",
    "    A = [A[i] for i in order]\n",
    "    B = [B[i] for i in order]\n",
    "    I = [intervals[i] for i in order]\n",
    "    return I, A, B, m_0"
   ]
  },
  {
   "cell_type": "code",
   "execution_count": 26,
   "metadata": {},
   "outputs": [],
   "source": [
    "I, A, B, m_0 = order_instance(I)"
   ]
  },
  {
   "cell_type": "code",
   "execution_count": 27,
   "metadata": {},
   "outputs": [],
   "source": [
    "import math \n",
    "\n",
    "def generate_constraints(I, A, B, k, m_0):\n",
    "    n_constraints = 0\n",
    "    n = len(I)\n",
    "    for i in range(m_0):\n",
    "        # include 0 to i-1\n",
    "        c = list(range(i))\n",
    "        # let S_i be the set of intervals in {i+1,...,m} that overlap i\n",
    "        S_i = [j for j in range(m_0, len(I)) if I[j][0] < I[i][1]]\n",
    "        t_i = len(S_i)\n",
    "        # m_i is largest index in A that is <=i \n",
    "        m_i = max([j for j in range(n) if A[j] <= i])\n",
    "        a_max = min(k - i, m_i - m_0)\n",
    "        a_min = max(0, k - i - t_i)\n",
    "        for a in range(a_min, a_max+1):\n",
    "            # include (m_i - a + 1) to m_i\n",
    "            c += [m_i - x for x in range(a)] \n",
    "            if a < a_max:\n",
    "                A_min = A[m_i - a]\n",
    "                # only consider elements of S_i with A[i] >= j\n",
    "                S_i_a = [j for j in S_i if A[j] >= A_min]\n",
    "            else: \n",
    "                S_i_a = S_i\n",
    "                if len(S_i_a) < k-i-a:\n",
    "                    continue\n",
    "            \n",
    "            # split S_i_a by values of A \n",
    "            S_i_a_dict = {}\n",
    "            for j in S_i_a:\n",
    "                if A[j] not in S_i_a_dict:\n",
    "                    S_i_a_dict[A[j]] = []\n",
    "                S_i_a_dict[A[j]].append(j)\n",
    "            choices = [1+len(S_i_a_dict[j]) for j in S_i_a_dict]\n",
    "            max_choices1 = np.prod(choices)\n",
    "            # len(S_i_a) choose n_choose \n",
    "            max_choices2 = math.comb(len(S_i_a), k-i-a)  \n",
    "            max_choices = min(max_choices1, max_choices2)\n",
    "            n_constraints += max_choices\n",
    "        return n_constraints\n"
   ]
  },
  {
   "cell_type": "code",
   "execution_count": 28,
   "metadata": {},
   "outputs": [
    {
     "data": {
      "text/plain": [
       "0"
      ]
     },
     "execution_count": 28,
     "metadata": {},
     "output_type": "execute_result"
    }
   ],
   "source": [
    "generate_constraints(I, A, B, k, m_0)"
   ]
  },
  {
   "cell_type": "code",
   "execution_count": null,
   "metadata": {},
   "outputs": [],
   "source": [
    "### Difficult to prune instance ###\n",
    "m0 = 10\n",
    "k = m0+1\n",
    "# Generate intervals 1 to m0/2 all overlapping but monotonically decreasing\n",
    "intervals = [(m0-i, m0-(i/m0)) for i in range(1, m0//2+1)]\n",
    "# Generate intervals m0/2+1 to m0 such that interval m0/2+j overlaps with interval (m0/2-j+1) but is strictly below (m0/2-j)\n",
    "intervals += [(m0/2-j-m0/1000., m0/2+j-m0/1000.) for j in range(1, m0//2+1)]\n",
    "# Intervals m0+1 to m0+1+k/2 all overlap interval 1\n",
    "intervals += [(-1, intervals[0][1]) for k in range(0, k//2+1)]\n",
    "# For j in 2 to k-1 generate an interval that overlaps with interval j but is strictly below j-1\n",
    "intervals += [(-1, intervals[j][0]+m0/100.) for j in range(1, m0+1)]"
   ]
  },
  {
   "cell_type": "code",
   "execution_count": 18,
   "metadata": {},
   "outputs": [
    {
     "data": {
      "image/png": "[encoded data removed]",
      "text/plain": [
       "<Figure size 640x480 with 1 Axes>"
      ]
     },
     "metadata": {},
     "output_type": "display_data"
    }
   ],
   "source": [
    "plot_intervals(intervals)"
   ]
  },
  {
   "cell_type": "code",
   "execution_count": 15,
   "metadata": {},
   "outputs": [],
   "source": [
    "import time\n",
    "from functools import lru_cache\n",
    "\n",
    "def check_instance(A, B, m0, k):\n",
    "    n = len(A)\n",
    "\n",
    "    # check that intervals from 0 to (m0-1) are sorted by decreasing LCB and all have B[i] > 0\n",
    "    assert all([B[i] > 0 for i in range(m0)])\n",
    "    assert all([intervals[i][0] >= intervals[i+1][0] for i in range(m0-1)])\n",
    "    # check that intervals from m0 to n-1 are sorted by increasing UCB and all have A[i] > 0\n",
    "    assert all([B[i] == 0 for i in range(m0, n-1)])\n",
    "    assert all([intervals[i][1] >= intervals[i+1][1] for i in range(m0, n-1)])\n",
    "    # check that all intervals have A < k and B < n-k\n",
    "    assert all([A[i] < k for i in range(n)])\n",
    "    assert all([n - (A[i] + B[i] + 1) >= k for i in range(n)]) # i overlaps with at least k other intervals\n",
    "\n",
    "def find_tuples(maxes, k, i):\n",
    "    n = len(maxes)\n",
    "    target = k - i\n",
    "    \n",
    "    @lru_cache(None)\n",
    "    def dp(index, remaining):\n",
    "        if remaining < 0:\n",
    "            return []\n",
    "        if index == n:\n",
    "            return [[]] if remaining == 0 else []\n",
    "        \n",
    "        result = []\n",
    "        for x in range(min(maxes[index], remaining) + 1):\n",
    "            for suffix in dp(index + 1, remaining - x):\n",
    "                result.append([x] + suffix)\n",
    "        \n",
    "        return result\n",
    "    \n",
    "    return dp(0, target)\n",
    "\n",
    "\n",
    "# generate pruned problem instance\n",
    "def solve_pruned(intervals, m0, k):\n",
    "    print('Solving with n={}, k={}'.format(len(intervals), k))\n",
    "    n = len(intervals)\n",
    "\n",
    "    start_time = time.time()\n",
    "    print('Computing A and B...')\n",
    "    A = [0]*len(intervals)\n",
    "    B = [0]*len(intervals)\n",
    "    for c in get_constraints(intervals):\n",
    "        A[c[1]] += 1 # num intervals that are strictly above i\n",
    "        B[c[0]] += 1 # num intervals that are strictly below i\n",
    "    print(f'Computing A and B... Done in {time.time() - start_time:.2f} seconds.')\n",
    "\n",
    "    start_time = time.time()\n",
    "    print('Verifying problem instance is pruned and sorted correctly...')\n",
    "    check_instance(A, B, m0, k)\n",
    "    print(f'Verifying problem instance is pruned and sorted correctly... Done in {time.time() - start_time:.2f} seconds.')\n",
    "\n",
    "    start_time = time.time()\n",
    "    print('Generating constraints...')\n",
    "    # Decision variables\n",
    "    v = cp.Variable()\n",
    "    p = cp.Variable(n, nonneg=True)\n",
    "\n",
    "    constraints = []\n",
    "    # Constraints: p sums to k\n",
    "    constraints.append(cp.sum(p) == k)\n",
    "    # Constraints: all p_i are in [0, 1]\n",
    "    constraints += [p[i] <= 1 for i in range(n)]\n",
    "\n",
    "    ## Add monotonicity constraints\n",
    "    # Constraints: p is monotone above m0\n",
    "    constraints += [p[i] >= p[i+1] for i in range(m0, n-1)]\n",
    "    # Constraints: p is monotone whenever A[i] <= A[j] and i < j\n",
    "    for i in range(m0):\n",
    "        for j in range(i+1, n):\n",
    "            if A[i] <= A[j]:\n",
    "                constraints.append(p[i] >= p[j])\n",
    "\n",
    "    # Break the indices up into sets S_0,...,S_{m0} by value of A(x)\n",
    "    S_dict = {}\n",
    "    for i in range(n):\n",
    "        if A[i] not in S_dict:\n",
    "            S_dict[A[i]] = []\n",
    "        S_dict[A[i]].append(i)\n",
    "    # reverse order of each S_i\n",
    "    for i in range(n):\n",
    "        S_dict[A[i]] = S_dict[A[i]][::-1]\n",
    "    # sort S_dict by decreasing value of keys (A)\n",
    "    S_dict = dict(sorted(S_dict.items(), reverse=True))\n",
    "\n",
    "    # Add adversary's worst case selection constraints\n",
    "    for i in range(m0):\n",
    "        print('Iteration: ', i)\n",
    "        # Filter S_dict_i to only contain values > i\n",
    "        S_dict = {A_val: [j for j in inds if j > i] for A_val, inds in S_dict.items()}\n",
    "        # Get maximum value of each a_i based on size of S_dict_i\n",
    "        maxes = [len(inds) for inds in S_dict.values()]\n",
    "        # Get all possible (a_i,...,a_0) such that a_i <= maxes[i] and sum a_i = k - i\n",
    "        a_vals = find_tuples(maxes, k, i)\n",
    "\n",
    "        # Add constraints for each a_i,...,a_0\n",
    "        for a in a_vals:\n",
    "            constr = list(range(i)) + [S_dict[j][:a_j] for j, a_j in enumerate(a[::-1])]\n",
    "            constr = [x for sublist in constr for x in (sublist if isinstance(sublist, list) else [sublist])]\n",
    "            assert(len(constr) == k)\n",
    "            constraints.append(v - cp.sum([p[i] for i in constr]) <= 0)\n",
    "    print(f'Generating constraints... Done in {time.time() - start_time:.2f} seconds.')\n",
    "    print(f'Generated {len(constraints)} constraints.')\n",
    "\n",
    "    start_time = time.time()\n",
    "    print('Solving problem...')\n",
    "    # Objective: maximize v\n",
    "    objective = cp.Maximize(v)\n",
    "\n",
    "    # Solve the problem\n",
    "    prob = cp.Problem(objective, constraints)\n",
    "    prob.solve()\n",
    "    print(f'Solving problem... Done in {time.time() - start_time:.2f} seconds.')\n",
    "\n",
    "    return v.value, p.value"
   ]
  },
  {
   "cell_type": "code",
   "execution_count": 16,
   "metadata": {},
   "outputs": [
    {
     "name": "stdout",
     "output_type": "stream",
     "text": [
      "Solving with n=31, k=13\n",
      "Computing A and B...\n",
      "Computing A and B... Done in 0.00 seconds.\n",
      "Verifying problem instance is pruned and sorted correctly...\n",
      "Verifying problem instance is pruned and sorted correctly... Done in 0.00 seconds.\n",
      "Generating constraints...\n",
      "Iteration:  0\n",
      "Iteration:  1\n",
      "Iteration:  2\n",
      "Iteration:  3\n",
      "Iteration:  4\n",
      "Iteration:  5\n",
      "Iteration:  6\n",
      "Iteration:  7\n",
      "Iteration:  8\n",
      "Iteration:  9\n",
      "Iteration:  10\n",
      "Iteration:  11\n",
      "Generating constraints... Done in 107.20 seconds.\n",
      "Generated 166989 constraints.\n",
      "Solving problem...\n",
      "Solving problem... Done in 2448.57 seconds.\n"
     ]
    },
    {
     "data": {
      "text/plain": [
       "(array(5.4516129),\n",
       " array([0.41935484, 0.41935484, 0.41935484, 0.41935484, 0.41935484,\n",
       "        0.41935484, 0.41935484, 0.41935484, 0.41935484, 0.41935484,\n",
       "        0.41935484, 0.41935484, 0.41935484, 0.41935484, 0.41935484,\n",
       "        0.41935484, 0.41935484, 0.41935484, 0.41935484, 0.41935484,\n",
       "        0.41935484, 0.41935484, 0.41935484, 0.41935484, 0.41935484,\n",
       "        0.41935484, 0.41935484, 0.41935484, 0.41935484, 0.41935484,\n",
       "        0.41935484]))"
      ]
     },
     "execution_count": 16,
     "metadata": {},
     "output_type": "execute_result"
    }
   ],
   "source": [
    "solve_pruned(intervals, m0, k)"
   ]
  },
  {
   "cell_type": "code",
   "execution_count": null,
   "metadata": {},
   "outputs": [],
   "source": []
  }
 ],
 "metadata": {
  "kernelspec": {
   "display_name": "analysis",
   "language": "python",
   "name": "python3"
  },
  "language_info": {
   "codemirror_mode": {
    "name": "ipython",
    "version": 3
   },
   "file_extension": ".py",
   "mimetype": "text/x-python",
   "name": "python",
   "nbconvert_exporter": "python",
   "pygments_lexer": "ipython3",
   "version": "3.11.4"
  }
 },
 "nbformat": 4,
 "nbformat_minor": 2
}
