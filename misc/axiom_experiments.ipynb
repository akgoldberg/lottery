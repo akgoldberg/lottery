{
 "cells": [
  {
   "cell_type": "code",
   "execution_count": null,
   "metadata": {},
   "outputs": [],
   "source": [
    "from cutting_plane import solve_problem\n",
    "from helpers import plot_intervals, swiss_nsf\n",
    "from generate_intervals import generate_uniform_intervals, generate_fixedwidth_intervals\n",
    "\n",
    "import matplotlib.pyplot as plt"
   ]
  },
  {
   "cell_type": "markdown",
   "metadata": {},
   "source": [
    "### Check Reversal Symmetry"
   ]
  },
  {
   "cell_type": "code",
   "execution_count": null,
   "metadata": {},
   "outputs": [],
   "source": [
    "def flip_intervals(I, M = 1.):\n",
    "    I_f = I.copy()\n",
    "    for i in range(len(I)):\n",
    "        I_f[i] = (M - I[i][1], M - I[i][0])\n",
    "    # reverse ordering of intervals\n",
    "    return I_f"
   ]
  },
  {
   "cell_type": "code",
   "execution_count": null,
   "metadata": {},
   "outputs": [],
   "source": [
    "I = generate_fixedwidth_intervals(20, 1, M = 10.)\n",
    "# sort intervals by LCB\n",
    "I = sorted(I, key=lambda interval: interval[0], reverse=True)\n",
    "x = [(interval[1] + interval[0]) / 2. for interval in I]\n",
    "\n",
    "I_f = flip_intervals(I)\n",
    "x_f = [(interval[1] + interval[0]) / 2. for interval in I_f]"
   ]
  },
  {
   "cell_type": "code",
   "execution_count": null,
   "metadata": {},
   "outputs": [],
   "source": [
    "p, v, info = solve_problem(I, 5)\n",
    "p_F, v_F, info_F = solve_problem(I_f, 5)\n",
    "\n",
    "p_swiss = swiss_nsf(I, x, 5)\n",
    "p_swiss_F = swiss_nsf(I_f, x_f, 5)"
   ]
  },
  {
   "cell_type": "code",
   "execution_count": null,
   "metadata": {},
   "outputs": [],
   "source": [
    "# show ax0 and ax1 side by side\n",
    "fig, (ax0, ax1) = plt.subplots(1, 2, figsize=(12, 6))\n",
    "plot_intervals(I, x=x, k=5, plot_swiss_nsf=True, ax=ax0, show_axes=False)\n",
    "plot_intervals(I_f, x=x_f, k=5, plot_swiss_nsf=True, ax=ax1, show_axes=False)\n",
    "\n",
    "ax0.set_title(\"Original Intervals\")\n",
    "ax1.set_title(\"Flipped Intervals\")\n",
    "\n",
    "plt.tight_layout()\n",
    "plt.show()"
   ]
  },
  {
   "cell_type": "code",
   "execution_count": null,
   "metadata": {},
   "outputs": [],
   "source": [
    "n = 20\n",
    "k = 8\n",
    "\n",
    "I_algo = None\n",
    "I_swiss = None\n",
    "for iter in range(5000):\n",
    "    if I_algo is not None and I_swiss is not None:\n",
    "        break\n",
    "\n",
    "    I = generate_fixedwidth_intervals(n, 1, M = 10.)\n",
    "    # sort intervals by LCB\n",
    "    I = sorted(I, key=lambda interval: interval[0], reverse=True)\n",
    "    x = [(interval[1] + interval[0]) / 2. for interval in I]\n",
    "\n",
    "    I_f = flip_intervals(I)\n",
    "    x_f = [(interval[1] + interval[0]) / 2. for interval in I_f]\n",
    "\n",
    "    p, v, info = solve_problem(I, k)\n",
    "    p_F, v_F, info_F = solve_problem(I_f, k)\n",
    "\n",
    "    p_swiss = swiss_nsf(I, x, k)\n",
    "    p_swiss_F = swiss_nsf(I_f, x_f, k) \n",
    "\n",
    "    indices1 = [i for i, j in enumerate(p) if j == 1]\n",
    "    for i in indices1:\n",
    "        if p_F[i] > 0:\n",
    "            print(\"Found a counterexample for our algo.\")\n",
    "            I_algo = I.copy()\n",
    "            break\n",
    "    \n",
    "    indices1 = [i for i, j in enumerate(p_swiss) if j == 1]\n",
    "    for i in indices1:\n",
    "        if p_swiss_F[i] > 0:\n",
    "            print(\"Found a counterexample for Swiss NSF algo.\")\n",
    "            I_swiss = I.copy()\n",
    "            break"
   ]
  },
  {
   "cell_type": "code",
   "execution_count": null,
   "metadata": {},
   "outputs": [],
   "source": [
    "x_swiss = [(interval[1] + interval[0]) / 2. for interval in I_swiss]\n",
    "# sort swiss intervals by x_swiss\n",
    "I_swiss = sorted(I_swiss, key=lambda interval: (interval[1] + interval[0]) / 2., reverse=True)\n",
    "x_swiss = sorted(x_swiss, reverse=True)\n",
    "\n",
    "I_f = flip_intervals(I_swiss)\n",
    "x_f = [(interval[1] + interval[0]) / 2. for interval in I_f]\n",
    "\n",
    "# show ax0 and ax1 side by side\n",
    "fig, (ax0, ax1) = plt.subplots(1, 2, figsize=(12, 6))\n",
    "plot_intervals(I_swiss, x=x_swiss, k=4, plot_swiss_nsf=True, ax=ax0, show_axes=False)\n",
    "plot_intervals(I_f, x=x_f, k=4, plot_swiss_nsf=True, ax=ax1, show_axes=False)\n",
    "\n",
    "ax0.set_title(\"Original Intervals\")\n",
    "ax1.set_title(\"Flipped Intervals\")\n",
    "\n",
    "plt.tight_layout()\n",
    "plt.show()"
   ]
  },
  {
   "cell_type": "code",
   "execution_count": null,
   "metadata": {},
   "outputs": [],
   "source": [
    "x_algo = [(interval[1] + interval[0]) / 2. for interval in I_algo]\n",
    "# sort algo intervals by x_algo\n",
    "I_algo = sorted(I_algo, key=lambda interval: (interval[1] + interval[0]) / 2., reverse=True)\n",
    "x_algo = sorted(x_algo, reverse=True)\n",
    "\n",
    "I_f = flip_intervals(I_algo)\n",
    "x_f = [(interval[1] + interval[0]) / 2. for interval in I_f]\n",
    "\n",
    "# show ax0 and ax1 side by side\n",
    "fig, (ax0, ax1) = plt.subplots(1, 2, figsize=(12, 6))\n",
    "plot_intervals(I_algo, x=x_algo, k=4, plot_algo=True, ax=ax0, show_axes=False)\n",
    "plot_intervals(I_f, x=x_f, k=4, plot_algo=True, ax=ax1, show_axes=False)\n",
    "\n",
    "ax0.set_title(\"Original Intervals\")\n",
    "ax1.set_title(\"Flipped Intervals\")\n",
    "\n",
    "plt.tight_layout()\n",
    "plt.show()"
   ]
  },
  {
   "cell_type": "code",
   "execution_count": null,
   "metadata": {},
   "outputs": [],
   "source": [
    "solve_problem(I_algo, 4)"
   ]
  },
  {
   "cell_type": "code",
   "execution_count": null,
   "metadata": {},
   "outputs": [],
   "source": [
    "I_f = flip_intervals(I_algo)"
   ]
  },
  {
   "cell_type": "code",
   "execution_count": null,
   "metadata": {},
   "outputs": [],
   "source": [
    "solve_problem(I_f, 4)"
   ]
  }
 ],
 "metadata": {
  "language_info": {
   "name": "python"
  }
 },
 "nbformat": 4,
 "nbformat_minor": 2
}
