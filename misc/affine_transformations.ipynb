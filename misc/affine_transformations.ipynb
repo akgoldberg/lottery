{
 "cells": [
  {
   "cell_type": "code",
   "execution_count": 46,
   "metadata": {},
   "outputs": [],
   "source": [
    "import cvxpy as cp\n",
    "from scipy.stats import norm\n",
    "import matplotlib.pyplot as plt \n",
    "import pandas as pd\n",
    "import numpy as np"
   ]
  },
  {
   "cell_type": "code",
   "execution_count": 48,
   "metadata": {},
   "outputs": [],
   "source": [
    "# assignment matrix with 2 reviewers and 3 papers\n",
    "A3 = np.matrix([\n",
    "    [1, 0],\n",
    "    [0, 1],\n",
    "    [1, 1]\n",
    "])\n",
    "\n",
    "#### Simulate model with gaussian linear miscalibration ####\n",
    "# A: assignment matrix\n",
    "# sigma_theta: standard deviation of true quality\n",
    "# sigma_lambda: standard deviation of linear miscalibration\n",
    "# sigma_epsilon: standard deviation of per-review noise\n",
    "def simulate_gaussian_linear_miscalibration(A, sigma_theta, sigma_lambda, sigma_epsilon):\n",
    "    n = A.shape[0] # number of items\n",
    "    m = A.shape[1] # number of reviewers\n",
    "    # true quality\n",
    "    thetas = norm.rvs(scale=sigma_theta, size=n)\n",
    "    # linear miscalibration\n",
    "    lambdas = norm.rvs(scale=sigma_lambda, size=m)\n",
    "    # observed quality\n",
    "    y = np.zeros((n,m))\n",
    "    for i in range(n):\n",
    "        for j in range(m):\n",
    "            if A[i,j] == 1:\n",
    "                y[i,j] = thetas[i] + lambdas[j] + norm.rvs(scale=sigma_epsilon)\n",
    "    return thetas, lambdas, y\n",
    "\n",
    "# adjust observed quality by fitting a linear model of linear miscalibration that minimizes the sum of squared errors within each review\n",
    "def estimate_linear_miscalibration_mle(y, A):\n",
    "    n = y.shape[0] # number of items\n",
    "    m = y.shape[1] # number of reviewers\n",
    "    thetas = cp.Variable(n)\n",
    "    lambdas = cp.Variable(m)\n",
    "    # minimize sum of (y_ij - theta_i - lambda_j)^2\n",
    "    objective = cp.Minimize(cp.sum((cp.multiply(A, (y - thetas[:, None] - lambdas[None, :]))**2)))\n",
    "    constraints = []\n",
    "    prob = cp.Problem(objective, constraints)\n",
    "    prob.solve()\n",
    "    return thetas.value, lambdas.value\n",
    "\n",
    "# simulate model with linear miscalibration + commensuration bias\n",
    "def simulate_gaussian_linear_miscalibration_commensuration_bias(A, n_latent, sigma_theta, sigma_lambda, sigma_epsilon):\n",
    "    n = A.shape[0] # number of items\n",
    "    m = A.shape[1] # number of reviewers\n",
    "    \n",
    "    # subjective weights for each reviewer \n",
    "    "
   ]
  },
  {
   "cell_type": "code",
   "execution_count": 49,
   "metadata": {},
   "outputs": [],
   "source": [
    "thetas, lambdas, y = simulate_gaussian_linear_miscalibration(A3, 1, 0.5, 0.5)"
   ]
  },
  {
   "cell_type": "code",
   "execution_count": 50,
   "metadata": {},
   "outputs": [
    {
     "data": {
      "text/plain": [
       "(array([ 0.13195735, -0.26156068,  0.16710019]),\n",
       " array([ 0.29982264, -0.26232578]))"
      ]
     },
     "execution_count": 50,
     "metadata": {},
     "output_type": "execute_result"
    }
   ],
   "source": [
    "adjust_linear_miscalibration(y, A3)"
   ]
  },
  {
   "cell_type": "code",
   "execution_count": null,
   "metadata": {},
   "outputs": [],
   "source": []
  }
 ],
 "metadata": {
  "kernelspec": {
   "display_name": "analysis",
   "language": "python",
   "name": "python3"
  },
  "language_info": {
   "codemirror_mode": {
    "name": "ipython",
    "version": 3
   },
   "file_extension": ".py",
   "mimetype": "text/x-python",
   "name": "python",
   "nbconvert_exporter": "python",
   "pygments_lexer": "ipython3",
   "version": "3.11.4"
  }
 },
 "nbformat": 4,
 "nbformat_minor": 2
}
