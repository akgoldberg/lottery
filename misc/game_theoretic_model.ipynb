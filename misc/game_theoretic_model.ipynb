{
 "cells": [
  {
   "cell_type": "code",
   "execution_count": 1,
   "metadata": {},
   "outputs": [],
   "source": [
    "import cvxpy as cp\n",
    "import numpy as np\n",
    "import itertools\n",
    "\n",
    "from stackelberg_model import *"
   ]
  },
  {
   "cell_type": "markdown",
   "metadata": {},
   "source": [
    "### Simulations with Single Insertion Errors"
   ]
  },
  {
   "cell_type": "code",
   "execution_count": 3,
   "metadata": {},
   "outputs": [
    {
     "name": "stdout",
     "output_type": "stream",
     "text": [
      "Optimal v*: 2.000\n",
      "Lexicographically optimal p: [ 1.0, 1.0, 1.0, 0.0, 0.0, 0.0, 0.0, 0.0, 0.0, 0.0 ]\n"
     ]
    }
   ],
   "source": [
    "n = 10\n",
    "k = 3\n",
    "thetas = k*[1] + (n-k)*[0]\n",
    "m = 2\n",
    "\n",
    "p1 = thetas\n",
    "v, p_opt, tight_constraints = get_optimal_strategy(thetas, k, generate_single_insertion_permutations(n, m), verbose=True)"
   ]
  },
  {
   "cell_type": "code",
   "execution_count": 7,
   "metadata": {},
   "outputs": [
    {
     "name": "stdout",
     "output_type": "stream",
     "text": [
      "[1, 1, 1, 0, 0, 0, 0, 0, 0, 0]\n",
      "shift= 1 : p= [1.  1.  0.5 0.5 0.  0.  0.  0.  0.  0. ] v= 2.5\n",
      "shift= 2 : p= [1. 1. 1. 0. 0. 0. 0. 0. 0. 0.] v= 2.0\n",
      "shift= 3 : p= [1. 1. 1. 0. 0. 0. 0. 0. 0. 0.] v= 2.0\n",
      "shift= 4 : p= [1. 1. 1. 0. 0. 0. 0. 0. 0. 0.] v= 2.0\n",
      "shift= 5 : p= [1. 1. 1. 0. 0. 0. 0. 0. 0. 0.] v= 2.0\n",
      "shift= 6 : p= [1. 1. 1. 0. 0. 0. 0. 0. 0. 0.] v= 2.0\n",
      "shift= 7 : p= [1. 1. 1. 0. 0. 0. 0. 0. 0. 0.] v= 2.0\n",
      "shift= 8 : p= [1. 1. 1. 0. 0. 0. 0. 0. 0. 0.] v= 2.0\n",
      "shift= 9 : p= [1. 1. 1. 0. 0. 0. 0. 0. 0. 0.] v= 2.0\n",
      "shift= 10 : p= [1. 1. 1. 0. 0. 0. 0. 0. 0. 0.] v= 2.0\n"
     ]
    }
   ],
   "source": [
    "n = 10\n",
    "k = 3\n",
    "s = k*[1] + (n-k)*[0] # top k\n",
    "\n",
    "print(s)\n",
    "\n",
    "for max_shift in range(1, n+1):\n",
    "    v_out, p_out, tight_constraints = get_optimal_strategy(s, k, generate_single_insertion_permutations(n, max_shift))\n",
    "    print('shift=', max_shift,':', 'p=', np.round(p_out.tolist(), 3), 'v=', np.round(v_out,3))"
   ]
  },
  {
   "cell_type": "code",
   "execution_count": null,
   "metadata": {},
   "outputs": [
    {
     "name": "stdout",
     "output_type": "stream",
     "text": [
      "[9 8 7 6 5 4 3 2 1 0]\n",
      "shift= 1 : p= [1.    0.667 0.333 0.    0.    0.    0.    0.    0.    0.   ] v= 16.333\n",
      "shift= 2 : p= [1.    0.667 0.333 0.    0.    0.    0.    0.    0.    0.   ] v= 15.667\n",
      "shift= 3 : p= [0.8 0.6 0.4 0.2 0.  0.  0.  0.  0.  0. ] v= 14.8\n",
      "shift= 4 : p= [0.82  0.656 0.525 0.    0.    0.    0.    0.    0.    0.   ] v= 14.197\n",
      "shift= 5 : p= [0.667 0.556 0.463 0.315 0.    0.    0.    0.    0.    0.   ] v= 13.574\n",
      "shift= 6 : p= [0.621 0.532 0.456 0.391 0.    0.    0.    0.    0.    0.   ] v= 13.037\n",
      "shift= 7 : p= [0.587 0.514 0.45  0.45  0.    0.    0.    0.    0.    0.   ] v= 12.541\n",
      "shift= 8 : p= [0.545 0.485 0.485 0.485 0.    0.    0.    0.    0.    0.   ] v= 12.182\n",
      "shift= 9 : p= [0.5 0.5 0.5 0.5 0.  0.  0.  0.  0.  0. ] v= 12.0\n",
      "shift= 10 : p= [0.5 0.5 0.5 0.5 0.  0.  0.  0.  0.  0. ] v= 12.0\n"
     ]
    }
   ],
   "source": [
    "n = 10\n",
    "k = 2\n",
    "s = n - np.arange(1, n+1)  # borda count\n",
    "\n",
    "print(s)\n",
    "\n",
    "for max_shift in range(1, n+1):\n",
    "    v_out, p_out, tight_constraints = get_optimal_strategy(s, k, generate_single_insertion_permutations(n, max_shift))\n",
    "    print('shift=', max_shift,':', 'p=', np.round(p_out.tolist(), 3), 'v=', np.round(v_out,3))"
   ]
  },
  {
   "cell_type": "markdown",
   "metadata": {},
   "source": [
    "## Solve with Cost"
   ]
  },
  {
   "cell_type": "code",
   "execution_count": 11,
   "metadata": {},
   "outputs": [],
   "source": [
    "# Solve an LP with a cost function defined as C(sigma) = C if d(sigma) > cutoff, 0 otherwise\n",
    "def solve_single_cost_lp(thetas, k, generate_permutations, cutoff, C, max_d, verbose=False):\n",
    "    permutations, distances = generate_permutations(n, max_d, return_distances=True)\n",
    "    cost_func = lambda d: C if d > cutoff else 0\n",
    "    cost = [cost_func(d) for d in distances]\n",
    "\n",
    "    v_opt, p_opt = get_optimal_strategy_with_costs(thetas, k, permutations, cost, verbose=verbose)\n",
    "    return v_opt, p_opt\n",
    "\n",
    "# Solve separate LPs for S1 = {sigma: d(sigma) <= cutoff} and S2 = {sigma: d(sigma) > cutoff}\n",
    "def solve_separate_lps(thetas, k, generate_permutations, cutoff, max_d):\n",
    "    n = len(thetas)\n",
    "    # Permutations S1 and S2\n",
    "    S = generate_permutations(n, max_d) # set of all perms\n",
    "    S1 = generate_permutations(n, cutoff) # set of perms with distance <= cutoff\n",
    "    S2 = [s for s in S if s not in S1] # set of perms with distance > cutoff\n",
    "\n",
    "    # Solve LP for S1\n",
    "    v1, p1, _ = get_optimal_strategy(thetas, k, S1)\n",
    "    # Solve LP for S2\n",
    "    v2, p2, _ = get_optimal_strategy(thetas, k, S2)\n",
    "    v,p,_ = get_optimal_strategy(thetas, k, S)\n",
    "\n",
    "    return v1, p1, v2, p2, v, p"
   ]
  },
  {
   "cell_type": "code",
   "execution_count": 12,
   "metadata": {},
   "outputs": [],
   "source": [
    "n = 10\n",
    "k = 1\n",
    "s = k*[1] + (n-k)*[0]  # borda count\n",
    "s = s / np.sum(s[:k]) # normalize\n",
    "\n",
    "max_shift = 8\n",
    "cutoff = 3"
   ]
  },
  {
   "cell_type": "code",
   "execution_count": 13,
   "metadata": {},
   "outputs": [
    {
     "name": "stdout",
     "output_type": "stream",
     "text": [
      "v1: 0.2499999999307309\n",
      "p1: [0.25 0.25 0.25 0.25 0.   0.   0.   0.   0.   0.  ]\n",
      "v2: 0.14285714238069763\n",
      "p2: [1.42857145e-01 1.42857145e-01 5.16045502e-10 0.00000000e+00\n",
      " 1.42857143e-01 1.42857143e-01 1.42857143e-01 1.42857143e-01\n",
      " 1.42857143e-01 0.00000000e+00]\n",
      "v: 0.11111111099967014\n",
      "p: [0.11111111 0.11111111 0.11111111 0.11111111 0.11111111 0.11111111\n",
      " 0.11111111 0.11111111 0.11111111 0.        ]\n"
     ]
    }
   ],
   "source": [
    "v1, p1, v2, p2, v0, p0 = solve_separate_lps(s, k, generate_single_insertion_permutations, cutoff, max_shift)\n",
    "print('v1:', v1)\n",
    "print('p1:', p1)\n",
    "print('v2:', v2)\n",
    "print('p2:', p2)\n",
    "print('v:', v0)\n",
    "print('p:', p0)"
   ]
  },
  {
   "cell_type": "code",
   "execution_count": 14,
   "metadata": {},
   "outputs": [
    {
     "name": "stdout",
     "output_type": "stream",
     "text": [
      "v: 0.133\n",
      "p: [0.13333333 0.13333333 0.13333333 0.13333333 0.09333333 0.09333333\n",
      " 0.09333333 0.09333333 0.09333333 0.        ]\n"
     ]
    }
   ],
   "source": [
    "C = 0.04\n",
    "v,p = solve_single_cost_lp(s, k, generate_single_insertion_permutations, cutoff, C, max_shift)\n",
    "\n",
    "print('v:', np.round(v,3))\n",
    "print('p:', p)"
   ]
  },
  {
   "cell_type": "code",
   "execution_count": 15,
   "metadata": {},
   "outputs": [],
   "source": [
    "# find value of lambda such that p1*(lambda) + p0*(1-lambda) = p\n",
    "def find_lambda(p, p1, p0):\n",
    "    n = len(p)\n",
    "    lambda_ = cp.Variable()\n",
    "    epsilon = 1e-6  # Allowable error\n",
    "    constraints = [0 <= lambda_, lambda_ <= 1]\n",
    "    constraints += [cp.abs(p[i] - (lambda_*p1[i] + (1-lambda_)*p0[i])) <= epsilon for i in range(n)]\n",
    "    problem = cp.Problem(cp.Minimize(0), constraints)\n",
    "    problem.solve()\n",
    "    return lambda_.value"
   ]
  },
  {
   "cell_type": "code",
   "execution_count": 16,
   "metadata": {},
   "outputs": [
    {
     "data": {
      "text/plain": [
       "array(0.16000014)"
      ]
     },
     "execution_count": 16,
     "metadata": {},
     "output_type": "execute_result"
    }
   ],
   "source": [
    "find_lambda(p, p1, p0)"
   ]
  },
  {
   "cell_type": "code",
   "execution_count": 17,
   "metadata": {},
   "outputs": [
    {
     "name": "stdout",
     "output_type": "stream",
     "text": [
      "v: 0.167\n",
      "p: [0.16666667 0.16666667 0.16666667 0.16666667 0.06666667 0.06666667\n",
      " 0.06666667 0.06666667 0.06666667 0.        ]\n"
     ]
    }
   ],
   "source": [
    "C = 0.1\n",
    "v,p = solve_single_cost_lp(s, k, generate_single_insertion_permutations, cutoff, C, max_shift)\n",
    "\n",
    "print('v:', np.round(v,3))\n",
    "print('p:', p)"
   ]
  },
  {
   "cell_type": "markdown",
   "metadata": {},
   "source": [
    "### Simulations with Error at Bounded Kendall-Tau Distance"
   ]
  },
  {
   "cell_type": "code",
   "execution_count": 4,
   "metadata": {},
   "outputs": [],
   "source": [
    "n = 10"
   ]
  },
  {
   "cell_type": "code",
   "execution_count": 6,
   "metadata": {},
   "outputs": [],
   "source": [
    "distance_dict = get_all_kendall_tau_distances(n)"
   ]
  },
  {
   "cell_type": "code",
   "execution_count": 28,
   "metadata": {},
   "outputs": [
    {
     "name": "stdout",
     "output_type": "stream",
     "text": [
      "D = 1 : [0.5 0.5 0.  0.  0.  0.  0.  0.  0.  0. ]\n",
      "D = 2 : [0.333 0.333 0.333 0.    0.    0.    0.    0.    0.    0.   ]\n",
      "D = 3 : [0.25 0.25 0.25 0.25 0.   0.   0.   0.   0.   0.  ]\n",
      "D = 4 : [0.2 0.2 0.2 0.2 0.2 0.  0.  0.  0.  0. ]\n",
      "D = 5 : [0.167 0.167 0.167 0.167 0.167 0.167 0.    0.    0.    0.   ]\n",
      "D = 6 : [0.143 0.143 0.143 0.143 0.143 0.143 0.143 0.    0.    0.   ]\n",
      "D = 7 : [0.125 0.125 0.125 0.125 0.125 0.125 0.125 0.125 0.    0.   ]\n",
      "D = 8 : [0.111 0.111 0.111 0.111 0.111 0.111 0.111 0.111 0.111 0.   ]\n",
      "D = 9 : [0.1 0.1 0.1 0.1 0.1 0.1 0.1 0.1 0.1 0.1]\n",
      "D = 10 : [0.1 0.1 0.1 0.1 0.1 0.1 0.1 0.1 0.1 0.1]\n",
      "D = 11 : [0.1 0.1 0.1 0.1 0.1 0.1 0.1 0.1 0.1 0.1]\n",
      "D = 12 : [0.1 0.1 0.1 0.1 0.1 0.1 0.1 0.1 0.1 0.1]\n",
      "D = 13 : [0.1 0.1 0.1 0.1 0.1 0.1 0.1 0.1 0.1 0.1]\n",
      "D = 14 : [0.1 0.1 0.1 0.1 0.1 0.1 0.1 0.1 0.1 0.1]\n"
     ]
    }
   ],
   "source": [
    "k = 1\n",
    "thetas = k*[1] + (n-k)*[0]\n",
    "\n",
    "for max_distance in range(1, 15):\n",
    "    perms = generate_kendall_tau_permutations(n, max_distance, distance_dict=distance_dict)\n",
    "    v_out, p_out, tight_constraints = get_optimal_strategy(thetas, k, perms, lex_order_p=1) \n",
    "    print('D =', max_distance,':', np.round(p_out.tolist(), 3))"
   ]
  },
  {
   "cell_type": "code",
   "execution_count": 29,
   "metadata": {},
   "outputs": [
    {
     "name": "stdout",
     "output_type": "stream",
     "text": [
      "D = 1 : [1.  0.5 0.5 0.  0.  0.  0.  0.  0.  0. ]\n",
      "D = 2 : [1. 1. 0. 0. 0. 0. 0. 0. 0. 0.]\n",
      "D = 3 : [1. 1. 0. 0. 0. 0. 0. 0. 0. 0.]\n",
      "D = 4 : [0.667 0.667 0.667 0.    0.    0.    0.    0.    0.    0.   ]\n",
      "D = 5 : [0.667 0.667 0.667 0.    0.    0.    0.    0.    0.    0.   ]\n",
      "D = 6 : [0.5 0.5 0.5 0.5 0.  0.  0.  0.  0.  0. ]\n",
      "D = 7 : [0.5 0.5 0.5 0.5 0.  0.  0.  0.  0.  0. ]\n",
      "D = 8 : [0.4 0.4 0.4 0.4 0.4 0.  0.  0.  0.  0. ]\n",
      "D = 9 : [0.4 0.4 0.4 0.4 0.4 0.  0.  0.  0.  0. ]\n",
      "D = 10 : [0.2 0.2 0.2 0.2 0.2 0.2 0.2 0.2 0.2 0.2]\n",
      "D = 11 : [0.2 0.2 0.2 0.2 0.2 0.2 0.2 0.2 0.2 0.2]\n",
      "D = 12 : [0.2 0.2 0.2 0.2 0.2 0.2 0.2 0.2 0.2 0.2]\n",
      "D = 13 : [0.2 0.2 0.2 0.2 0.2 0.2 0.2 0.2 0.2 0.2]\n",
      "D = 14 : [0.2 0.2 0.2 0.2 0.2 0.2 0.2 0.2 0.2 0.2]\n"
     ]
    }
   ],
   "source": [
    "k = 2\n",
    "thetas = k*[1] + (n-k)*[0]\n",
    "\n",
    "for max_distance in range(1, 15):\n",
    "    perms = generate_kendall_tau_permutations(n, max_distance, distance_dict=distance_dict)\n",
    "    v_out, p_out, tight_constraints = get_optimal_strategy(thetas, k, perms, lex_order_p=1) \n",
    "    print('D =', max_distance,':', np.round(p_out.tolist(), 3))"
   ]
  },
  {
   "cell_type": "code",
   "execution_count": 30,
   "metadata": {},
   "outputs": [
    {
     "name": "stdout",
     "output_type": "stream",
     "text": [
      "D = 1 : [1.  1.  0.5 0.5 0.  0.  0.  0.  0.  0. ]\n",
      "D = 2 : [1. 1. 1. 0. 0. 0. 0. 0. 0. 0.]\n",
      "D = 3 : [1. 1. 1. 0. 0. 0. 0. 0. 0. 0.]\n",
      "D = 4 : [1.    0.667 0.667 0.333 0.333 0.    0.    0.    0.    0.   ]\n",
      "D = 5 : [1.  1.  0.5 0.5 0.  0.  0.  0.  0.  0. ]\n",
      "D = 6 : [0.857 0.857 0.429 0.429 0.429 0.    0.    0.    0.    0.   ]\n",
      "D = 7 : [0.6 0.6 0.6 0.6 0.6 0.  0.  0.  0.  0. ]\n",
      "D = 8 : [0.667 0.583 0.5   0.417 0.333 0.25  0.167 0.083 0.    0.   ]\n",
      "D = 9 : [0.667 0.667 0.667 0.333 0.333 0.333 0.    0.    0.    0.   ]\n",
      "D = 10 : [0.6   0.533 0.467 0.4   0.333 0.267 0.2   0.133 0.067 0.   ]\n",
      "D = 11 : [0.3 0.3 0.3 0.3 0.3 0.3 0.3 0.3 0.3 0.3]\n",
      "D = 12 : [0.3 0.3 0.3 0.3 0.3 0.3 0.3 0.3 0.3 0.3]\n",
      "D = 13 : [0.3 0.3 0.3 0.3 0.3 0.3 0.3 0.3 0.3 0.3]\n",
      "D = 14 : [0.3 0.3 0.3 0.3 0.3 0.3 0.3 0.3 0.3 0.3]\n"
     ]
    }
   ],
   "source": [
    "k = 3\n",
    "thetas = k*[1] + (n-k)*[0]\n",
    "\n",
    "for max_distance in range(1, 15):\n",
    "    perms = generate_kendall_tau_permutations(n, max_distance, distance_dict=distance_dict)\n",
    "    v_out, p_out, tight_constraints = get_optimal_strategy(thetas, k, perms, lex_order_p=1) \n",
    "    print('D =', max_distance,':', np.round(p_out.tolist(), 3))"
   ]
  },
  {
   "cell_type": "code",
   "execution_count": 33,
   "metadata": {},
   "outputs": [
    {
     "name": "stdout",
     "output_type": "stream",
     "text": [
      "D = 1 : [1.  1.  0.5 0.5 0.  0.  0.  0.  0.  0. ]\n",
      "D = 2 : [1.  0.5 0.5 0.5 0.5 0.  0.  0.  0.  0. ]\n",
      "D = 3 : [1. 1. 1. 0. 0. 0. 0. 0. 0. 0.]\n",
      "D = 4 : [1.    0.667 0.667 0.333 0.333 0.    0.    0.    0.    0.   ]\n",
      "D = 5 : [0.75 0.75 0.75 0.75 0.   0.   0.   0.   0.   0.  ]\n",
      "D = 6 : [0.714 0.571 0.571 0.429 0.286 0.286 0.143 0.    0.    0.   ]\n",
      "D = 7 : [0.6 0.6 0.6 0.6 0.6 0.  0.  0.  0.  0. ]\n",
      "D = 8 : [0.667 0.583 0.5   0.417 0.333 0.25  0.167 0.083 0.    0.   ]\n",
      "D = 9 : [0.5 0.5 0.5 0.5 0.5 0.5 0.  0.  0.  0. ]\n",
      "D = 10 : [0.6   0.533 0.467 0.4   0.333 0.267 0.2   0.133 0.067 0.   ]\n",
      "D = 11 : [0.3 0.3 0.3 0.3 0.3 0.3 0.3 0.3 0.3 0.3]\n",
      "D = 12 : [0.3 0.3 0.3 0.3 0.3 0.3 0.3 0.3 0.3 0.3]\n",
      "D = 13 : [0.3 0.3 0.3 0.3 0.3 0.3 0.3 0.3 0.3 0.3]\n",
      "D = 14 : [0.3 0.3 0.3 0.3 0.3 0.3 0.3 0.3 0.3 0.3]\n"
     ]
    }
   ],
   "source": [
    "k = 3\n",
    "thetas = k*[1] + (n-k)*[0]\n",
    "# thetas += (n - np.arange(n)) / 1000. # make stricly decreasing \n",
    "\n",
    "for max_distance in range(1, 15):\n",
    "    perms = generate_kendall_tau_permutations(n, max_distance, distance_dict=distance_dict)\n",
    "    v_out, p_out, tight_constraints = get_optimal_strategy(thetas, k, perms, lex_order_p=-1) \n",
    "    print('D =', max_distance,':', np.round(p_out.tolist(), 3))"
   ]
  },
  {
   "cell_type": "code",
   "execution_count": null,
   "metadata": {},
   "outputs": [
    {
     "name": "stdout",
     "output_type": "stream",
     "text": [
      "D = 1 : [1.  1.  0.5 0.5 0.  0.  0.  0.  0.  0. ]\n",
      "D = 2 : [1.    1.    0.999 0.001 0.    0.    0.    0.    0.    0.   ]\n",
      "D = 3 : [1.    0.999 0.998 0.002 0.001 0.    0.    0.    0.    0.   ]\n",
      "D = 4 : [1.    0.667 0.666 0.334 0.333 0.    0.    0.    0.    0.   ]\n",
      "D = 5 : [1.    0.999 0.5   0.5   0.001 0.    0.    0.    0.    0.   ]\n",
      "D = 6 : [0.857 0.856 0.429 0.429 0.428 0.001 0.    0.    0.    0.   ]\n",
      "D = 7 : [0.601 0.6   0.6   0.599 0.598 0.001 0.001 0.    0.    0.   ]\n",
      "D = 8 : [0.667 0.583 0.5   0.417 0.333 0.25  0.167 0.083 0.    0.   ]\n",
      "D = 9 : [0.667 0.666 0.666 0.334 0.333 0.333 0.001 0.    0.    0.   ]\n"
     ]
    }
   ],
   "source": [
    "k = 3\n",
    "thetas = k*[1] + (n-k)*[0]\n",
    "thetas += (n - np.arange(n)) / 1000. # make stricly decreasing \n",
    "\n",
    "for max_distance in range(1, 15):\n",
    "    perms = generate_kendall_tau_permutations(n, max_distance, distance_dict=distance_dict)\n",
    "    v_out, p_out, tight_constraints = get_optimal_strategy(thetas, k, perms, lex_order_p=-1) \n",
    "    print('D =', max_distance,':', np.round(p_out.tolist(), 3))"
   ]
  },
  {
   "cell_type": "code",
   "execution_count": 8,
   "metadata": {},
   "outputs": [
    {
     "name": "stdout",
     "output_type": "stream",
     "text": [
      "D = 1 : [1.  1.  1.  0.5 0.5 0.  0.  0.  0.  0. ]\n",
      "D = 2 : [1. 1. 1. 1. 0. 0. 0. 0. 0. 0.]\n",
      "D = 3 : [1. 1. 1. 1. 0. 0. 0. 0. 0. 0.]\n",
      "D = 4 : [1.    1.    0.667 0.667 0.333 0.333 0.    0.    0.    0.   ]\n",
      "D = 5 : [1.  1.  1.  0.5 0.5 0.  0.  0.  0.  0. ]\n",
      "D = 6 : [1.    0.857 0.714 0.571 0.429 0.286 0.143 0.    0.    0.   ]\n",
      "D = 7 : [1.    0.857 0.714 0.571 0.429 0.286 0.143 0.    0.    0.   ]\n",
      "D = 8 : [1. 1. 1. 1. 0. 0. 0. 0. 0. 0.]\n",
      "D = 9 : [0.889 0.778 0.667 0.556 0.444 0.333 0.222 0.111 0.    0.   ]\n",
      "D = 10 : [0.889 0.778 0.667 0.556 0.444 0.333 0.222 0.111 0.    0.   ]\n",
      "D = 11 : [0.8   0.711 0.622 0.533 0.444 0.356 0.267 0.178 0.089 0.   ]\n",
      "D = 12 : [0.8   0.711 0.622 0.533 0.444 0.356 0.267 0.178 0.089 0.   ]\n",
      "D = 13 : [0.4 0.4 0.4 0.4 0.4 0.4 0.4 0.4 0.4 0.4]\n",
      "D = 14 : [0.4 0.4 0.4 0.4 0.4 0.4 0.4 0.4 0.4 0.4]\n"
     ]
    }
   ],
   "source": [
    "k = 4\n",
    "thetas = k*[1] + (n-k)*[0]\n",
    "\n",
    "for max_distance in range(1, 15):\n",
    "    perms = generate_kendall_tau_permutations(n, max_distance, distance_dict=distance_dict)\n",
    "    v_out, p_out, tight_constraints = get_optimal_strategy(thetas, k, perms, lex_order_p=True) \n",
    "    print('D =', max_distance,':', np.round(p_out.tolist(), 3))"
   ]
  },
  {
   "cell_type": "code",
   "execution_count": 17,
   "metadata": {},
   "outputs": [],
   "source": [
    "def solve_lp(theta_perms):\n",
    "    n = len(theta_perms[0])\n",
    "    k = sum(theta_perms[0])\n",
    "    # Decision variables\n",
    "    v = cp.Variable()\n",
    "    p = cp.Variable(n, nonneg=True)\n",
    "\n",
    "    # Constraints: adversary's worst-case selection\n",
    "    constraints = [v - cp.matmul(theta_p, p) <= 0 for theta_p in theta_perms]\n",
    "\n",
    "    # Constraints: p sums to k\n",
    "    constraints.append(cp.sum(p) == k)\n",
    "\n",
    "    # Constraints: all p_i are in [0, 1]\n",
    "    constraints += [p[i] <= 1 for i in range(n)]\n",
    "\n",
    "    # **Step 1: Solve for v* without modifying p**\n",
    "    problem = cp.Problem(cp.Maximize(v), constraints)\n",
    "    problem.solve()\n",
    "\n",
    "    return v.value, p.value\n",
    "\n",
    "# search every subset of tight constraints to find smallest subset that has same value as original tight constraints \n",
    "def find_subset(tight_constraints, v_original):\n",
    "    n = len(tight_constraints)\n",
    "    for i in range(1, n+1):\n",
    "        for subset in itertools.combinations(tight_constraints, i):\n",
    "            v, p = solve_lp(subset)\n",
    "            # check infeasible\n",
    "            if v is None:\n",
    "                continue\n",
    "            # value is the same as original LP\n",
    "            if np.isclose(v, v_original):\n",
    "                # evaluate p on the original tight constraints\n",
    "                v_tight = min([np.dot(p, theta_p) for theta_p in tight_constraints])\n",
    "                if np.isclose(v_tight, v_original):\n",
    "                    return subset\n",
    "    return None"
   ]
  },
  {
   "cell_type": "code",
   "execution_count": 15,
   "metadata": {},
   "outputs": [],
   "source": [
    "k = 3\n",
    "thetas = k*[1] + (n-k)*[0]\n",
    "D = 4\n",
    "perms = generate_kendall_tau_permutations(n, D, distance_dict=distance_dict)\n",
    "v_out, p_out, tight_constraints = get_optimal_strategy(thetas, k, perms, lex_order_p=True, return_tight_constraints=True) "
   ]
  },
  {
   "cell_type": "code",
   "execution_count": 16,
   "metadata": {},
   "outputs": [
    {
     "data": {
      "text/plain": [
       "6"
      ]
     },
     "execution_count": 16,
     "metadata": {},
     "output_type": "execute_result"
    }
   ],
   "source": [
    "len(tight_constraints)"
   ]
  },
  {
   "cell_type": "code",
   "execution_count": 17,
   "metadata": {},
   "outputs": [
    {
     "data": {
      "text/plain": [
       "((0, 1, 1, 1, 0, 0, 0, 0, 0, 0),\n",
       " (0, 1, 1, 0, 1, 0, 0, 0, 0, 0),\n",
       " (1, 1, 0, 0, 0, 1, 0, 0, 0, 0),\n",
       " (1, 0, 0, 1, 1, 0, 0, 0, 0, 0),\n",
       " (1, 0, 1, 0, 0, 1, 0, 0, 0, 0))"
      ]
     },
     "execution_count": 17,
     "metadata": {},
     "output_type": "execute_result"
    }
   ],
   "source": [
    "find_subset(tight_constraints, v_out)"
   ]
  },
  {
   "cell_type": "code",
   "execution_count": 18,
   "metadata": {},
   "outputs": [],
   "source": [
    "k = 3\n",
    "thetas = k*[1] + (n-k)*[0]\n",
    "D = 5\n",
    "perms = generate_kendall_tau_permutations(n, D, distance_dict=distance_dict)\n",
    "v_out, p_out, tight_constraints = get_optimal_strategy(thetas, k, perms, lex_order_p=True, return_tight_constraints=True) "
   ]
  },
  {
   "cell_type": "code",
   "execution_count": 19,
   "metadata": {},
   "outputs": [
    {
     "data": {
      "text/plain": [
       "8"
      ]
     },
     "execution_count": 19,
     "metadata": {},
     "output_type": "execute_result"
    }
   ],
   "source": [
    "len(tight_constraints)"
   ]
  },
  {
   "cell_type": "code",
   "execution_count": 20,
   "metadata": {},
   "outputs": [
    {
     "data": {
      "text/plain": [
       "((1, 0, 1, 0, 0, 0, 1, 0, 0, 0),\n",
       " (1, 0, 0, 1, 0, 1, 0, 0, 0, 0),\n",
       " (0, 1, 0, 1, 1, 0, 0, 0, 0, 0),\n",
       " (0, 1, 1, 0, 0, 1, 0, 0, 0, 0))"
      ]
     },
     "execution_count": 20,
     "metadata": {},
     "output_type": "execute_result"
    }
   ],
   "source": [
    "find_subset(tight_constraints, v_out)"
   ]
  },
  {
   "cell_type": "code",
   "execution_count": 355,
   "metadata": {},
   "outputs": [],
   "source": [
    "# for num1 in range(k):\n",
    "#     for num_unif in range(1, n - num1):\n",
    "#         if (k - num1) / num_unif > 1:\n",
    "#             continue\n",
    "#         p = [1]*num1 + [(k - num1) / num_unif]*num_unif + [0]*(n - num1 - num_unif)\n",
    "#         # get min over all permutations sigma of p^T * theta_sigma \n",
    "#         worst_case_value, _ = evaluate_strategy(s, p, generate_permutations)\n",
    "#         # print(np.round(p, 3))\n",
    "#         # print(round(worst_case_value, 3))\n",
    "#         if np.isclose(worst_case_value, v_out):\n",
    "#             print(p)\n",
    "#             break "
   ]
  },
  {
   "cell_type": "markdown",
   "metadata": {},
   "source": [
    "### Borda Count"
   ]
  },
  {
   "cell_type": "code",
   "execution_count": 7,
   "metadata": {},
   "outputs": [
    {
     "name": "stdout",
     "output_type": "stream",
     "text": [
      "D = 1 : [0.667 0.333 0.    0.    0.    0.    0.    0.    0.    0.   ]\n",
      "D = 2 : [0.5   0.333 0.167 0.    0.    0.    0.    0.    0.    0.   ]\n",
      "D = 3 : [0.4 0.3 0.2 0.1 0.  0.  0.  0.  0.  0. ]\n",
      "D = 4 : [0.4   0.32  0.224 0.056 0.    0.    0.    0.    0.    0.   ]\n",
      "D = 5 : [0.354 0.295 0.246 0.101 0.004 0.    0.    0.    0.    0.   ]\n",
      "D = 6 : [0.309 0.265 0.227 0.155 0.044 0.    0.    0.    0.    0.   ]\n",
      "D = 7 : [0.285 0.249 0.218 0.175 0.073 0.    0.    0.    0.    0.   ]\n",
      "D = 8 : [0.265 0.235 0.224 0.173 0.086 0.017 0.    0.    0.    0.   ]\n"
     ]
    }
   ],
   "source": [
    "k = 1\n",
    "# borda count\n",
    "thetas = n - np.arange(1, n+1)\n",
    "\n",
    "for max_distance in range(1, 9):\n",
    "    perms = generate_kendall_tau_permutations(n, max_distance, distance_dict=distance_dict)\n",
    "    v_out, p_out, tight_constraints = get_optimal_strategy(thetas, k, perms, lex_order_p=1) \n",
    "    print('D =', max_distance,':', np.round(p_out.tolist(), 3))"
   ]
  },
  {
   "cell_type": "code",
   "execution_count": 8,
   "metadata": {},
   "outputs": [
    {
     "name": "stdout",
     "output_type": "stream",
     "text": [
      "D = 1 : [0.667 0.333 0.    0.    0.    0.    0.    0.    0.    0.   ]\n",
      "D = 2 : [0.5   0.333 0.167 0.    0.    0.    0.    0.    0.    0.   ]\n",
      "D = 3 : [0.4 0.3 0.2 0.1 0.  0.  0.  0.  0.  0. ]\n",
      "D = 4 : [0.4   0.32  0.224 0.056 0.    0.    0.    0.    0.    0.   ]\n",
      "D = 5 : [0.354 0.295 0.246 0.101 0.004 0.    0.    0.    0.    0.   ]\n",
      "D = 6 : [0.309 0.265 0.227 0.155 0.044 0.    0.    0.    0.    0.   ]\n",
      "D = 7 : [0.285 0.249 0.218 0.175 0.073 0.    0.    0.    0.    0.   ]\n",
      "D = 8 : [0.265 0.235 0.224 0.173 0.086 0.017 0.    0.    0.    0.   ]\n"
     ]
    }
   ],
   "source": [
    "k = 1\n",
    "# borda count\n",
    "thetas = n - np.arange(1, n+1)\n",
    "\n",
    "for max_distance in range(1, 9):\n",
    "    perms = generate_kendall_tau_permutations(n, max_distance, distance_dict=distance_dict)\n",
    "    v_out, p_out, tight_constraints = get_optimal_strategy(thetas, k, perms, lex_order_p=-1) \n",
    "    print('D =', max_distance,':', np.round(p_out.tolist(), 3))"
   ]
  },
  {
   "cell_type": "code",
   "execution_count": 22,
   "metadata": {},
   "outputs": [
    {
     "name": "stdout",
     "output_type": "stream",
     "text": [
      "D = 1 : [1.    0.667 0.333 0.    0.    0.    0.    0.    0.    0.   ]\n",
      "D = 2 : [1.    0.667 0.333 0.    0.    0.    0.    0.    0.    0.   ]\n",
      "D = 3 : [0.8 0.6 0.4 0.2 0.  0.  0.  0.  0.  0. ]\n",
      "D = 4 : [0.8   0.64  0.448 0.112 0.    0.    0.    0.    0.    0.   ]\n",
      "D = 5 : [0.708 0.59  0.492 0.202 0.008 0.    0.    0.    0.    0.   ]\n",
      "D = 6 : [0.618 0.529 0.454 0.311 0.088 0.    0.    0.    0.    0.   ]\n",
      "D = 7 : [0.569 0.498 0.436 0.351 0.146 0.    0.    0.    0.    0.   ]\n",
      "D = 8 : [0.529 0.471 0.449 0.345 0.172 0.034 0.    0.    0.    0.   ]\n"
     ]
    }
   ],
   "source": [
    "k = 2\n",
    "# borda count\n",
    "thetas = n - np.arange(1, n+1)\n",
    "\n",
    "for max_distance in range(1, 9):\n",
    "    perms = generate_kendall_tau_permutations(n, max_distance, distance_dict=distance_dict)\n",
    "    v_out, p_out, tight_constraints = get_optimal_strategy(thetas, k, perms, lex_order_p=1) \n",
    "    print('D =', max_distance,':', np.round(p_out.tolist(), 3))"
   ]
  },
  {
   "cell_type": "code",
   "execution_count": 9,
   "metadata": {},
   "outputs": [
    {
     "name": "stdout",
     "output_type": "stream",
     "text": [
      "D = 1 : [1.    0.667 0.333 0.    0.    0.    0.    0.    0.    0.   ]\n",
      "D = 2 : [1.    0.667 0.333 0.    0.    0.    0.    0.    0.    0.   ]\n",
      "D = 3 : [0.8 0.6 0.4 0.2 0.  0.  0.  0.  0.  0. ]\n",
      "D = 4 : [0.8   0.64  0.448 0.112 0.    0.    0.    0.    0.    0.   ]\n",
      "D = 5 : [0.708 0.59  0.492 0.202 0.008 0.    0.    0.    0.    0.   ]\n",
      "D = 6 : [0.618 0.529 0.454 0.311 0.088 0.    0.    0.    0.    0.   ]\n",
      "D = 7 : [0.569 0.498 0.436 0.351 0.146 0.    0.    0.    0.    0.   ]\n",
      "D = 8 : [0.529 0.471 0.449 0.345 0.172 0.034 0.    0.    0.    0.   ]\n"
     ]
    }
   ],
   "source": [
    "k = 2\n",
    "# borda count\n",
    "thetas = n - np.arange(1, n+1)\n",
    "\n",
    "for max_distance in range(1, 9):\n",
    "    perms = generate_kendall_tau_permutations(n, max_distance, distance_dict=distance_dict)\n",
    "    v_out, p_out, tight_constraints = get_optimal_strategy(thetas, k, perms, lex_order_p=-1) \n",
    "    print('D =', max_distance,':', np.round(p_out.tolist(), 3))"
   ]
  },
  {
   "cell_type": "code",
   "execution_count": 23,
   "metadata": {},
   "outputs": [
    {
     "name": "stdout",
     "output_type": "stream",
     "text": [
      "D = 1 : [1.    1.    0.667 0.333 0.    0.    0.    0.    0.    0.   ]\n",
      "D = 2 : [1.    1.    0.667 0.333 0.    0.    0.    0.    0.    0.   ]\n",
      "D = 3 : [1.  0.8 0.6 0.4 0.2 0.  0.  0.  0.  0. ]\n",
      "D = 4 : [1.   0.8  0.64 0.36 0.2  0.   0.   0.   0.   0.  ]\n",
      "D = 5 : [1.    0.833 0.694 0.394 0.079 0.    0.    0.    0.    0.   ]\n",
      "D = 6 : [0.926 0.794 0.681 0.466 0.132 0.    0.    0.    0.    0.   ]\n",
      "D = 7 : [0.854 0.747 0.654 0.526 0.219 0.    0.    0.    0.    0.   ]\n",
      "D = 8 : [0.794 0.706 0.673 0.518 0.258 0.05  0.    0.    0.    0.   ]\n"
     ]
    }
   ],
   "source": [
    "k = 3\n",
    "# borda count\n",
    "thetas = n - np.arange(1, n+1)\n",
    "\n",
    "for max_distance in range(1, 9):\n",
    "    perms = generate_kendall_tau_permutations(n, max_distance, distance_dict=distance_dict)\n",
    "    v_out, p_out, tight_constraints = get_optimal_strategy(thetas, k, perms, lex_order_p=True) \n",
    "    print('D =', max_distance,':', np.round(p_out.tolist(), 3))"
   ]
  },
  {
   "cell_type": "code",
   "execution_count": 10,
   "metadata": {},
   "outputs": [
    {
     "name": "stdout",
     "output_type": "stream",
     "text": [
      "D = 1 : [1.    1.    0.667 0.333 0.    0.    0.    0.    0.    0.   ]\n",
      "D = 2 : [1.    1.    0.667 0.333 0.    0.    0.    0.    0.    0.   ]\n",
      "D = 3 : [1.  0.8 0.6 0.4 0.2 0.  0.  0.  0.  0. ]\n",
      "D = 4 : [1.   0.8  0.64 0.36 0.2  0.   0.   0.   0.   0.  ]\n",
      "D = 5 : [1.    0.833 0.694 0.394 0.079 0.    0.    0.    0.    0.   ]\n",
      "D = 6 : [0.926 0.794 0.681 0.466 0.132 0.    0.    0.    0.    0.   ]\n",
      "D = 7 : [0.854 0.747 0.654 0.526 0.219 0.    0.    0.    0.    0.   ]\n",
      "D = 8 : [0.794 0.706 0.673 0.518 0.258 0.05  0.    0.    0.    0.   ]\n"
     ]
    }
   ],
   "source": [
    "k = 3\n",
    "# borda count\n",
    "thetas = n - np.arange(1, n+1)\n",
    "\n",
    "for max_distance in range(1, 9):\n",
    "    perms = generate_kendall_tau_permutations(n, max_distance, distance_dict=distance_dict)\n",
    "    v_out, p_out, tight_constraints = get_optimal_strategy(thetas, k, perms, lex_order_p=-1) \n",
    "    print('D =', max_distance,':', np.round(p_out.tolist(), 3))"
   ]
  },
  {
   "cell_type": "code",
   "execution_count": 24,
   "metadata": {},
   "outputs": [
    {
     "name": "stdout",
     "output_type": "stream",
     "text": [
      "D = 1 : [1.    1.    1.    0.667 0.333 0.    0.    0.    0.    0.   ]\n",
      "D = 2 : [1.    1.    1.    0.667 0.333 0.    0.    0.    0.    0.   ]\n",
      "D = 3 : [1.  1.  0.8 0.6 0.4 0.2 0.  0.  0.  0. ]\n",
      "D = 4 : [1.   1.   0.8  0.64 0.36 0.2  0.   0.   0.   0.  ]\n",
      "D = 5 : [1.    1.    0.833 0.694 0.306 0.167 0.    0.    0.    0.   ]\n",
      "D = 6 : [1.    1.    0.857 0.735 0.343 0.065 0.    0.    0.    0.   ]\n",
      "D = 7 : [1.    0.918 0.804 0.746 0.399 0.133 0.    0.    0.    0.   ]\n",
      "D = 8 : [1.    0.889 0.854 0.683 0.407 0.167 0.    0.    0.    0.   ]\n"
     ]
    }
   ],
   "source": [
    "k = 4\n",
    "# borda count\n",
    "thetas = n - np.arange(1, n+1)\n",
    "\n",
    "for max_distance in range(1, 9):\n",
    "    perms = generate_kendall_tau_permutations(n, max_distance, distance_dict=distance_dict)\n",
    "    v_out, p_out, tight_constraints = get_optimal_strategy(thetas, k, perms, lex_order_p=1) \n",
    "    print('D =', max_distance,':', np.round(p_out.tolist(), 3))"
   ]
  },
  {
   "cell_type": "code",
   "execution_count": 11,
   "metadata": {},
   "outputs": [
    {
     "name": "stdout",
     "output_type": "stream",
     "text": [
      "D = 1 : [1.    1.    1.    0.667 0.333 0.    0.    0.    0.    0.   ]\n",
      "D = 2 : [1.    1.    1.    0.667 0.333 0.    0.    0.    0.    0.   ]\n",
      "D = 3 : [1.  1.  0.8 0.6 0.4 0.2 0.  0.  0.  0. ]\n",
      "D = 4 : [1.   1.   0.8  0.64 0.36 0.2  0.   0.   0.   0.  ]\n",
      "D = 5 : [1.    1.    0.833 0.694 0.306 0.167 0.    0.    0.    0.   ]\n",
      "D = 6 : [1.    1.    0.857 0.735 0.343 0.065 0.    0.    0.    0.   ]\n",
      "D = 7 : [1.    0.918 0.804 0.746 0.399 0.133 0.    0.    0.    0.   ]\n",
      "D = 8 : [1.    0.889 0.854 0.683 0.407 0.167 0.    0.    0.    0.   ]\n"
     ]
    }
   ],
   "source": [
    "k = 4\n",
    "# borda count\n",
    "thetas = n - np.arange(1, n+1)\n",
    "\n",
    "for max_distance in range(1, 9):\n",
    "    perms = generate_kendall_tau_permutations(n, max_distance, distance_dict=distance_dict)\n",
    "    v_out, p_out, tight_constraints = get_optimal_strategy(thetas, k, perms, lex_order_p=-1) \n",
    "    print('D =', max_distance,':', np.round(p_out.tolist(), 3))"
   ]
  },
  {
   "cell_type": "code",
   "execution_count": 38,
   "metadata": {},
   "outputs": [],
   "source": [
    "k = 3\n",
    "thetas = n - np.arange(1, n+1)\n",
    "D = 5\n",
    "perms = generate_kendall_tau_permutations(n, D, distance_dict=distance_dict)\n",
    "v_out, p_out, tight_constraints = get_optimal_strategy(thetas, k, perms, lex_order_p=1, return_tight_constraints=True) "
   ]
  },
  {
   "cell_type": "code",
   "execution_count": 39,
   "metadata": {},
   "outputs": [],
   "source": [
    "# for two sequences find permutation that makes first sequence into the second\n",
    "def find_permutation(seq1, seq2):\n",
    "    n = len(seq1)\n",
    "    perm = [seq2.index(seq1[i]) for i in range(n)]\n",
    "    return perm"
   ]
  },
  {
   "cell_type": "code",
   "execution_count": 40,
   "metadata": {},
   "outputs": [
    {
     "data": {
      "text/plain": [
       "[[0, 1, 7, 2, 3, 4, 5, 6, 8, 9],\n",
       " [0, 6, 1, 2, 3, 4, 5, 7, 8, 9],\n",
       " [1, 2, 3, 4, 5, 0, 6, 7, 8, 9],\n",
       " [1, 2, 3, 5, 0, 4, 6, 7, 8, 9],\n",
       " [5, 0, 1, 2, 3, 4, 6, 7, 8, 9]]"
      ]
     },
     "execution_count": 40,
     "metadata": {},
     "output_type": "execute_result"
    }
   ],
   "source": [
    "sorted([find_permutation(seq, sorted(seq, reverse=True)) for seq in tight_constraints])"
   ]
  },
  {
   "cell_type": "code",
   "execution_count": 41,
   "metadata": {},
   "outputs": [],
   "source": [
    "k = 3\n",
    "thetas = k*[1] + (n-k)*[0]\n",
    "thetas += (n - np.arange(n)) / 1000. # make stricly decreasing\n",
    "\n",
    "D = 5\n",
    "perms = generate_kendall_tau_permutations(n, D, distance_dict=distance_dict)\n",
    "v_out, p_out, tight_constraints = get_optimal_strategy(thetas, k, perms, lex_order_p=1, return_tight_constraints=True) "
   ]
  },
  {
   "cell_type": "code",
   "execution_count": 42,
   "metadata": {},
   "outputs": [
    {
     "data": {
      "text/plain": [
       "[[0, 3, 4, 1, 5, 2, 6, 7, 8, 9],\n",
       " [0, 4, 1, 5, 2, 3, 6, 7, 8, 9],\n",
       " [0, 5, 1, 3, 2, 4, 6, 7, 8, 9],\n",
       " [1, 3, 2, 4, 0, 5, 6, 7, 8, 9],\n",
       " [2, 3, 0, 4, 1, 5, 6, 7, 8, 9],\n",
       " [3, 0, 1, 4, 5, 2, 6, 7, 8, 9],\n",
       " [3, 0, 4, 1, 2, 5, 6, 7, 8, 9]]"
      ]
     },
     "execution_count": 42,
     "metadata": {},
     "output_type": "execute_result"
    }
   ],
   "source": [
    "sorted([find_permutation(seq, sorted(seq, reverse=True)) for seq in tight_constraints])"
   ]
  },
  {
   "cell_type": "markdown",
   "metadata": {},
   "source": [
    "## Simulations with Bounded Footrule Distance"
   ]
  },
  {
   "cell_type": "code",
   "execution_count": 222,
   "metadata": {},
   "outputs": [],
   "source": [
    "n = 10\n",
    "k = 3\n",
    "s =k*[1] + (n-k)*[0] # top k"
   ]
  },
  {
   "cell_type": "code",
   "execution_count": 223,
   "metadata": {},
   "outputs": [],
   "source": [
    "distance_dict = get_all_spearmans_footrule_distances(n)"
   ]
  },
  {
   "cell_type": "code",
   "execution_count": 227,
   "metadata": {},
   "outputs": [
    {
     "name": "stdout",
     "output_type": "stream",
     "text": [
      "D = 2 : [1.  1.  0.5 0.5 0.  0.  0.  0.  0.  0. ]\n",
      "D = 4 : [1. 1. 1. 0. 0. 0. 0. 0. 0. 0.]\n",
      "D = 6 : [1. 1. 1. 0. 0. 0. 0. 0. 0. 0.]\n",
      "D = 8 : [1.    0.667 0.667 0.333 0.333 0.    0.    0.    0.    0.   ]\n",
      "D = 10 : [1.  1.  0.5 0.5 0.  0.  0.  0.  0.  0. ]\n",
      "D = 12 : [0.857 0.857 0.429 0.429 0.429 0.    0.    0.    0.    0.   ]\n",
      "D = 14 : [0.6 0.6 0.6 0.6 0.6 0.  0.  0.  0.  0. ]\n",
      "D = 16 : [0.667 0.583 0.5   0.417 0.333 0.25  0.167 0.083 0.    0.   ]\n",
      "D = 18 : [0.667 0.667 0.667 0.333 0.333 0.333 0.    0.    0.    0.   ]\n",
      "D = 20 : [0.6   0.533 0.467 0.4   0.333 0.267 0.2   0.133 0.067 0.   ]\n",
      "D = 22 : [0.3 0.3 0.3 0.3 0.3 0.3 0.3 0.3 0.3 0.3]\n",
      "D = 24 : [0.3 0.3 0.3 0.3 0.3 0.3 0.3 0.3 0.3 0.3]\n",
      "D = 26 : [0.3 0.3 0.3 0.3 0.3 0.3 0.3 0.3 0.3 0.3]\n"
     ]
    }
   ],
   "source": [
    "for max_distance in range(1, 14):\n",
    "    perms = generate_spearmans_footrule_permutations(n, 2*max_distance, distance_dict=distance_dict)\n",
    "    v_out, p_out, tight_constraints = get_optimal_strategy(s, k, perms, lex_order_p=True) \n",
    "    print('D =', 2*max_distance,':', np.round(p_out.tolist(), 3))"
   ]
  },
  {
   "cell_type": "code",
   "execution_count": 382,
   "metadata": {},
   "outputs": [
    {
     "name": "stdout",
     "output_type": "stream",
     "text": [
      "[1, 1, 1, 1, 0, 0, 0, 0, 0, 0]\n",
      "D = 1 : [1.  1.  1.  0.5 0.5 0.  0.  0.  0.  0. ]\n",
      "D = 2 : [1. 1. 1. 1. 0. 0. 0. 0. 0. 0.]\n",
      "D = 3 : [1. 1. 1. 1. 0. 0. 0. 0. 0. 0.]\n",
      "D = 4 : [1.    1.    0.667 0.667 0.333 0.333 0.    0.    0.    0.   ]\n",
      "D = 5 : [1.  1.  1.  0.5 0.5 0.  0.  0.  0.  0. ]\n",
      "D = 6 : [1.    0.857 0.714 0.571 0.429 0.286 0.143 0.    0.    0.   ]\n",
      "D = 7 : [1.    0.857 0.714 0.571 0.429 0.286 0.143 0.    0.    0.   ]\n",
      "D = 8 : [1. 1. 1. 1. 0. 0. 0. 0. 0. 0.]\n"
     ]
    }
   ],
   "source": [
    "n = 10\n",
    "k = 4\n",
    "s =k*[1] + (n-k)*[0] # top k\n",
    "\n",
    "print(s)\n"
   ]
  },
  {
   "cell_type": "code",
   "execution_count": null,
   "metadata": {},
   "outputs": [],
   "source": []
  },
  {
   "cell_type": "markdown",
   "metadata": {},
   "source": [
    "### Simulations with Bounded L_infinity distance"
   ]
  },
  {
   "cell_type": "code",
   "execution_count": 4,
   "metadata": {},
   "outputs": [],
   "source": [
    "n = 10"
   ]
  },
  {
   "cell_type": "code",
   "execution_count": 5,
   "metadata": {},
   "outputs": [],
   "source": [
    "distance_dict = get_all_linf_distances(n)"
   ]
  },
  {
   "cell_type": "code",
   "execution_count": 6,
   "metadata": {},
   "outputs": [
    {
     "name": "stdout",
     "output_type": "stream",
     "text": [
      "D = 1 : [0.667 0.333 0.    0.    0.    0.    0.    0.    0.    0.   ]\n",
      "D = 2 : [0.414 0.276 0.207 0.103 0.    0.    0.    0.    0.    0.   ]\n",
      "D = 3 : [0.377 0.189 0.151 0.126 0.094 0.063 0.    0.    0.    0.   ]\n",
      "D = 4 : [0.315 0.158 0.126 0.108 0.095 0.079 0.068 0.053 0.    0.   ]\n"
     ]
    }
   ],
   "source": [
    "k = 1\n",
    "s = n - np.arange(n) - 1 # borda count\n",
    "for D in range(1, 5):\n",
    "    perms = generate_linf_permutations(n, D, distance_dict)\n",
    "    v_out, p_out, tight_constraints = get_optimal_strategy(s, k, perms, lex_order_p=True) \n",
    "    print('D =', D,':', np.round(p_out.tolist(), 3))"
   ]
  },
  {
   "cell_type": "code",
   "execution_count": 239,
   "metadata": {},
   "outputs": [
    {
     "data": {
      "text/plain": [
       "(8.241379310344827, (0, 3, 4, 1, 2, 5, 6, 7, 8, 9))"
      ]
     },
     "execution_count": 239,
     "metadata": {},
     "output_type": "execute_result"
    }
   ],
   "source": [
    "evaluate_strategy(s, [12./29, 8./29, 6./29, 3./29] + [0]*6, lambda _: generate_linf_permutations(n, 2, distance_dict))"
   ]
  },
  {
   "cell_type": "code",
   "execution_count": 240,
   "metadata": {},
   "outputs": [
    {
     "data": {
      "text/plain": [
       "(8.235294117647058, (1, 0, 4, 5, 2, 3, 6, 7, 8, 9))"
      ]
     },
     "execution_count": 240,
     "metadata": {},
     "output_type": "execute_result"
    }
   ],
   "source": [
    "evaluate_strategy(s, [8./17, 4./17, 3./17, 2./17] + [0]*6, lambda _: generate_linf_permutations(n, 2, distance_dict))"
   ]
  },
  {
   "cell_type": "code",
   "execution_count": 245,
   "metadata": {},
   "outputs": [],
   "source": [
    "import math\n",
    "\n",
    "def get_possible_worst_case_permutations(D):\n",
    "    # assume n>=3d\n",
    "    n = 3*D\n",
    "    thetas = n - np.arange(n) - 1\n",
    "        # solve for k=1, all ranks can be shifted by at most D\n",
    "    supp = 2*D\n",
    "    n = len(thetas)\n",
    "    perm0 = np.hstack((thetas[D:2*D], thetas[:D])).tolist() # initial tight permuatation is (D, D+1, ..., 2D-1, 0, 1, ..., D-1)\n",
    "    perms = [perm0]\n",
    "    for i in range(0, supp-1):\n",
    "        for j in range(i+1, supp):\n",
    "            # perm[i] could be any value in [i-D, i+D] - {perm0 without i,j}\n",
    "            # perm[j] could be any value in [j-D, j+D] - {perm0 without i,j}\n",
    "            perm = perm0.copy()\n",
    "            perm.pop(i)\n",
    "            perm.pop(j-1)\n",
    "            for val_i in range(max(i-D, 0), min(i+D+1, n)):\n",
    "                for val_j in range(max(j-D, 0), min(j+D+1, n)):\n",
    "                    # values are valid to choose\n",
    "                    if val_i == val_j or thetas[val_i] in perm or thetas[val_j] in perm:\n",
    "                        continue\n",
    "                    # if val_i <= i and val_j <= i then this will not be a worst case permutation\n",
    "                    if val_i <= i and val_j <= j:\n",
    "                        continue\n",
    "                    perm.insert(i, thetas[val_i])\n",
    "                    perm.insert(j, thetas[val_j])\n",
    "                    # all values of thetas[0:D] must be contained in perm to be valid\n",
    "                    if set(thetas[:D]).issubset(set(perm)):\n",
    "                        perms.append(tuple(perm))\n",
    "                    perm.pop(i)\n",
    "                    perm.pop(j-1)\n",
    "    perms = list(set(map(tuple, perms)))\n",
    "    # iterate over perms to check if one perm \"dominates\" another and eliminate dominated perm\n",
    "    # perm2 dominates perm1 if all values of perm2 are less than or equal to perm1 => perm1 cant be worst case\n",
    "    out = []\n",
    "    for perm1 in perms:\n",
    "        dominated = False\n",
    "        for perm2 in perms:\n",
    "            if all(perm2[i] <= perm1[i] for i in range(supp)) and perm1 != perm2:\n",
    "                dominated = True\n",
    "                break\n",
    "        if not dominated:\n",
    "            out.append(perm1)\n",
    "    \n",
    "    # remove perm0 from perms\n",
    "    out = [perm for perm in out if perm != tuple(perm0)]\n",
    "    # reverse Borda count to get back ranks\n",
    "    out = [tuple(n-p-1 for p in perm) for perm in out]\n",
    "    return tuple(n-p-1 for p in perm0), sorted(out, reverse=True)\n",
    "\n",
    "def get_constraint(thetas, perm0, perm):\n",
    "    # perm0 and perm should differ in 2 places, get the two places\n",
    "    supp = len(perm0)\n",
    "    # get the two places where perm0 and perm differ\n",
    "    i = None\n",
    "    j = None\n",
    "    for k in range(supp):\n",
    "        if perm0[k] != perm[k]:\n",
    "            if i is None:\n",
    "                i = k\n",
    "            elif j is None:\n",
    "                j = k\n",
    "            else:\n",
    "                raise ValueError(\"More than 2 places differ\")\n",
    "    if i is None or j is None:\n",
    "        raise ValueError(\"Less than 2 places differ\")\n",
    "    ratio = (thetas[perm[j]] - thetas[perm0[j]]) / (thetas[perm0[i]] - thetas[perm[i]])\n",
    "    return (i, j, ratio)\n",
    "\n",
    "def solve_efficient_linf(thetas, D):\n",
    "    perm0, perms = get_possible_worst_case_permutations(D)\n",
    "    # sort perms in decreasing order of L1 distance from (0,..,2D-1)\n",
    "    perms = sorted(perms, key=lambda x: sum(abs(x[i] - i) for i in range(len(x))), reverse=True)\n",
    "    return perms, [get_constraint(thetas, perm0, perm) for perm in perms]\n"
   ]
  },
  {
   "cell_type": "code",
   "execution_count": 244,
   "metadata": {},
   "outputs": [
    {
     "data": {
      "text/plain": [
       "([(2, 3, 1.2),\n",
       "  (0, 5, 6.0),\n",
       "  (2, 4, 1.5),\n",
       "  (1, 5, 3.0),\n",
       "  (1, 3, 1.5),\n",
       "  (0, 4, 3.0),\n",
       "  (2, 5, 2.0),\n",
       "  (1, 4, 2.0),\n",
       "  (0, 3, 2.0)],\n",
       " 6)"
      ]
     },
     "execution_count": 244,
     "metadata": {},
     "output_type": "execute_result"
    }
   ],
   "source": [
    "constraints"
   ]
  },
  {
   "cell_type": "code",
   "execution_count": 248,
   "metadata": {},
   "outputs": [
    {
     "data": {
      "text/plain": [
       "([(4, 5, 1, 7, 2, 3),\n",
       "  (3, 5, 6, 1, 2, 9),\n",
       "  (4, 5, 2, 1, 8, 3),\n",
       "  (4, 3, 6, 1, 2, 9),\n",
       "  (4, 1, 6, 7, 2, 3),\n",
       "  (2, 5, 6, 1, 8, 3),\n",
       "  (4, 5, 3, 1, 2, 9),\n",
       "  (4, 2, 6, 1, 8, 3),\n",
       "  (1, 5, 6, 7, 2, 3)],\n",
       " [(3, 4, 1.2),\n",
       "  (1, 6, 6.0),\n",
       "  (3, 5, 1.5),\n",
       "  (2, 6, 3.0),\n",
       "  (2, 4, 1.5),\n",
       "  (1, 5, 3.0),\n",
       "  (3, 6, 2.0),\n",
       "  (2, 5, 2.0),\n",
       "  (1, 4, 2.0)])"
      ]
     },
     "execution_count": 248,
     "metadata": {},
     "output_type": "execute_result"
    }
   ],
   "source": [
    "perms, constraints = solve_efficient_linf(s, 3)\n",
    "# add 1 to all the ranks \n",
    "perms = [tuple(p+1 for p in perm) for perm in perms]\n",
    "constraints = [(i+1, j+1, ratio) for i, j, ratio in constraints]\n",
    "perms, constraints"
   ]
  },
  {
   "cell_type": "code",
   "execution_count": 228,
   "metadata": {},
   "outputs": [
    {
     "ename": "IndexError",
     "evalue": "index 11 is out of bounds for axis 0 with size 10",
     "output_type": "error",
     "traceback": [
      "\u001b[0;31m---------------------------------------------------------------------------\u001b[0m",
      "\u001b[0;31mIndexError\u001b[0m                                Traceback (most recent call last)",
      "Cell \u001b[0;32mIn[228], line 1\u001b[0m\n\u001b[0;32m----> 1\u001b[0m solve_efficient_linf(s,\u001b[38;5;241m4\u001b[39m)\n",
      "Cell \u001b[0;32mIn[225], line 74\u001b[0m, in \u001b[0;36msolve_efficient_linf\u001b[0;34m(thetas, D)\u001b[0m\n\u001b[1;32m     72\u001b[0m \u001b[38;5;28;01mdef\u001b[39;00m \u001b[38;5;21msolve_efficient_linf\u001b[39m(thetas, D):\n\u001b[1;32m     73\u001b[0m     perm0, perms \u001b[38;5;241m=\u001b[39m get_possible_worst_case_permutations(D)\n\u001b[0;32m---> 74\u001b[0m     \u001b[38;5;28;01mreturn\u001b[39;00m perms, ([get_constraint(thetas, perm0, perm) \u001b[38;5;28;01mfor\u001b[39;00m perm \u001b[38;5;129;01min\u001b[39;00m perms], \u001b[38;5;28mlen\u001b[39m(perm0))\n",
      "Cell \u001b[0;32mIn[225], line 74\u001b[0m, in \u001b[0;36m<listcomp>\u001b[0;34m(.0)\u001b[0m\n\u001b[1;32m     72\u001b[0m \u001b[38;5;28;01mdef\u001b[39;00m \u001b[38;5;21msolve_efficient_linf\u001b[39m(thetas, D):\n\u001b[1;32m     73\u001b[0m     perm0, perms \u001b[38;5;241m=\u001b[39m get_possible_worst_case_permutations(D)\n\u001b[0;32m---> 74\u001b[0m     \u001b[38;5;28;01mreturn\u001b[39;00m perms, ([get_constraint(thetas, perm0, perm) \u001b[38;5;28;01mfor\u001b[39;00m perm \u001b[38;5;129;01min\u001b[39;00m perms], \u001b[38;5;28mlen\u001b[39m(perm0))\n",
      "Cell \u001b[0;32mIn[225], line 69\u001b[0m, in \u001b[0;36mget_constraint\u001b[0;34m(thetas, perm0, perm)\u001b[0m\n\u001b[1;32m     67\u001b[0m \u001b[38;5;28;01mif\u001b[39;00m i \u001b[38;5;129;01mis\u001b[39;00m \u001b[38;5;28;01mNone\u001b[39;00m \u001b[38;5;129;01mor\u001b[39;00m j \u001b[38;5;129;01mis\u001b[39;00m \u001b[38;5;28;01mNone\u001b[39;00m:\n\u001b[1;32m     68\u001b[0m     \u001b[38;5;28;01mraise\u001b[39;00m \u001b[38;5;167;01mValueError\u001b[39;00m(\u001b[38;5;124m\"\u001b[39m\u001b[38;5;124mLess than 2 places differ\u001b[39m\u001b[38;5;124m\"\u001b[39m)\n\u001b[0;32m---> 69\u001b[0m ratio \u001b[38;5;241m=\u001b[39m (thetas[perm[j]] \u001b[38;5;241m-\u001b[39m thetas[perm0[j]]) \u001b[38;5;241m/\u001b[39m (thetas[perm0[i]] \u001b[38;5;241m-\u001b[39m thetas[perm[i]])\n\u001b[1;32m     70\u001b[0m \u001b[38;5;28;01mreturn\u001b[39;00m (i, j, ratio)\n",
      "\u001b[0;31mIndexError\u001b[0m: index 11 is out of bounds for axis 0 with size 10"
     ]
    }
   ],
   "source": [
    "solve_efficient_linf(s,4)"
   ]
  },
  {
   "cell_type": "code",
   "execution_count": 27,
   "metadata": {},
   "outputs": [],
   "source": [
    "D = 3\n",
    "perms = generate_linf_permutations(n, D, distance_dict)\n",
    "v_out, p_out, tight_constraints = get_optimal_strategy(s, 1, perms, return_tight_constraints=True) "
   ]
  },
  {
   "cell_type": "code",
   "execution_count": 44,
   "metadata": {},
   "outputs": [
    {
     "data": {
      "text/plain": [
       "[(4, 5, 6, 1, 2, 3),\n",
       " (4, 5, 1, 7, 2, 3),\n",
       " (4, 3, 6, 1, 2, 9),\n",
       " (4, 3, 1, 7, 2, 9),\n",
       " (4, 2, 6, 1, 8, 3),\n",
       " (4, 2, 1, 7, 8, 3),\n",
       " (4, 1, 6, 7, 2, 3),\n",
       " (3, 5, 6, 1, 2, 9),\n",
       " (3, 5, 1, 7, 2, 9),\n",
       " (3, 2, 6, 1, 8, 9),\n",
       " (3, 2, 1, 7, 8, 9),\n",
       " (3, 1, 6, 7, 2, 9)]"
      ]
     },
     "execution_count": 44,
     "metadata": {},
     "output_type": "execute_result"
    }
   ],
   "source": [
    "supp = np.where(p_out > 1e-6)[0]\n",
    "vals = set([tuple(t[i] for i in supp) for t in tight_constraints])\n",
    "perms = [tuple(n - v for v in t) for t in vals]\n",
    "sorted(perms, reverse=True)"
   ]
  },
  {
   "cell_type": "code",
   "execution_count": 46,
   "metadata": {},
   "outputs": [
    {
     "data": {
      "text/plain": [
       "[(3, 5, 6, 1, 2, 9),\n",
       " (4, 5, 1, 7, 2, 3),\n",
       " (4, 2, 6, 1, 8, 3),\n",
       " (4, 1, 6, 7, 2, 3),\n",
       " (4, 3, 6, 1, 2, 9)]"
      ]
     },
     "execution_count": 46,
     "metadata": {},
     "output_type": "execute_result"
    }
   ],
   "source": [
    "P0 = (4,5,6,1,2,3)\n",
    "[p for p in perms if sum(p[i] - P0[i] != 0 for i in range(len(P0))) == 2]"
   ]
  },
  {
   "cell_type": "code",
   "execution_count": 28,
   "metadata": {},
   "outputs": [
    {
     "data": {
      "text/plain": [
       "array([0.37736, 0.18868, 0.15094, 0.12579, 0.09434, 0.06289, 0.     ,\n",
       "       0.     , 0.     , 0.     ])"
      ]
     },
     "execution_count": 28,
     "metadata": {},
     "output_type": "execute_result"
    }
   ],
   "source": [
    "np.round(p_out, 5)"
   ]
  },
  {
   "cell_type": "code",
   "execution_count": 20,
   "metadata": {},
   "outputs": [
    {
     "data": {
      "text/plain": [
       "2.0000000000239964"
      ]
     },
     "execution_count": 20,
     "metadata": {},
     "output_type": "execute_result"
    }
   ],
   "source": [
    "p_out[0] / p_out[2]"
   ]
  },
  {
   "cell_type": "code",
   "execution_count": null,
   "metadata": {},
   "outputs": [],
   "source": [
    "tight_constraints"
   ]
  },
  {
   "cell_type": "code",
   "execution_count": 7,
   "metadata": {},
   "outputs": [
    {
     "name": "stdout",
     "output_type": "stream",
     "text": [
      "D = 1 : [1.   0.75 0.25 0.   0.   0.   0.   0.   0.   0.  ]\n",
      "D = 2 : [0.828 0.552 0.414 0.207 0.    0.    0.    0.    0.    0.   ]\n",
      "D = 3 : [0.755 0.377 0.302 0.252 0.189 0.126 0.    0.    0.    0.   ]\n",
      "D = 4 : [0.63  0.315 0.252 0.216 0.189 0.158 0.135 0.105 0.    0.   ]\n"
     ]
    }
   ],
   "source": [
    "k = 2\n",
    "s = n - np.arange(n) - 1 # borda count\n",
    "for D in range(1, 5):\n",
    "    perms = generate_linf_permutations(n, D, distance_dict)\n",
    "    v_out, p_out, tight_constraints = get_optimal_strategy(s, k, perms, lex_order_p=True) \n",
    "    print('D =', D,':', np.round(p_out.tolist(), 3))"
   ]
  },
  {
   "cell_type": "code",
   "execution_count": 89,
   "metadata": {},
   "outputs": [
    {
     "name": "stdout",
     "output_type": "stream",
     "text": [
      "D = 1 : [1.  1.  1.  1.  0.5 0.5 0.  0.  0.  0. ]\n",
      "D = 2 : [1.  1.  1.  0.5 0.5 0.5 0.5 0.  0.  0. ]\n",
      "D = 3 : [1.  1.  0.5 0.5 0.5 0.5 0.5 0.5 0.  0. ]\n",
      "D = 4 : [1.  0.5 0.5 0.5 0.5 0.5 0.5 0.5 0.5 0. ]\n",
      "D = 5 : [0.5 0.5 0.5 0.5 0.5 0.5 0.5 0.5 0.5 0.5]\n"
     ]
    }
   ],
   "source": [
    "k = 5\n",
    "s = k*[1] + (n-k)*[0] # top k\n",
    "for D in range(1, 6):\n",
    "    perms = generate_linf_permutations(n, D, distance_dict)\n",
    "    v_out, p_out, tight_constraints = get_optimal_strategy(s, k, perms, lex_order_p=True) \n",
    "    print('D =', D,':', np.round(p_out.tolist(), 3))"
   ]
  },
  {
   "cell_type": "code",
   "execution_count": 90,
   "metadata": {},
   "outputs": [
    {
     "name": "stdout",
     "output_type": "stream",
     "text": [
      "D = 1 : [1.  1.  0.5 0.5 0.  0.  0.  0.  0.  0. ]\n",
      "D = 2 : [1.  0.5 0.5 0.5 0.5 0.  0.  0.  0.  0. ]\n",
      "D = 3 : [0.5 0.5 0.5 0.5 0.5 0.5 0.  0.  0.  0. ]\n",
      "D = 4 : [0.429 0.429 0.429 0.429 0.429 0.429 0.429 0.    0.    0.   ]\n",
      "D = 5 : [0.375 0.375 0.375 0.375 0.375 0.375 0.375 0.375 0.    0.   ]\n"
     ]
    }
   ],
   "source": [
    "k = 3\n",
    "s = k*[1] + (n-k)*[0] # top k\n",
    "for D in range(1, 6):\n",
    "    perms = generate_linf_permutations(n, D, distance_dict)\n",
    "    v_out, p_out, tight_constraints = get_optimal_strategy(s, k, perms, lex_order_p=True) \n",
    "    print('D =', D,':', np.round(p_out.tolist(), 3))"
   ]
  },
  {
   "cell_type": "code",
   "execution_count": 78,
   "metadata": {},
   "outputs": [
    {
     "data": {
      "text/plain": [
       "[7, 6, 9, 8, 3, 2, 5, 4, 0, 1]"
      ]
     },
     "execution_count": 78,
     "metadata": {},
     "output_type": "execute_result"
    }
   ],
   "source": [
    "theta_p"
   ]
  },
  {
   "cell_type": "code",
   "execution_count": 91,
   "metadata": {},
   "outputs": [
    {
     "name": "stdout",
     "output_type": "stream",
     "text": [
      "(2, 3, 0, 1, 6, 7, 4, 5, 9, 8)\n",
      "(1, 0, 4, 5, 2, 3, 8, 9, 6, 7)\n",
      "(0, 3, 4, 1, 2, 7, 8, 5, 6, 9)\n"
     ]
    }
   ],
   "source": [
    "perm1 = (3,4,1,2,7,8,5,6,10,9)\n",
    "perm1 = tuple(s-1 for s in perm1)\n",
    "print(perm1)\n",
    "\n",
    "perm2 = (2,1,5,6,3,4,9,10,7,8)\n",
    "perm2 = tuple(s-1 for s in perm2)\n",
    "print(perm2)\n",
    "\n",
    "perm3 = (1,4,5,2,3,8,9,6,7,10)\n",
    "perm3 = tuple(s-1 for s in perm3)\n",
    "print(perm3)"
   ]
  },
  {
   "cell_type": "code",
   "execution_count": 92,
   "metadata": {},
   "outputs": [],
   "source": [
    " # Decision variables\n",
    "v = cp.Variable()\n",
    "p = cp.Variable(n, nonneg=True)\n",
    "\n",
    "theta_perms = [tuple(s[r] for r in perm) for perm in [perm1, perm2, perm3]]\n",
    "\n",
    "# Constraints: adversary's worst-case selection\n",
    "constraints = [v - cp.matmul(theta_p, p) <= 0 for theta_p in theta_perms]\n",
    "\n",
    "# Constraints: p sums to k\n",
    "constraints.append(cp.sum(p) == k)\n",
    "\n",
    "# Constraints: all p_i are in [0, 1]\n",
    "constraints += [p[i] <= 1 for i in range(n)]\n",
    "\n",
    "# p_i are non-increasing \n",
    "constraints += [p[i] >= p[i+1] for i in range(n-1)]\n",
    "\n",
    "# **Step 1: Solve for v* without modifying p**\n",
    "problem = cp.Problem(cp.Maximize(v), constraints)\n",
    "problem.solve()\n",
    "v_star = v.value  # Store optimal v"
   ]
  },
  {
   "cell_type": "code",
   "execution_count": 93,
   "metadata": {},
   "outputs": [
    {
     "data": {
      "text/plain": [
       "array([1. , 1. , 0.5, 0.5, 0. , 0. , 0. , 0. , 0. , 0. ])"
      ]
     },
     "execution_count": 93,
     "metadata": {},
     "output_type": "execute_result"
    }
   ],
   "source": [
    "np.round(p.value, 3)"
   ]
  },
  {
   "cell_type": "code",
   "execution_count": 94,
   "metadata": {},
   "outputs": [
    {
     "data": {
      "text/plain": [
       "array(21.5)"
      ]
     },
     "execution_count": 94,
     "metadata": {},
     "output_type": "execute_result"
    }
   ],
   "source": [
    "v.value"
   ]
  },
  {
   "cell_type": "code",
   "execution_count": 236,
   "metadata": {},
   "outputs": [],
   "source": [
    "k = 2\n",
    "s = n - np.arange(n)  # borda count\n",
    "D = 2\n",
    "perms = generate_linf_permutations(n, D, distance_dict)\n",
    "v_out, p_out, tight_constraints = get_optimal_strategy(s, k, perms, lex_order_p=0, return_tight_constraints=True)"
   ]
  },
  {
   "cell_type": "code",
   "execution_count": null,
   "metadata": {},
   "outputs": [
    {
     "name": "stdout",
     "output_type": "stream",
     "text": [
      "D = 1 : [1.   1.   1.   1.   0.75 0.25 0.   0.   0.   0.  ]\n",
      "D = 2 : [1.    1.    1.    0.875 0.625 0.375 0.125 0.    0.    0.   ]\n",
      "D = 3 : [1.    1.    0.9   0.75  0.583 0.417 0.25  0.1   0.    0.   ]\n"
     ]
    }
   ],
   "source": [
    "k = 5\n",
    "s = n - np.arange(n)  # borda count\n",
    "for D in range(1, 4):\n",
    "    perms = generate_linf_permutations(n, D, distance_dict)\n",
    "    v_out, p_out, tight_constraints = get_optimal_strategy(s, k, perms, lex_order_p=True) \n",
    "    print('D =', D,':', np.round(p_out.tolist(), 3))"
   ]
  },
  {
   "cell_type": "code",
   "execution_count": null,
   "metadata": {},
   "outputs": [],
   "source": [
    "k = 3\n",
    "s = k*[1] + (n-k)*[0] # top k\n",
    "for D in range(1, 6):\n",
    "    perms = generate_linf_permutations(n, D, distance_dict)\n",
    "    v_out, p_out, tight_constraints = get_optimal_strategy(s, k, perms, lex_order_p=True) \n",
    "    print('D =', D,':', np.round(p_out.tolist(), 3))"
   ]
  },
  {
   "cell_type": "code",
   "execution_count": 82,
   "metadata": {},
   "outputs": [
    {
     "name": "stdout",
     "output_type": "stream",
     "text": [
      "D = 1 : [1.   1.   1.   1.   0.75 0.5  0.5  0.25 0.   0.  ]\n",
      "D = 2 : [1.  1.  1.  1.  0.5 0.5 0.5 0.5 0.  0. ]\n",
      "D = 3 : [1.    1.    1.    0.429 0.429 0.429 0.429 0.429 0.429 0.429]\n",
      "D = 4 : [1.    1.    1.    1.    0.333 0.333 0.333 0.333 0.333 0.333]\n",
      "D = 5 : [1.    0.556 0.556 0.556 0.556 0.556 0.556 0.556 0.556 0.556]\n"
     ]
    }
   ],
   "source": [
    "k = 6\n",
    "s = k*[1] + (n-k)*[0] # top k\n",
    "for D in range(1, 6):\n",
    "    perms = generate_mD_insertion_permutations(n, 3, D)\n",
    "    v_out, p_out, tight_constraints = get_optimal_strategy(s, k, perms, lex_order_p=True, return_tight_constraints=True) \n",
    "    print('D =', D,':', np.round(p_out.tolist(), 3))"
   ]
  },
  {
   "cell_type": "code",
   "execution_count": 84,
   "metadata": {},
   "outputs": [],
   "source": [
    "perms = generate_mD_insertion_permutations(n, 3, 1)"
   ]
  },
  {
   "cell_type": "code",
   "execution_count": 85,
   "metadata": {},
   "outputs": [],
   "source": [
    "v_out, p_out, tight_constraints = get_optimal_strategy(s, k, perms, lex_order_p=True, return_tight_constraints=True)"
   ]
  },
  {
   "cell_type": "code",
   "execution_count": 86,
   "metadata": {},
   "outputs": [
    {
     "data": {
      "text/plain": [
       "[(1, 1, 1, 1, 1, 0, 0, 0, 1, 0),\n",
       " (1, 1, 1, 1, 0, 0, 1, 1, 0, 0),\n",
       " (1, 1, 1, 0, 1, 1, 1, 0, 0, 0),\n",
       " (1, 1, 1, 1, 0, 1, 0, 1, 0, 0)]"
      ]
     },
     "execution_count": 86,
     "metadata": {},
     "output_type": "execute_result"
    }
   ],
   "source": [
    "tight_constraints"
   ]
  },
  {
   "cell_type": "markdown",
   "metadata": {},
   "source": [
    "## MISC: Sampling"
   ]
  },
  {
   "cell_type": "code",
   "execution_count": 29,
   "metadata": {},
   "outputs": [],
   "source": [
    "'''\n",
    "Sample a fixed sample size with unequal probabilities without replacement.\n",
    "Input parameters:\n",
    "    p: a vector of probabilities for each element in the population (size N). The sum of p should equal the desired sample size (k).\n",
    "    eps: a small value to check for missing values in p.\n",
    "    max_iter: maximum number of iterations to run the algorithm.\n",
    "Output:\n",
    "    s: a vector of indicators for each element in the population for whether that element was sampled.\n",
    "'''\n",
    "def sampford_sampling(p, eps=1e-6, max_iter=500):\n",
    "    # From Sampford, M. R. (1967). Sampling from a finite population with unequal probabilities without replacement.\n",
    "    # https://academic.oup.com/biomet/article-abstract/54/3-4/499/230469?redirectedFrom=fulltext \n",
    "    # adopted from R package sampling\n",
    "    def as_int(n):\n",
    "        return int(round(n))\n",
    "\n",
    "    if np.any(np.isnan(p)):\n",
    "        raise ValueError(\"There are missing values in the p vector\")\n",
    "    \n",
    "    k = as_int(np.sum(p))\n",
    "    valid_mask = (p > eps) & (p < 1 - eps)\n",
    "    pb = p[valid_mask]\n",
    "    \n",
    "    if len(pb) < 1:\n",
    "        raise ValueError(\"The p vector has all elements outside of the range [eps, 1-eps]\")\n",
    "    \n",
    "    N = len(pb)\n",
    "    s = np.copy(p)\n",
    "    sb = np.full(N, 2)\n",
    "    y = pb / (1 - pb)\n",
    "    y /= np.sum(y)\n",
    "    step = 0\n",
    "    \n",
    "    while np.sum(sb <= 1) != N and step <= max_iter:\n",
    "        sb = np.random.multinomial(1, pb / np.sum(pb)) + np.random.multinomial(as_int(k - 1), y)\n",
    "        step += 1\n",
    "    \n",
    "    if np.sum(sb <= 1) == N:\n",
    "        s[valid_mask] = sb\n",
    "    else:\n",
    "        raise RuntimeError(\"Too many iterations. The algorithm was stopped.\")\n",
    "    \n",
    "    return s"
   ]
  },
  {
   "cell_type": "code",
   "execution_count": null,
   "metadata": {},
   "outputs": [],
   "source": []
  }
 ],
 "metadata": {
  "kernelspec": {
   "display_name": "analysis",
   "language": "python",
   "name": "python3"
  },
  "language_info": {
   "codemirror_mode": {
    "name": "ipython",
    "version": 3
   },
   "file_extension": ".py",
   "mimetype": "text/x-python",
   "name": "python",
   "nbconvert_exporter": "python",
   "pygments_lexer": "ipython3",
   "version": "3.11.4"
  }
 },
 "nbformat": 4,
 "nbformat_minor": 2
}
