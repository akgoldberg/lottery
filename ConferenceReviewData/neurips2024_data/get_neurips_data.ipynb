{
 "cells": [
  {
   "cell_type": "code",
   "execution_count": null,
   "metadata": {},
   "outputs": [],
   "source": [
    "import openreview\n",
    "import pandas as pd\n",
    "import time\n",
    "import os\n",
    "from tqdm import tqdm\n",
    "import matplotlib.pyplot as plt\n",
    "import seaborn as sns"
   ]
  },
  {
   "cell_type": "code",
   "execution_count": 3,
   "metadata": {},
   "outputs": [
    {
     "name": "stderr",
     "output_type": "stream",
     "text": [
      "Getting V2 Notes: 100%|█████████▉| 4231/4236 [00:12<00:00, 348.48it/s]\n"
     ]
    }
   ],
   "source": [
    "client = openreview.api.OpenReviewClient(\n",
    "    baseurl='https://api2.openreview.net',\n",
    ")\n",
    "# get all submissions to NeurIPS 2024\n",
    "VENUE_ID = 'NeurIPS.cc/2024/Conference'\n",
    "venue_group = client.get_group(f'{VENUE_ID}')\n",
    "submission_name = venue_group.content['submission_name']['value']\n",
    "submissions = client.get_all_notes(invitation=f'{VENUE_ID}/-/{submission_name}', details='directReplies')"
   ]
  },
  {
   "cell_type": "code",
   "execution_count": 4,
   "metadata": {},
   "outputs": [],
   "source": [
    "all_reviews = []\n",
    "for paper in submissions:\n",
    "    id = paper.id\n",
    "    title = paper.content['title']['value']\n",
    "    primary_area = paper.content['primary_area']['value']\n",
    "    keywords = paper.content['keywords']['value']\n",
    "    reviews = []\n",
    "    decision = None \n",
    "    for reply in paper.details['directReplies']:\n",
    "        if any('Official_Review' in s for s in reply['invitations']):\n",
    "            rating = reply['content']['rating']['value']\n",
    "            soundness = reply['content']['soundness']['value']\n",
    "            presentation = reply['content']['presentation']['value']\n",
    "            contribution = reply['content']['contribution']['value']\n",
    "            confidence = reply['content']['confidence']['value']\n",
    "            reviewer_id = reply['signatures'][0].split('/')[-1]\n",
    "            review_number = reply['number']\n",
    "            reviews.append({\n",
    "                'paper_id': id,\n",
    "                'title': title,\n",
    "                'primary_area': primary_area,\n",
    "                'keywords': keywords,\n",
    "                'reviewer_id': reviewer_id,\n",
    "                'rating': rating,\n",
    "                'soundness': soundness,\n",
    "                'presentation': presentation,\n",
    "                'contribution': contribution,\n",
    "                'confidence': confidence,\n",
    "                'review_number': review_number\n",
    "            })\n",
    "        if any('Decision' in s for s in reply['invitations']):\n",
    "            if decision is None:\n",
    "                decision = reply['content']['decision']['value']\n",
    "    for review in reviews:\n",
    "        review['decision'] = decision\n",
    "    all_reviews.extend(reviews)\n"
   ]
  },
  {
   "cell_type": "code",
   "execution_count": 5,
   "metadata": {},
   "outputs": [],
   "source": [
    "df = pd.DataFrame(all_reviews)\n"
   ]
  },
  {
   "cell_type": "code",
   "execution_count": 6,
   "metadata": {},
   "outputs": [
    {
     "data": {
      "text/html": [
       "<div>\n",
       "<style scoped>\n",
       "    .dataframe tbody tr th:only-of-type {\n",
       "        vertical-align: middle;\n",
       "    }\n",
       "\n",
       "    .dataframe tbody tr th {\n",
       "        vertical-align: top;\n",
       "    }\n",
       "\n",
       "    .dataframe thead th {\n",
       "        text-align: right;\n",
       "    }\n",
       "</style>\n",
       "<table border=\"1\" class=\"dataframe\">\n",
       "  <thead>\n",
       "    <tr style=\"text-align: right;\">\n",
       "      <th></th>\n",
       "      <th>paper_id</th>\n",
       "      <th>title</th>\n",
       "      <th>primary_area</th>\n",
       "      <th>keywords</th>\n",
       "      <th>reviewer_id</th>\n",
       "      <th>rating</th>\n",
       "      <th>soundness</th>\n",
       "      <th>presentation</th>\n",
       "      <th>contribution</th>\n",
       "      <th>confidence</th>\n",
       "      <th>review_number</th>\n",
       "      <th>decision</th>\n",
       "    </tr>\n",
       "  </thead>\n",
       "  <tbody>\n",
       "    <tr>\n",
       "      <th>0</th>\n",
       "      <td>zzOOqD6R1b</td>\n",
       "      <td>Stress-Testing Capability Elicitation With Pas...</td>\n",
       "      <td>safety_in_machine_learning</td>\n",
       "      <td>[LLMs, Elicitation, Fine-tuning, Sandbagging, ...</td>\n",
       "      <td>Reviewer_Y88j</td>\n",
       "      <td>8</td>\n",
       "      <td>4</td>\n",
       "      <td>4</td>\n",
       "      <td>3</td>\n",
       "      <td>4</td>\n",
       "      <td>1</td>\n",
       "      <td>Accept (poster)</td>\n",
       "    </tr>\n",
       "    <tr>\n",
       "      <th>1</th>\n",
       "      <td>zzOOqD6R1b</td>\n",
       "      <td>Stress-Testing Capability Elicitation With Pas...</td>\n",
       "      <td>safety_in_machine_learning</td>\n",
       "      <td>[LLMs, Elicitation, Fine-tuning, Sandbagging, ...</td>\n",
       "      <td>Reviewer_VH7G</td>\n",
       "      <td>7</td>\n",
       "      <td>3</td>\n",
       "      <td>3</td>\n",
       "      <td>3</td>\n",
       "      <td>3</td>\n",
       "      <td>2</td>\n",
       "      <td>Accept (poster)</td>\n",
       "    </tr>\n",
       "    <tr>\n",
       "      <th>2</th>\n",
       "      <td>zzOOqD6R1b</td>\n",
       "      <td>Stress-Testing Capability Elicitation With Pas...</td>\n",
       "      <td>safety_in_machine_learning</td>\n",
       "      <td>[LLMs, Elicitation, Fine-tuning, Sandbagging, ...</td>\n",
       "      <td>Reviewer_JNQU</td>\n",
       "      <td>5</td>\n",
       "      <td>3</td>\n",
       "      <td>3</td>\n",
       "      <td>3</td>\n",
       "      <td>3</td>\n",
       "      <td>3</td>\n",
       "      <td>Accept (poster)</td>\n",
       "    </tr>\n",
       "    <tr>\n",
       "      <th>3</th>\n",
       "      <td>zzOOqD6R1b</td>\n",
       "      <td>Stress-Testing Capability Elicitation With Pas...</td>\n",
       "      <td>safety_in_machine_learning</td>\n",
       "      <td>[LLMs, Elicitation, Fine-tuning, Sandbagging, ...</td>\n",
       "      <td>Reviewer_Vgeo</td>\n",
       "      <td>5</td>\n",
       "      <td>3</td>\n",
       "      <td>4</td>\n",
       "      <td>2</td>\n",
       "      <td>4</td>\n",
       "      <td>4</td>\n",
       "      <td>Accept (poster)</td>\n",
       "    </tr>\n",
       "    <tr>\n",
       "      <th>4</th>\n",
       "      <td>zxSWIdyW3A</td>\n",
       "      <td>Cooperative Hardware-Prompt Learning for Snaps...</td>\n",
       "      <td>machine_vision</td>\n",
       "      <td>[snapshot compressive imaging, hyperpectral im...</td>\n",
       "      <td>Reviewer_aeby</td>\n",
       "      <td>5</td>\n",
       "      <td>2</td>\n",
       "      <td>2</td>\n",
       "      <td>2</td>\n",
       "      <td>3</td>\n",
       "      <td>1</td>\n",
       "      <td>Accept (poster)</td>\n",
       "    </tr>\n",
       "  </tbody>\n",
       "</table>\n",
       "</div>"
      ],
      "text/plain": [
       "     paper_id                                              title  \\\n",
       "0  zzOOqD6R1b  Stress-Testing Capability Elicitation With Pas...   \n",
       "1  zzOOqD6R1b  Stress-Testing Capability Elicitation With Pas...   \n",
       "2  zzOOqD6R1b  Stress-Testing Capability Elicitation With Pas...   \n",
       "3  zzOOqD6R1b  Stress-Testing Capability Elicitation With Pas...   \n",
       "4  zxSWIdyW3A  Cooperative Hardware-Prompt Learning for Snaps...   \n",
       "\n",
       "                 primary_area  \\\n",
       "0  safety_in_machine_learning   \n",
       "1  safety_in_machine_learning   \n",
       "2  safety_in_machine_learning   \n",
       "3  safety_in_machine_learning   \n",
       "4              machine_vision   \n",
       "\n",
       "                                            keywords    reviewer_id  rating  \\\n",
       "0  [LLMs, Elicitation, Fine-tuning, Sandbagging, ...  Reviewer_Y88j       8   \n",
       "1  [LLMs, Elicitation, Fine-tuning, Sandbagging, ...  Reviewer_VH7G       7   \n",
       "2  [LLMs, Elicitation, Fine-tuning, Sandbagging, ...  Reviewer_JNQU       5   \n",
       "3  [LLMs, Elicitation, Fine-tuning, Sandbagging, ...  Reviewer_Vgeo       5   \n",
       "4  [snapshot compressive imaging, hyperpectral im...  Reviewer_aeby       5   \n",
       "\n",
       "   soundness  presentation  contribution  confidence  review_number  \\\n",
       "0          4             4             3           4              1   \n",
       "1          3             3             3           3              2   \n",
       "2          3             3             3           3              3   \n",
       "3          3             4             2           4              4   \n",
       "4          2             2             2           3              1   \n",
       "\n",
       "          decision  \n",
       "0  Accept (poster)  \n",
       "1  Accept (poster)  \n",
       "2  Accept (poster)  \n",
       "3  Accept (poster)  \n",
       "4  Accept (poster)  "
      ]
     },
     "execution_count": 6,
     "metadata": {},
     "output_type": "execute_result"
    }
   ],
   "source": [
    "df.head()"
   ]
  },
  {
   "cell_type": "code",
   "execution_count": 7,
   "metadata": {},
   "outputs": [],
   "source": [
    "# save as csv\n",
    "df.to_csv('neurips2024_reviews.csv')"
   ]
  },
  {
   "cell_type": "markdown",
   "metadata": {},
   "source": [
    "### Generate Intervals (Min + Max Score) ###"
   ]
  },
  {
   "cell_type": "code",
   "execution_count": 8,
   "metadata": {},
   "outputs": [],
   "source": [
    "df = df[df.decision != 'Reject'].reset_index(drop=True)"
   ]
  },
  {
   "cell_type": "code",
   "execution_count": null,
   "metadata": {},
   "outputs": [
    {
     "data": {
      "text/plain": [
       "decision\n",
       "Accept (poster)       3648\n",
       "Accept (spotlight)     326\n",
       "Accept (oral)           61\n",
       "Name: count, dtype: int64"
      ]
     },
     "execution_count": 9,
     "metadata": {},
     "output_type": "execute_result"
    }
   ],
   "source": [
    "df.groupby('paper_id').max().value_counts('decision')"
   ]
  },
  {
   "cell_type": "code",
   "execution_count": 35,
   "metadata": {},
   "outputs": [
    {
     "data": {
      "text/plain": [
       "decision\n",
       "Poster            3648\n",
       "Spotlight/Oral     387\n",
       "Name: count, dtype: int64"
      ]
     },
     "execution_count": 35,
     "metadata": {},
     "output_type": "execute_result"
    }
   ],
   "source": [
    "ratings = df.groupby('paper_id').agg({'rating': ['max', 'mean', 'min', 'count'], 'decision': 'max'}).reset_index()\n",
    "ratings.columns = ['paper_id', 'rating_max', 'rating_mean', 'rating_min', 'num_reviews', 'decision']\n",
    "# rename Accept (poster) to Poster and Accept (oral) or Accept (spotlight) to Spotlight/Oral\n",
    "ratings['decision'] = ratings['decision'].replace({'Accept (poster)': 'Poster', 'Accept (oral)': 'Spotlight/Oral', 'Accept (spotlight)': 'Spotlight/Oral'})\n",
    "ratings['decision'].value_counts()"
   ]
  },
  {
   "cell_type": "code",
   "execution_count": null,
   "metadata": {},
   "outputs": [],
   "source": [
    "# subsample ratings by 25% stratifying by decision for plotting\n",
    "ratings_sample = ratings.groupby('decision', group_keys=False).apply(\n",
    "    lambda x: x.sample(frac=0.25, random_state=42)\n",
    ").reset_index(drop=True)\n"
   ]
  },
  {
   "cell_type": "code",
   "execution_count": 48,
   "metadata": {},
   "outputs": [
    {
     "data": {
      "image/png": "[encoded data removed]",
      "text/plain": [
       "<Figure size 1600x600 with 1 Axes>"
      ]
     },
     "metadata": {},
     "output_type": "display_data"
    }
   ],
   "source": [
    "# Set the style\n",
    "sns.set(style=\"whitegrid\")\n",
    "# Set the color palette\n",
    "sns.set_palette(\"husl\")\n",
    "# Define colors for each decision type\n",
    "decision_colors = {\n",
    "    'Spotlight/Oral': '#FF6347',  # Tomato\n",
    "    'Poster': '#808080',          # Gray\n",
    "}\n",
    "\n",
    "# Plot\n",
    "fig, ax = plt.subplots(figsize=(16, 6))  # Increased width from 12 to 16\n",
    "for idx, row in ratings_sample.iterrows():\n",
    "    color = decision_colors[row['decision']]\n",
    "    ax.plot([idx, idx], [row['rating_min'], row['rating_max']], color=color, alpha=0.7, lw=2)\n",
    "    ax.scatter(idx, row['rating_mean'], color=color, edgecolor='black', s=50, label=row['decision'] if row['decision'] not in ax.get_legend_handles_labels()[1] else \"\")\n",
    "\n",
    "# Add legend\n",
    "handles = [plt.Line2D([0], [0], color=color, lw=2, label=decision) for decision, color in decision_colors.items()]\n",
    "ax.legend(handles=handles, loc='upper center', bbox_to_anchor=(0.5, 1.15), fontsize=14, ncol=2)\n",
    "\n",
    "# Add vline at cutoff between # of posters and spotlights \n",
    "ax.axvline(x=ratings_sample[ratings_sample['decision'] == 'Spotlight/Oral'].shape[0] - 0.5, color='green', linestyle='--', lw=2, label='Poster/Spotlight Cutoff')\n",
    "\n",
    "# Add labels and title\n",
    "ax.set_ylabel(\"Rating Interval (Min to Max)\")\n",
    "ax.set_xlabel(\"Rating Rank\")\n",
    "\n",
    "plt.tight_layout()\n",
    "plt.show()\n"
   ]
  },
  {
   "cell_type": "markdown",
   "metadata": {},
   "source": [
    "### Generate Intervals (Leave One Out Intervals)"
   ]
  },
  {
   "cell_type": "code",
   "execution_count": null,
   "metadata": {},
   "outputs": [],
   "source": [
    "ratings = df.groupby('paper_id').agg({'rating': list, 'decision': 'max'}).reset_index()"
   ]
  },
  {
   "cell_type": "code",
   "execution_count": 65,
   "metadata": {},
   "outputs": [],
   "source": [
    "def get_interval(lst):\n",
    "    means = []\n",
    "    for i in range(len(lst)):\n",
    "        temp_lst = lst[:i] + lst[i+1:]\n",
    "        mean = 1. * sum(temp_lst) / len(temp_lst)\n",
    "        means.append(mean)\n",
    "    return min(means), max(means)"
   ]
  },
  {
   "cell_type": "code",
   "execution_count": null,
   "metadata": {},
   "outputs": [
    {
     "data": {
      "text/plain": [
       "0                                   (6.0, 7.0)\n",
       "1                     (6.0, 6.666666666666667)\n",
       "2       (4.666666666666667, 5.666666666666667)\n",
       "3                     (5.333333333333333, 6.0)\n",
       "4                                   (5.5, 6.5)\n",
       "                         ...                  \n",
       "4030                                (4.0, 5.5)\n",
       "4031                                (6.0, 6.0)\n",
       "4032                  (6.0, 6.333333333333333)\n",
       "4033    (5.333333333333333, 5.666666666666667)\n",
       "4034    (5.666666666666667, 6.666666666666667)\n",
       "Name: rating, Length: 4035, dtype: object"
      ]
     },
     "execution_count": 66,
     "metadata": {},
     "output_type": "execute_result"
    }
   ],
   "source": [
    "intervals = ratings['rating'].apply(get_interval)"
   ]
  },
  {
   "cell_type": "code",
   "execution_count": null,
   "metadata": {},
   "outputs": [],
   "source": []
  }
 ],
 "metadata": {
  "kernelspec": {
   "display_name": "analysis",
   "language": "python",
   "name": "python3"
  },
  "language_info": {
   "codemirror_mode": {
    "name": "ipython",
    "version": 3
   },
   "file_extension": ".py",
   "mimetype": "text/x-python",
   "name": "python",
   "nbconvert_exporter": "python",
   "pygments_lexer": "ipython3",
   "version": "3.11.4"
  }
 },
 "nbformat": 4,
 "nbformat_minor": 2
}
