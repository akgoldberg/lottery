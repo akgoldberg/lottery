{
 "cells": [
  {
   "cell_type": "code",
   "execution_count": 1,
   "id": "613a91e2",
   "metadata": {},
   "outputs": [],
   "source": [
    "# imports\n",
    "from merit import run_merit, systematic_sampling\n",
    "from helpers import swiss_nsf, plot_intervals\n",
    "import numpy as np"
   ]
  },
  {
   "cell_type": "markdown",
   "id": "b568b2e5",
   "metadata": {},
   "source": [
    "This notebook walks through an example of running the MERIT algorithm to randomly select proposals given a list of quality intervals for each proposal."
   ]
  },
  {
   "cell_type": "markdown",
   "id": "1ecf7679",
   "metadata": {},
   "source": [
    "## (1) Generate quality intervals for each proposal"
   ]
  },
  {
   "cell_type": "markdown",
   "id": "e6c42342",
   "metadata": {},
   "source": [
    "* Our method for random selection of proposals starts with *interval estimates* of the quality of each proposal. There are many ways to generate such intervals --- for example, you could use the min and max review score given to each proposal in peer review or use confidence intervals from a model estimated on review scores.\n",
    "\n",
    "*  In the example in this notebook, we will start by loading existing intervals from the file data/example_intervals.txt. In order to run MERIT on your own data, replace these intervals with your own intervals (which should be a list of tuples.)"
   ]
  },
  {
   "cell_type": "code",
   "execution_count": null,
   "id": "46e55fed",
   "metadata": {},
   "outputs": [],
   "source": [
    "# Read intervals from data/example_intervals.csv\n",
    "intervals = []\n",
    "with open('data/example_intervals.txt', 'r') as f:\n",
    "    for line in f:\n",
    "        start, end = map(float, line.strip().strip('()').split(','))\n",
    "        intervals.append((start, end))"
   ]
  },
  {
   "cell_type": "code",
   "execution_count": 3,
   "id": "731446d5",
   "metadata": {},
   "outputs": [
    {
     "data": {
      "text/plain": [
       "[(348.0, 352.0),\n",
       " (347.0, 351.0),\n",
       " (346.0, 351.0),\n",
       " (346.0, 351.0),\n",
       " (346.0, 351.0)]"
      ]
     },
     "execution_count": 3,
     "metadata": {},
     "output_type": "execute_result"
    }
   ],
   "source": [
    "# intervals is a list of tuples (lower, upper) representing the intervals\n",
    "intervals[:5]"
   ]
  },
  {
   "cell_type": "markdown",
   "id": "27e22e54",
   "metadata": {},
   "source": [
    "Below, we plot the top 50 proposals based on their point estimates ($x$). Note that higher values correspond to higher \"quality\" **so stronger candidates are those with higher scores.**"
   ]
  },
  {
   "cell_type": "code",
   "execution_count": 4,
   "id": "0da1e829",
   "metadata": {},
   "outputs": [
    {
     "data": {
      "image/png": "[encoded data removed]",
      "text/plain": [
       "<Figure size 640x480 with 1 Axes>"
      ]
     },
     "metadata": {},
     "output_type": "display_data"
    }
   ],
   "source": [
    "ax = plot_intervals(intervals[:50])"
   ]
  },
  {
   "cell_type": "markdown",
   "id": "289f5278",
   "metadata": {},
   "source": [
    "## (2) Run MERIT"
   ]
  },
  {
   "cell_type": "markdown",
   "id": "da9b95f9",
   "metadata": {},
   "source": [
    "We will choose $k=100$ out of $353$ intervals using MERIT. This is simple to do using the `run_merit` function. MERIT takes as input the list of intervals and the number of proposals to select ($k$). It returns the list of probabilities of selecting each proposal and the set of (randomly) selected proposals."
   ]
  },
  {
   "cell_type": "code",
   "execution_count": 5,
   "id": "6113057e",
   "metadata": {},
   "outputs": [],
   "source": [
    "k = 100"
   ]
  },
  {
   "cell_type": "code",
   "execution_count": 6,
   "id": "704da7fb",
   "metadata": {},
   "outputs": [],
   "source": [
    "selection_probabilities_merit, selected_proposals = run_merit(intervals, k)"
   ]
  },
  {
   "cell_type": "markdown",
   "id": "18ec6b5d",
   "metadata": {},
   "source": [
    "## (3) Compare to Swiss NSF selection mechanism"
   ]
  },
  {
   "cell_type": "markdown",
   "id": "f817dd9e",
   "metadata": {},
   "source": [
    "We can also compare the MERIT selection mechanism to selection using the Swiss NSF's approach (which sets a threshold as the k-th highest point estimate.) The Swiss NSF algorithm requires both intervals and point estimates of quality. Here, we will assume that the point estimates are just the midpoint of each interval."
   ]
  },
  {
   "cell_type": "code",
   "execution_count": 7,
   "id": "f23c0946",
   "metadata": {},
   "outputs": [],
   "source": [
    "# Point estimates are midpoint of each interval \n",
    "points = [(low + high) / 2 for low, high in intervals] "
   ]
  },
  {
   "cell_type": "code",
   "execution_count": 8,
   "id": "ba1b891f",
   "metadata": {},
   "outputs": [],
   "source": [
    "# Get selection probability of each proposal using Swiss NSF method\n",
    "selection_probabilities_swiss = swiss_nsf(intervals, points, k)\n",
    "# Sample proposals using systematic sampling\n",
    "selected_swiss = systematic_sampling(k, selection_probabilities_swiss)"
   ]
  },
  {
   "cell_type": "markdown",
   "id": "fcb7c80b",
   "metadata": {},
   "source": [
    "Below, we compare the selection probabilities under MERIT and the Swiss NSF method. 14 proposals have a higher chance of selection under the Swiss NSF method than MERIT and 7 have a lower change of selection."
   ]
  },
  {
   "cell_type": "code",
   "execution_count": 9,
   "id": "09580b42",
   "metadata": {},
   "outputs": [
    {
     "data": {
      "text/plain": [
       "(14,\n",
       " 7,\n",
       " array([-0.17836257, -0.17836257, -0.17836257, -0.17836257,  0.08479532,\n",
       "         0.08479532,  0.08479532,  0.08479532,  0.08479532,  0.08479532,\n",
       "         0.08479532,  0.08479532,  0.08479532,  0.08479532,  0.08479532,\n",
       "         0.08479532,  0.30584795,  0.30584795, -0.30526316, -0.30526316,\n",
       "        -0.30526316]))"
      ]
     },
     "execution_count": 9,
     "metadata": {},
     "output_type": "execute_result"
    }
   ],
   "source": [
    "diff = np.array(selection_probabilities_swiss) - np.array(selection_probabilities_merit)\n",
    "len(diff[diff > 0]), len(diff[diff < 0]), (diff[diff != 0])"
   ]
  }
 ],
 "metadata": {
  "kernelspec": {
   "display_name": "analysis",
   "language": "python",
   "name": "python3"
  },
  "language_info": {
   "codemirror_mode": {
    "name": "ipython",
    "version": 3
   },
   "file_extension": ".py",
   "mimetype": "text/x-python",
   "name": "python",
   "nbconvert_exporter": "python",
   "pygments_lexer": "ipython3",
   "version": "3.11.4"
  }
 },
 "nbformat": 4,
 "nbformat_minor": 5
}
