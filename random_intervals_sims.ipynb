{
 "cells": [
  {
   "cell_type": "code",
   "execution_count": 1,
   "metadata": {},
   "outputs": [],
   "source": [
    "from algorithm import *"
   ]
  },
  {
   "cell_type": "code",
   "execution_count": 2,
   "metadata": {},
   "outputs": [],
   "source": [
    "def generate_instance(n):\n",
    "    # generate n random intervals\n",
    "    intervals = []\n",
    "    for _ in range(n):\n",
    "        a = np.round(10*np.random.rand(), 2)\n",
    "        b = np.round(10*np.random.rand(), 2)\n",
    "        if a > b:\n",
    "            a, b = b, a\n",
    "        intervals.append((a,b))\n",
    "    return intervals"
   ]
  },
  {
   "cell_type": "code",
   "execution_count": 27,
   "metadata": {},
   "outputs": [],
   "source": [
    "I = generate_instance(10)\n",
    "# orer the intervals by LCB in decreasing order\n",
    "I.sort(key=lambda x: x[0], reverse=True)\n",
    "# get order of point estimates\n",
    "x = [np.mean(I) for I in I]\n",
    "# get order of x\n",
    "p_order = get_order_by_x(x)\n",
    "x_order = np.argsort(x)[::-1]"
   ]
  },
  {
   "cell_type": "code",
   "execution_count": 28,
   "metadata": {},
   "outputs": [
    {
     "data": {
      "text/plain": [
       "<Axes: xlabel='Interval', ylabel='Value'>"
      ]
     },
     "execution_count": 28,
     "metadata": {},
     "output_type": "execute_result"
    },
    {
     "data": {
      "image/png": "[encoded data removed]",
      "text/plain": [
       "<Figure size 640x480 with 1 Axes>"
      ]
     },
     "metadata": {},
     "output_type": "display_data"
    }
   ],
   "source": [
    "plot_intervals(I, x_order)"
   ]
  },
  {
   "cell_type": "code",
   "execution_count": 29,
   "metadata": {},
   "outputs": [
    {
     "name": "stdout",
     "output_type": "stream",
     "text": [
      "Not pruning the LP as a first step.\n",
      "Solving with 22 constraints.\n",
      "Solved with optimal value: 0.5714285714287937 out of 2.\n"
     ]
    }
   ],
   "source": [
    "v, p = solve_instance_ordered(I, 2, 2, p_order, lex_order_p=0, prune=False)"
   ]
  },
  {
   "cell_type": "code",
   "execution_count": 30,
   "metadata": {},
   "outputs": [
    {
     "data": {
      "text/plain": [
       "array([0.29, 0.29, 0.29, 0.29, 0.29, 0.29, 0.29, 0.  , 0.  , 0.  ])"
      ]
     },
     "execution_count": 30,
     "metadata": {},
     "output_type": "execute_result"
    }
   ],
   "source": [
    "np.round([p[i] for i in x_order], 2)"
   ]
  },
  {
   "cell_type": "code",
   "execution_count": null,
   "metadata": {},
   "outputs": [],
   "source": []
  }
 ],
 "metadata": {
  "kernelspec": {
   "display_name": "analysis",
   "language": "python",
   "name": "python3"
  },
  "language_info": {
   "codemirror_mode": {
    "name": "ipython",
    "version": 3
   },
   "file_extension": ".py",
   "mimetype": "text/x-python",
   "name": "python",
   "nbconvert_exporter": "python",
   "pygments_lexer": "ipython3",
   "version": "3.11.4"
  }
 },
 "nbformat": 4,
 "nbformat_minor": 2
}
